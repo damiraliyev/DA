{
 "cells": [
  {
   "cell_type": "code",
   "execution_count": 74,
   "id": "40e52db5",
   "metadata": {},
   "outputs": [
    {
     "data": {
      "text/html": [
       "<div>\n",
       "<style scoped>\n",
       "    .dataframe tbody tr th:only-of-type {\n",
       "        vertical-align: middle;\n",
       "    }\n",
       "\n",
       "    .dataframe tbody tr th {\n",
       "        vertical-align: top;\n",
       "    }\n",
       "\n",
       "    .dataframe thead th {\n",
       "        text-align: right;\n",
       "    }\n",
       "</style>\n",
       "<table border=\"1\" class=\"dataframe\">\n",
       "  <thead>\n",
       "    <tr style=\"text-align: right;\">\n",
       "      <th></th>\n",
       "      <th>Unnamed: 0.1</th>\n",
       "      <th>Unnamed: 0</th>\n",
       "      <th>serie</th>\n",
       "      <th>cpu_manufacturer</th>\n",
       "      <th>core</th>\n",
       "      <th>cpu_frequency</th>\n",
       "      <th>cpu_series</th>\n",
       "      <th>memory_size</th>\n",
       "      <th>memory_type</th>\n",
       "      <th>RAM</th>\n",
       "      <th>resolution</th>\n",
       "      <th>matrix_type</th>\n",
       "      <th>videocard</th>\n",
       "      <th>weight</th>\n",
       "      <th>laptop_class</th>\n",
       "      <th>prices</th>\n",
       "    </tr>\n",
       "  </thead>\n",
       "  <tbody>\n",
       "    <tr>\n",
       "      <th>0</th>\n",
       "      <td>0</td>\n",
       "      <td>0</td>\n",
       "      <td>Asus TUF Gaming F15</td>\n",
       "      <td>Intel</td>\n",
       "      <td>6.0</td>\n",
       "      <td>2.6</td>\n",
       "      <td>Intel Core i5</td>\n",
       "      <td>512.0</td>\n",
       "      <td>SSD</td>\n",
       "      <td>16.0</td>\n",
       "      <td>1920x1080 Full HD</td>\n",
       "      <td>IPS</td>\n",
       "      <td>NGF RTX3050</td>\n",
       "      <td>2.30</td>\n",
       "      <td>Gaming</td>\n",
       "      <td>579990</td>\n",
       "    </tr>\n",
       "    <tr>\n",
       "      <th>1</th>\n",
       "      <td>1</td>\n",
       "      <td>1</td>\n",
       "      <td>HUAWEI MateBook D15</td>\n",
       "      <td>Intel</td>\n",
       "      <td>2.0</td>\n",
       "      <td>3.0</td>\n",
       "      <td>Intel Core i3</td>\n",
       "      <td>256.0</td>\n",
       "      <td>SSD</td>\n",
       "      <td>8.0</td>\n",
       "      <td>1920x1080 Full HD</td>\n",
       "      <td>IPS</td>\n",
       "      <td>Integrated</td>\n",
       "      <td>1.62</td>\n",
       "      <td>Non-gaming</td>\n",
       "      <td>299990</td>\n",
       "    </tr>\n",
       "    <tr>\n",
       "      <th>2</th>\n",
       "      <td>2</td>\n",
       "      <td>2</td>\n",
       "      <td>Asus X515JA</td>\n",
       "      <td>Intel</td>\n",
       "      <td>4.0</td>\n",
       "      <td>1.0</td>\n",
       "      <td>Intel Core i5</td>\n",
       "      <td>512.0</td>\n",
       "      <td>SSD</td>\n",
       "      <td>8.0</td>\n",
       "      <td>1920x1080 Full HD</td>\n",
       "      <td>IPS</td>\n",
       "      <td>Integrated</td>\n",
       "      <td>1.80</td>\n",
       "      <td>Non-gaming</td>\n",
       "      <td>299990</td>\n",
       "    </tr>\n",
       "    <tr>\n",
       "      <th>3</th>\n",
       "      <td>3</td>\n",
       "      <td>3</td>\n",
       "      <td>Asus X515JA</td>\n",
       "      <td>Intel</td>\n",
       "      <td>2.0</td>\n",
       "      <td>1.2</td>\n",
       "      <td>Intel Core i3</td>\n",
       "      <td>256.0</td>\n",
       "      <td>SSD</td>\n",
       "      <td>8.0</td>\n",
       "      <td>1920x1080 Full HD</td>\n",
       "      <td>IPS</td>\n",
       "      <td>Integrated</td>\n",
       "      <td>1.80</td>\n",
       "      <td>Non-gaming</td>\n",
       "      <td>219990</td>\n",
       "    </tr>\n",
       "    <tr>\n",
       "      <th>4</th>\n",
       "      <td>4</td>\n",
       "      <td>4</td>\n",
       "      <td>Asus TUF Gaming F15</td>\n",
       "      <td>Intel</td>\n",
       "      <td>4.0</td>\n",
       "      <td>2.5</td>\n",
       "      <td>Intel Core i5</td>\n",
       "      <td>512.0</td>\n",
       "      <td>SSD</td>\n",
       "      <td>16.0</td>\n",
       "      <td>1920x1080 Full HD</td>\n",
       "      <td>IPS</td>\n",
       "      <td>NGF GTX 1650</td>\n",
       "      <td>2.30</td>\n",
       "      <td>Gaming</td>\n",
       "      <td>489990</td>\n",
       "    </tr>\n",
       "  </tbody>\n",
       "</table>\n",
       "</div>"
      ],
      "text/plain": [
       "   Unnamed: 0.1  Unnamed: 0                serie cpu_manufacturer  core  \\\n",
       "0             0           0  Asus TUF Gaming F15            Intel   6.0   \n",
       "1             1           1  HUAWEI MateBook D15            Intel   2.0   \n",
       "2             2           2          Asus X515JA            Intel   4.0   \n",
       "3             3           3          Asus X515JA            Intel   2.0   \n",
       "4             4           4  Asus TUF Gaming F15            Intel   4.0   \n",
       "\n",
       "   cpu_frequency     cpu_series  memory_size memory_type   RAM  \\\n",
       "0            2.6  Intel Core i5        512.0         SSD  16.0   \n",
       "1            3.0  Intel Core i3        256.0         SSD   8.0   \n",
       "2            1.0  Intel Core i5        512.0         SSD   8.0   \n",
       "3            1.2  Intel Core i3        256.0         SSD   8.0   \n",
       "4            2.5  Intel Core i5        512.0         SSD  16.0   \n",
       "\n",
       "          resolution matrix_type     videocard  weight laptop_class  prices  \n",
       "0  1920x1080 Full HD         IPS   NGF RTX3050    2.30       Gaming  579990  \n",
       "1  1920x1080 Full HD         IPS    Integrated    1.62   Non-gaming  299990  \n",
       "2  1920x1080 Full HD         IPS    Integrated    1.80   Non-gaming  299990  \n",
       "3  1920x1080 Full HD         IPS    Integrated    1.80   Non-gaming  219990  \n",
       "4  1920x1080 Full HD         IPS  NGF GTX 1650    2.30       Gaming  489990  "
      ]
     },
     "execution_count": 74,
     "metadata": {},
     "output_type": "execute_result"
    }
   ],
   "source": [
    "import pandas as pd\n",
    "\n",
    "df = pd.read_csv(\"cleaned_data.csv\")\n",
    "df.head()"
   ]
  },
  {
   "cell_type": "code",
   "execution_count": 75,
   "id": "f39201ae",
   "metadata": {
    "scrolled": true
   },
   "outputs": [
    {
     "data": {
      "text/html": [
       "<div>\n",
       "<style scoped>\n",
       "    .dataframe tbody tr th:only-of-type {\n",
       "        vertical-align: middle;\n",
       "    }\n",
       "\n",
       "    .dataframe tbody tr th {\n",
       "        vertical-align: top;\n",
       "    }\n",
       "\n",
       "    .dataframe thead th {\n",
       "        text-align: right;\n",
       "    }\n",
       "</style>\n",
       "<table border=\"1\" class=\"dataframe\">\n",
       "  <thead>\n",
       "    <tr style=\"text-align: right;\">\n",
       "      <th></th>\n",
       "      <th>Unnamed: 0.1</th>\n",
       "      <th>Unnamed: 0</th>\n",
       "      <th>serie</th>\n",
       "      <th>cpu_manufacturer</th>\n",
       "      <th>core</th>\n",
       "      <th>cpu_frequency</th>\n",
       "      <th>cpu_series</th>\n",
       "      <th>memory_size</th>\n",
       "      <th>memory_type</th>\n",
       "      <th>RAM</th>\n",
       "      <th>resolution</th>\n",
       "      <th>matrix_type</th>\n",
       "      <th>videocard</th>\n",
       "      <th>weight</th>\n",
       "      <th>laptop_class</th>\n",
       "      <th>prices</th>\n",
       "      <th>Company</th>\n",
       "    </tr>\n",
       "  </thead>\n",
       "  <tbody>\n",
       "    <tr>\n",
       "      <th>0</th>\n",
       "      <td>0</td>\n",
       "      <td>0</td>\n",
       "      <td>Asus TUF Gaming F15</td>\n",
       "      <td>Intel</td>\n",
       "      <td>6.0</td>\n",
       "      <td>2.6</td>\n",
       "      <td>Intel Core i5</td>\n",
       "      <td>512.0</td>\n",
       "      <td>SSD</td>\n",
       "      <td>16.0</td>\n",
       "      <td>1920x1080 Full HD</td>\n",
       "      <td>IPS</td>\n",
       "      <td>NGF RTX3050</td>\n",
       "      <td>2.30</td>\n",
       "      <td>Gaming</td>\n",
       "      <td>579990</td>\n",
       "      <td>Asus</td>\n",
       "    </tr>\n",
       "    <tr>\n",
       "      <th>1</th>\n",
       "      <td>1</td>\n",
       "      <td>1</td>\n",
       "      <td>HUAWEI MateBook D15</td>\n",
       "      <td>Intel</td>\n",
       "      <td>2.0</td>\n",
       "      <td>3.0</td>\n",
       "      <td>Intel Core i3</td>\n",
       "      <td>256.0</td>\n",
       "      <td>SSD</td>\n",
       "      <td>8.0</td>\n",
       "      <td>1920x1080 Full HD</td>\n",
       "      <td>IPS</td>\n",
       "      <td>Integrated</td>\n",
       "      <td>1.62</td>\n",
       "      <td>Non-gaming</td>\n",
       "      <td>299990</td>\n",
       "      <td>HUAWEI</td>\n",
       "    </tr>\n",
       "    <tr>\n",
       "      <th>2</th>\n",
       "      <td>2</td>\n",
       "      <td>2</td>\n",
       "      <td>Asus X515JA</td>\n",
       "      <td>Intel</td>\n",
       "      <td>4.0</td>\n",
       "      <td>1.0</td>\n",
       "      <td>Intel Core i5</td>\n",
       "      <td>512.0</td>\n",
       "      <td>SSD</td>\n",
       "      <td>8.0</td>\n",
       "      <td>1920x1080 Full HD</td>\n",
       "      <td>IPS</td>\n",
       "      <td>Integrated</td>\n",
       "      <td>1.80</td>\n",
       "      <td>Non-gaming</td>\n",
       "      <td>299990</td>\n",
       "      <td>Asus</td>\n",
       "    </tr>\n",
       "    <tr>\n",
       "      <th>3</th>\n",
       "      <td>3</td>\n",
       "      <td>3</td>\n",
       "      <td>Asus X515JA</td>\n",
       "      <td>Intel</td>\n",
       "      <td>2.0</td>\n",
       "      <td>1.2</td>\n",
       "      <td>Intel Core i3</td>\n",
       "      <td>256.0</td>\n",
       "      <td>SSD</td>\n",
       "      <td>8.0</td>\n",
       "      <td>1920x1080 Full HD</td>\n",
       "      <td>IPS</td>\n",
       "      <td>Integrated</td>\n",
       "      <td>1.80</td>\n",
       "      <td>Non-gaming</td>\n",
       "      <td>219990</td>\n",
       "      <td>Asus</td>\n",
       "    </tr>\n",
       "    <tr>\n",
       "      <th>4</th>\n",
       "      <td>4</td>\n",
       "      <td>4</td>\n",
       "      <td>Asus TUF Gaming F15</td>\n",
       "      <td>Intel</td>\n",
       "      <td>4.0</td>\n",
       "      <td>2.5</td>\n",
       "      <td>Intel Core i5</td>\n",
       "      <td>512.0</td>\n",
       "      <td>SSD</td>\n",
       "      <td>16.0</td>\n",
       "      <td>1920x1080 Full HD</td>\n",
       "      <td>IPS</td>\n",
       "      <td>NGF GTX 1650</td>\n",
       "      <td>2.30</td>\n",
       "      <td>Gaming</td>\n",
       "      <td>489990</td>\n",
       "      <td>Asus</td>\n",
       "    </tr>\n",
       "    <tr>\n",
       "      <th>...</th>\n",
       "      <td>...</td>\n",
       "      <td>...</td>\n",
       "      <td>...</td>\n",
       "      <td>...</td>\n",
       "      <td>...</td>\n",
       "      <td>...</td>\n",
       "      <td>...</td>\n",
       "      <td>...</td>\n",
       "      <td>...</td>\n",
       "      <td>...</td>\n",
       "      <td>...</td>\n",
       "      <td>...</td>\n",
       "      <td>...</td>\n",
       "      <td>...</td>\n",
       "      <td>...</td>\n",
       "      <td>...</td>\n",
       "      <td>...</td>\n",
       "    </tr>\n",
       "    <tr>\n",
       "      <th>91</th>\n",
       "      <td>91</td>\n",
       "      <td>91</td>\n",
       "      <td>Gigabyte U4 UD</td>\n",
       "      <td>Intel</td>\n",
       "      <td>4.0</td>\n",
       "      <td>2.5</td>\n",
       "      <td>Intel Core i7</td>\n",
       "      <td>512.0</td>\n",
       "      <td>SSD</td>\n",
       "      <td>16.0</td>\n",
       "      <td>1920x1080 Full HD</td>\n",
       "      <td>IPS</td>\n",
       "      <td>Integrated</td>\n",
       "      <td>1.00</td>\n",
       "      <td>Non-gaming</td>\n",
       "      <td>476390</td>\n",
       "      <td>Gigabyte</td>\n",
       "    </tr>\n",
       "    <tr>\n",
       "      <th>92</th>\n",
       "      <td>92</td>\n",
       "      <td>92</td>\n",
       "      <td>Gigabyte AERO 16 KE5</td>\n",
       "      <td>Intel</td>\n",
       "      <td>14.0</td>\n",
       "      <td>2.3</td>\n",
       "      <td>Intel Core i7</td>\n",
       "      <td>1000.0</td>\n",
       "      <td>SSD</td>\n",
       "      <td>16.0</td>\n",
       "      <td>3840x2400 WQUXGA</td>\n",
       "      <td>IPS</td>\n",
       "      <td>NGF RTX 3060</td>\n",
       "      <td>1.80</td>\n",
       "      <td>Gaming</td>\n",
       "      <td>1317890</td>\n",
       "      <td>Gigabyte</td>\n",
       "    </tr>\n",
       "    <tr>\n",
       "      <th>93</th>\n",
       "      <td>93</td>\n",
       "      <td>93</td>\n",
       "      <td>Gigabyte G7 KE</td>\n",
       "      <td>Intel</td>\n",
       "      <td>6.0</td>\n",
       "      <td>2.5</td>\n",
       "      <td>Intel Core i5</td>\n",
       "      <td>512.0</td>\n",
       "      <td>SSD</td>\n",
       "      <td>16.0</td>\n",
       "      <td>1920x1080 Full HD</td>\n",
       "      <td>IPS</td>\n",
       "      <td>NGF RTX 3060P</td>\n",
       "      <td>2.40</td>\n",
       "      <td>Gaming</td>\n",
       "      <td>649490</td>\n",
       "      <td>Gigabyte</td>\n",
       "    </tr>\n",
       "    <tr>\n",
       "      <th>94</th>\n",
       "      <td>94</td>\n",
       "      <td>94</td>\n",
       "      <td>Gigabyte G7 KE</td>\n",
       "      <td>Intel</td>\n",
       "      <td>12.0</td>\n",
       "      <td>2.5</td>\n",
       "      <td>Intel Core i5</td>\n",
       "      <td>512.0</td>\n",
       "      <td>SSD</td>\n",
       "      <td>16.0</td>\n",
       "      <td>1920x1080 Full HD</td>\n",
       "      <td>IPS</td>\n",
       "      <td>NGF RTX 3060P</td>\n",
       "      <td>2.40</td>\n",
       "      <td>Gaming</td>\n",
       "      <td>719490</td>\n",
       "      <td>Gigabyte</td>\n",
       "    </tr>\n",
       "    <tr>\n",
       "      <th>95</th>\n",
       "      <td>95</td>\n",
       "      <td>95</td>\n",
       "      <td>Gigabyte G7 ME</td>\n",
       "      <td>Intel</td>\n",
       "      <td>12.0</td>\n",
       "      <td>2.5</td>\n",
       "      <td>Intel Core i5</td>\n",
       "      <td>512.0</td>\n",
       "      <td>SSD</td>\n",
       "      <td>16.0</td>\n",
       "      <td>1920x1080 Full HD</td>\n",
       "      <td>IPS</td>\n",
       "      <td>NGF RTX 3050 Ti</td>\n",
       "      <td>2.50</td>\n",
       "      <td>Gaming</td>\n",
       "      <td>654490</td>\n",
       "      <td>Gigabyte</td>\n",
       "    </tr>\n",
       "  </tbody>\n",
       "</table>\n",
       "<p>96 rows × 17 columns</p>\n",
       "</div>"
      ],
      "text/plain": [
       "    Unnamed: 0.1  Unnamed: 0                 serie cpu_manufacturer  core  \\\n",
       "0              0           0   Asus TUF Gaming F15            Intel   6.0   \n",
       "1              1           1   HUAWEI MateBook D15            Intel   2.0   \n",
       "2              2           2           Asus X515JA            Intel   4.0   \n",
       "3              3           3           Asus X515JA            Intel   2.0   \n",
       "4              4           4   Asus TUF Gaming F15            Intel   4.0   \n",
       "..           ...         ...                   ...              ...   ...   \n",
       "91            91          91        Gigabyte U4 UD            Intel   4.0   \n",
       "92            92          92  Gigabyte AERO 16 KE5            Intel  14.0   \n",
       "93            93          93        Gigabyte G7 KE            Intel   6.0   \n",
       "94            94          94        Gigabyte G7 KE            Intel  12.0   \n",
       "95            95          95        Gigabyte G7 ME            Intel  12.0   \n",
       "\n",
       "    cpu_frequency     cpu_series  memory_size memory_type   RAM  \\\n",
       "0             2.6  Intel Core i5        512.0         SSD  16.0   \n",
       "1             3.0  Intel Core i3        256.0         SSD   8.0   \n",
       "2             1.0  Intel Core i5        512.0         SSD   8.0   \n",
       "3             1.2  Intel Core i3        256.0         SSD   8.0   \n",
       "4             2.5  Intel Core i5        512.0         SSD  16.0   \n",
       "..            ...            ...          ...         ...   ...   \n",
       "91            2.5  Intel Core i7        512.0         SSD  16.0   \n",
       "92            2.3  Intel Core i7       1000.0         SSD  16.0   \n",
       "93            2.5  Intel Core i5        512.0         SSD  16.0   \n",
       "94            2.5  Intel Core i5        512.0         SSD  16.0   \n",
       "95            2.5  Intel Core i5        512.0         SSD  16.0   \n",
       "\n",
       "           resolution matrix_type        videocard  weight laptop_class  \\\n",
       "0   1920x1080 Full HD         IPS      NGF RTX3050    2.30       Gaming   \n",
       "1   1920x1080 Full HD         IPS       Integrated    1.62   Non-gaming   \n",
       "2   1920x1080 Full HD         IPS       Integrated    1.80   Non-gaming   \n",
       "3   1920x1080 Full HD         IPS       Integrated    1.80   Non-gaming   \n",
       "4   1920x1080 Full HD         IPS     NGF GTX 1650    2.30       Gaming   \n",
       "..                ...         ...              ...     ...          ...   \n",
       "91  1920x1080 Full HD         IPS       Integrated    1.00   Non-gaming   \n",
       "92   3840x2400 WQUXGA         IPS     NGF RTX 3060    1.80       Gaming   \n",
       "93  1920x1080 Full HD         IPS    NGF RTX 3060P    2.40       Gaming   \n",
       "94  1920x1080 Full HD         IPS    NGF RTX 3060P    2.40       Gaming   \n",
       "95  1920x1080 Full HD         IPS  NGF RTX 3050 Ti    2.50       Gaming   \n",
       "\n",
       "     prices   Company  \n",
       "0    579990      Asus  \n",
       "1    299990    HUAWEI  \n",
       "2    299990      Asus  \n",
       "3    219990      Asus  \n",
       "4    489990      Asus  \n",
       "..      ...       ...  \n",
       "91   476390  Gigabyte  \n",
       "92  1317890  Gigabyte  \n",
       "93   649490  Gigabyte  \n",
       "94   719490  Gigabyte  \n",
       "95   654490  Gigabyte  \n",
       "\n",
       "[96 rows x 17 columns]"
      ]
     },
     "execution_count": 75,
     "metadata": {},
     "output_type": "execute_result"
    }
   ],
   "source": [
    "df['Company'] = df.serie.str.split(\" \", n=1).str[0]\n",
    "df"
   ]
  },
  {
   "cell_type": "code",
   "execution_count": 76,
   "id": "e232d22e",
   "metadata": {},
   "outputs": [],
   "source": [
    "#I. In the first visualization, we decided to count the number of laptops on each company. "
   ]
  },
  {
   "cell_type": "code",
   "execution_count": 77,
   "id": "f9684274",
   "metadata": {
    "scrolled": true
   },
   "outputs": [
    {
     "data": {
      "text/plain": [
       "['Asus', 'HUAWEI', 'HP', 'Lenovo', 'Apple', 'LG', 'Gigabyte']"
      ]
     },
     "execution_count": 77,
     "metadata": {},
     "output_type": "execute_result"
    }
   ],
   "source": [
    "company_name_list = list(df['Company'].drop_duplicates())\n",
    "company_name_list"
   ]
  },
  {
   "cell_type": "code",
   "execution_count": 78,
   "id": "69ab9f8d",
   "metadata": {},
   "outputs": [
    {
     "data": {
      "text/plain": [
       "{'Asus': 40,\n",
       " 'HUAWEI': 5,\n",
       " 'HP': 14,\n",
       " 'Lenovo': 14,\n",
       " 'Apple': 15,\n",
       " 'LG': 2,\n",
       " 'Gigabyte': 6}"
      ]
     },
     "execution_count": 78,
     "metadata": {},
     "output_type": "execute_result"
    }
   ],
   "source": [
    "laptops_count_dict = {}\n",
    "\n",
    "for i in company_name_list:\n",
    "    company = df[df['Company'] == i]\n",
    "    laptops_count_dict[i] = len(company)\n",
    "    \n",
    "laptops_count_dict"
   ]
  },
  {
   "cell_type": "code",
   "execution_count": 79,
   "id": "f3582d13",
   "metadata": {},
   "outputs": [
    {
     "data": {
      "text/html": [
       "<div>\n",
       "<style scoped>\n",
       "    .dataframe tbody tr th:only-of-type {\n",
       "        vertical-align: middle;\n",
       "    }\n",
       "\n",
       "    .dataframe tbody tr th {\n",
       "        vertical-align: top;\n",
       "    }\n",
       "\n",
       "    .dataframe thead th {\n",
       "        text-align: right;\n",
       "    }\n",
       "</style>\n",
       "<table border=\"1\" class=\"dataframe\">\n",
       "  <thead>\n",
       "    <tr style=\"text-align: right;\">\n",
       "      <th></th>\n",
       "      <th>Company</th>\n",
       "      <th>Quantity</th>\n",
       "    </tr>\n",
       "  </thead>\n",
       "  <tbody>\n",
       "    <tr>\n",
       "      <th>5</th>\n",
       "      <td>LG</td>\n",
       "      <td>2</td>\n",
       "    </tr>\n",
       "    <tr>\n",
       "      <th>1</th>\n",
       "      <td>HUAWEI</td>\n",
       "      <td>5</td>\n",
       "    </tr>\n",
       "    <tr>\n",
       "      <th>6</th>\n",
       "      <td>Gigabyte</td>\n",
       "      <td>6</td>\n",
       "    </tr>\n",
       "    <tr>\n",
       "      <th>2</th>\n",
       "      <td>HP</td>\n",
       "      <td>14</td>\n",
       "    </tr>\n",
       "    <tr>\n",
       "      <th>3</th>\n",
       "      <td>Lenovo</td>\n",
       "      <td>14</td>\n",
       "    </tr>\n",
       "    <tr>\n",
       "      <th>4</th>\n",
       "      <td>Apple</td>\n",
       "      <td>15</td>\n",
       "    </tr>\n",
       "    <tr>\n",
       "      <th>0</th>\n",
       "      <td>Asus</td>\n",
       "      <td>40</td>\n",
       "    </tr>\n",
       "  </tbody>\n",
       "</table>\n",
       "</div>"
      ],
      "text/plain": [
       "    Company  Quantity\n",
       "5        LG         2\n",
       "1    HUAWEI         5\n",
       "6  Gigabyte         6\n",
       "2        HP        14\n",
       "3    Lenovo        14\n",
       "4     Apple        15\n",
       "0      Asus        40"
      ]
     },
     "execution_count": 79,
     "metadata": {},
     "output_type": "execute_result"
    }
   ],
   "source": [
    "laptop_df = pd.DataFrame(laptops_count_dict.items(), columns=['Company', 'Quantity'])\n",
    "laptop_df = laptop_df.sort_values(\"Quantity\")\n",
    "laptop_df"
   ]
  },
  {
   "cell_type": "code",
   "execution_count": 80,
   "id": "8fb9e565",
   "metadata": {},
   "outputs": [
    {
     "data": {
      "image/png": "[encoded data removed]",
      "text/plain": [
       "<Figure size 432x288 with 1 Axes>"
      ]
     },
     "metadata": {
      "needs_background": "light"
     },
     "output_type": "display_data"
    }
   ],
   "source": [
    "import matplotlib.pyplot as plt\n",
    "import seaborn as sns \n",
    "\n",
    "# Data to plot\n",
    "sns.barplot(x=laptop_df['Company'], y = laptop_df['Quantity'])\n",
    "plt.xlabel('Company') \n",
    "plt.ylabel('Quantity of laptops') \n",
    "plt.tight_layout()\n",
    "plt.show()"
   ]
  },
  {
   "cell_type": "code",
   "execution_count": 81,
   "id": "02e66aab",
   "metadata": {},
   "outputs": [
    {
     "data": {
      "application/vnd.plotly.v1+json": {
       "config": {
        "plotlyServerURL": "https://plot.ly"
       },
       "data": [
        {
         "domain": {
          "x": [
           0,
           1
          ],
          "y": [
           0,
           1
          ]
         },
         "hovertemplate": "label=%{label}<br>value=%{value}<extra></extra>",
         "labels": [
          "LG",
          "HUAWEI",
          "Gigabyte",
          "HP",
          "Lenovo",
          "Apple",
          "Asus"
         ],
         "legendgroup": "",
         "marker": {
          "line": {
           "color": "#FFFFFF",
           "width": 2
          }
         },
         "name": "",
         "showlegend": true,
         "textfont": {
          "size": 12
         },
         "textinfo": "percent+label+value",
         "textposition": "outside",
         "type": "pie",
         "values": [
          2,
          5,
          6,
          14,
          14,
          15,
          40
         ]
        }
       ],
       "layout": {
        "legend": {
         "tracegroupgap": 0
        },
        "margin": {
         "t": 60
        },
        "piecolorway": [
         "rgb(103,0,31)",
         "rgb(178,24,43)",
         "rgb(214,96,77)",
         "rgb(244,165,130)",
         "rgb(253,219,199)",
         "rgb(247,247,247)",
         "rgb(209,229,240)",
         "rgb(146,197,222)",
         "rgb(67,147,195)",
         "rgb(33,102,172)",
         "rgb(5,48,97)"
        ],
        "template": {
         "data": {
          "bar": [
           {
            "error_x": {
             "color": "#2a3f5f"
            },
            "error_y": {
             "color": "#2a3f5f"
            },
            "marker": {
             "line": {
              "color": "#E5ECF6",
              "width": 0.5
             },
             "pattern": {
              "fillmode": "overlay",
              "size": 10,
              "solidity": 0.2
             }
            },
            "type": "bar"
           }
          ],
          "barpolar": [
           {
            "marker": {
             "line": {
              "color": "#E5ECF6",
              "width": 0.5
             },
             "pattern": {
              "fillmode": "overlay",
              "size": 10,
              "solidity": 0.2
             }
            },
            "type": "barpolar"
           }
          ],
          "carpet": [
           {
            "aaxis": {
             "endlinecolor": "#2a3f5f",
             "gridcolor": "white",
             "linecolor": "white",
             "minorgridcolor": "white",
             "startlinecolor": "#2a3f5f"
            },
            "baxis": {
             "endlinecolor": "#2a3f5f",
             "gridcolor": "white",
             "linecolor": "white",
             "minorgridcolor": "white",
             "startlinecolor": "#2a3f5f"
            },
            "type": "carpet"
           }
          ],
          "choropleth": [
           {
            "colorbar": {
             "outlinewidth": 0,
             "ticks": ""
            },
            "type": "choropleth"
           }
          ],
          "contour": [
           {
            "colorbar": {
             "outlinewidth": 0,
             "ticks": ""
            },
            "colorscale": [
             [
              0,
              "#0d0887"
             ],
             [
              0.1111111111111111,
              "#46039f"
             ],
             [
              0.2222222222222222,
              "#7201a8"
             ],
             [
              0.3333333333333333,
              "#9c179e"
             ],
             [
              0.4444444444444444,
              "#bd3786"
             ],
             [
              0.5555555555555556,
              "#d8576b"
             ],
             [
              0.6666666666666666,
              "#ed7953"
             ],
             [
              0.7777777777777778,
              "#fb9f3a"
             ],
             [
              0.8888888888888888,
              "#fdca26"
             ],
             [
              1,
              "#f0f921"
             ]
            ],
            "type": "contour"
           }
          ],
          "contourcarpet": [
           {
            "colorbar": {
             "outlinewidth": 0,
             "ticks": ""
            },
            "type": "contourcarpet"
           }
          ],
          "heatmap": [
           {
            "colorbar": {
             "outlinewidth": 0,
             "ticks": ""
            },
            "colorscale": [
             [
              0,
              "#0d0887"
             ],
             [
              0.1111111111111111,
              "#46039f"
             ],
             [
              0.2222222222222222,
              "#7201a8"
             ],
             [
              0.3333333333333333,
              "#9c179e"
             ],
             [
              0.4444444444444444,
              "#bd3786"
             ],
             [
              0.5555555555555556,
              "#d8576b"
             ],
             [
              0.6666666666666666,
              "#ed7953"
             ],
             [
              0.7777777777777778,
              "#fb9f3a"
             ],
             [
              0.8888888888888888,
              "#fdca26"
             ],
             [
              1,
              "#f0f921"
             ]
            ],
            "type": "heatmap"
           }
          ],
          "heatmapgl": [
           {
            "colorbar": {
             "outlinewidth": 0,
             "ticks": ""
            },
            "colorscale": [
             [
              0,
              "#0d0887"
             ],
             [
              0.1111111111111111,
              "#46039f"
             ],
             [
              0.2222222222222222,
              "#7201a8"
             ],
             [
              0.3333333333333333,
              "#9c179e"
             ],
             [
              0.4444444444444444,
              "#bd3786"
             ],
             [
              0.5555555555555556,
              "#d8576b"
             ],
             [
              0.6666666666666666,
              "#ed7953"
             ],
             [
              0.7777777777777778,
              "#fb9f3a"
             ],
             [
              0.8888888888888888,
              "#fdca26"
             ],
             [
              1,
              "#f0f921"
             ]
            ],
            "type": "heatmapgl"
           }
          ],
          "histogram": [
           {
            "marker": {
             "pattern": {
              "fillmode": "overlay",
              "size": 10,
              "solidity": 0.2
             }
            },
            "type": "histogram"
           }
          ],
          "histogram2d": [
           {
            "colorbar": {
             "outlinewidth": 0,
             "ticks": ""
            },
            "colorscale": [
             [
              0,
              "#0d0887"
             ],
             [
              0.1111111111111111,
              "#46039f"
             ],
             [
              0.2222222222222222,
              "#7201a8"
             ],
             [
              0.3333333333333333,
              "#9c179e"
             ],
             [
              0.4444444444444444,
              "#bd3786"
             ],
             [
              0.5555555555555556,
              "#d8576b"
             ],
             [
              0.6666666666666666,
              "#ed7953"
             ],
             [
              0.7777777777777778,
              "#fb9f3a"
             ],
             [
              0.8888888888888888,
              "#fdca26"
             ],
             [
              1,
              "#f0f921"
             ]
            ],
            "type": "histogram2d"
           }
          ],
          "histogram2dcontour": [
           {
            "colorbar": {
             "outlinewidth": 0,
             "ticks": ""
            },
            "colorscale": [
             [
              0,
              "#0d0887"
             ],
             [
              0.1111111111111111,
              "#46039f"
             ],
             [
              0.2222222222222222,
              "#7201a8"
             ],
             [
              0.3333333333333333,
              "#9c179e"
             ],
             [
              0.4444444444444444,
              "#bd3786"
             ],
             [
              0.5555555555555556,
              "#d8576b"
             ],
             [
              0.6666666666666666,
              "#ed7953"
             ],
             [
              0.7777777777777778,
              "#fb9f3a"
             ],
             [
              0.8888888888888888,
              "#fdca26"
             ],
             [
              1,
              "#f0f921"
             ]
            ],
            "type": "histogram2dcontour"
           }
          ],
          "mesh3d": [
           {
            "colorbar": {
             "outlinewidth": 0,
             "ticks": ""
            },
            "type": "mesh3d"
           }
          ],
          "parcoords": [
           {
            "line": {
             "colorbar": {
              "outlinewidth": 0,
              "ticks": ""
             }
            },
            "type": "parcoords"
           }
          ],
          "pie": [
           {
            "automargin": true,
            "type": "pie"
           }
          ],
          "scatter": [
           {
            "marker": {
             "colorbar": {
              "outlinewidth": 0,
              "ticks": ""
             }
            },
            "type": "scatter"
           }
          ],
          "scatter3d": [
           {
            "line": {
             "colorbar": {
              "outlinewidth": 0,
              "ticks": ""
             }
            },
            "marker": {
             "colorbar": {
              "outlinewidth": 0,
              "ticks": ""
             }
            },
            "type": "scatter3d"
           }
          ],
          "scattercarpet": [
           {
            "marker": {
             "colorbar": {
              "outlinewidth": 0,
              "ticks": ""
             }
            },
            "type": "scattercarpet"
           }
          ],
          "scattergeo": [
           {
            "marker": {
             "colorbar": {
              "outlinewidth": 0,
              "ticks": ""
             }
            },
            "type": "scattergeo"
           }
          ],
          "scattergl": [
           {
            "marker": {
             "colorbar": {
              "outlinewidth": 0,
              "ticks": ""
             }
            },
            "type": "scattergl"
           }
          ],
          "scattermapbox": [
           {
            "marker": {
             "colorbar": {
              "outlinewidth": 0,
              "ticks": ""
             }
            },
            "type": "scattermapbox"
           }
          ],
          "scatterpolar": [
           {
            "marker": {
             "colorbar": {
              "outlinewidth": 0,
              "ticks": ""
             }
            },
            "type": "scatterpolar"
           }
          ],
          "scatterpolargl": [
           {
            "marker": {
             "colorbar": {
              "outlinewidth": 0,
              "ticks": ""
             }
            },
            "type": "scatterpolargl"
           }
          ],
          "scatterternary": [
           {
            "marker": {
             "colorbar": {
              "outlinewidth": 0,
              "ticks": ""
             }
            },
            "type": "scatterternary"
           }
          ],
          "surface": [
           {
            "colorbar": {
             "outlinewidth": 0,
             "ticks": ""
            },
            "colorscale": [
             [
              0,
              "#0d0887"
             ],
             [
              0.1111111111111111,
              "#46039f"
             ],
             [
              0.2222222222222222,
              "#7201a8"
             ],
             [
              0.3333333333333333,
              "#9c179e"
             ],
             [
              0.4444444444444444,
              "#bd3786"
             ],
             [
              0.5555555555555556,
              "#d8576b"
             ],
             [
              0.6666666666666666,
              "#ed7953"
             ],
             [
              0.7777777777777778,
              "#fb9f3a"
             ],
             [
              0.8888888888888888,
              "#fdca26"
             ],
             [
              1,
              "#f0f921"
             ]
            ],
            "type": "surface"
           }
          ],
          "table": [
           {
            "cells": {
             "fill": {
              "color": "#EBF0F8"
             },
             "line": {
              "color": "white"
             }
            },
            "header": {
             "fill": {
              "color": "#C8D4E3"
             },
             "line": {
              "color": "white"
             }
            },
            "type": "table"
           }
          ]
         },
         "layout": {
          "annotationdefaults": {
           "arrowcolor": "#2a3f5f",
           "arrowhead": 0,
           "arrowwidth": 1
          },
          "autotypenumbers": "strict",
          "coloraxis": {
           "colorbar": {
            "outlinewidth": 0,
            "ticks": ""
           }
          },
          "colorscale": {
           "diverging": [
            [
             0,
             "#8e0152"
            ],
            [
             0.1,
             "#c51b7d"
            ],
            [
             0.2,
             "#de77ae"
            ],
            [
             0.3,
             "#f1b6da"
            ],
            [
             0.4,
             "#fde0ef"
            ],
            [
             0.5,
             "#f7f7f7"
            ],
            [
             0.6,
             "#e6f5d0"
            ],
            [
             0.7,
             "#b8e186"
            ],
            [
             0.8,
             "#7fbc41"
            ],
            [
             0.9,
             "#4d9221"
            ],
            [
             1,
             "#276419"
            ]
           ],
           "sequential": [
            [
             0,
             "#0d0887"
            ],
            [
             0.1111111111111111,
             "#46039f"
            ],
            [
             0.2222222222222222,
             "#7201a8"
            ],
            [
             0.3333333333333333,
             "#9c179e"
            ],
            [
             0.4444444444444444,
             "#bd3786"
            ],
            [
             0.5555555555555556,
             "#d8576b"
            ],
            [
             0.6666666666666666,
             "#ed7953"
            ],
            [
             0.7777777777777778,
             "#fb9f3a"
            ],
            [
             0.8888888888888888,
             "#fdca26"
            ],
            [
             1,
             "#f0f921"
            ]
           ],
           "sequentialminus": [
            [
             0,
             "#0d0887"
            ],
            [
             0.1111111111111111,
             "#46039f"
            ],
            [
             0.2222222222222222,
             "#7201a8"
            ],
            [
             0.3333333333333333,
             "#9c179e"
            ],
            [
             0.4444444444444444,
             "#bd3786"
            ],
            [
             0.5555555555555556,
             "#d8576b"
            ],
            [
             0.6666666666666666,
             "#ed7953"
            ],
            [
             0.7777777777777778,
             "#fb9f3a"
            ],
            [
             0.8888888888888888,
             "#fdca26"
            ],
            [
             1,
             "#f0f921"
            ]
           ]
          },
          "colorway": [
           "#636efa",
           "#EF553B",
           "#00cc96",
           "#ab63fa",
           "#FFA15A",
           "#19d3f3",
           "#FF6692",
           "#B6E880",
           "#FF97FF",
           "#FECB52"
          ],
          "font": {
           "color": "#2a3f5f"
          },
          "geo": {
           "bgcolor": "white",
           "lakecolor": "white",
           "landcolor": "#E5ECF6",
           "showlakes": true,
           "showland": true,
           "subunitcolor": "white"
          },
          "hoverlabel": {
           "align": "left"
          },
          "hovermode": "closest",
          "mapbox": {
           "style": "light"
          },
          "paper_bgcolor": "white",
          "plot_bgcolor": "#E5ECF6",
          "polar": {
           "angularaxis": {
            "gridcolor": "white",
            "linecolor": "white",
            "ticks": ""
           },
           "bgcolor": "#E5ECF6",
           "radialaxis": {
            "gridcolor": "white",
            "linecolor": "white",
            "ticks": ""
           }
          },
          "scene": {
           "xaxis": {
            "backgroundcolor": "#E5ECF6",
            "gridcolor": "white",
            "gridwidth": 2,
            "linecolor": "white",
            "showbackground": true,
            "ticks": "",
            "zerolinecolor": "white"
           },
           "yaxis": {
            "backgroundcolor": "#E5ECF6",
            "gridcolor": "white",
            "gridwidth": 2,
            "linecolor": "white",
            "showbackground": true,
            "ticks": "",
            "zerolinecolor": "white"
           },
           "zaxis": {
            "backgroundcolor": "#E5ECF6",
            "gridcolor": "white",
            "gridwidth": 2,
            "linecolor": "white",
            "showbackground": true,
            "ticks": "",
            "zerolinecolor": "white"
           }
          },
          "shapedefaults": {
           "line": {
            "color": "#2a3f5f"
           }
          },
          "ternary": {
           "aaxis": {
            "gridcolor": "white",
            "linecolor": "white",
            "ticks": ""
           },
           "baxis": {
            "gridcolor": "white",
            "linecolor": "white",
            "ticks": ""
           },
           "bgcolor": "#E5ECF6",
           "caxis": {
            "gridcolor": "white",
            "linecolor": "white",
            "ticks": ""
           }
          },
          "title": {
           "x": 0.05
          },
          "xaxis": {
           "automargin": true,
           "gridcolor": "white",
           "linecolor": "white",
           "ticks": "",
           "title": {
            "standoff": 15
           },
           "zerolinecolor": "white",
           "zerolinewidth": 2
          },
          "yaxis": {
           "automargin": true,
           "gridcolor": "white",
           "linecolor": "white",
           "ticks": "",
           "title": {
            "standoff": 15
           },
           "zerolinecolor": "white",
           "zerolinewidth": 2
          }
         }
        }
       }
      },
      "text/html": [
       "<div>                            <div id=\"f0ea1e30-ef02-4583-a44e-6d1d0b6e14ca\" class=\"plotly-graph-div\" style=\"height:525px; width:100%;\"></div>            <script type=\"text/javascript\">                require([\"plotly\"], function(Plotly) {                    window.PLOTLYENV=window.PLOTLYENV || {};                                    if (document.getElementById(\"f0ea1e30-ef02-4583-a44e-6d1d0b6e14ca\")) {                    Plotly.newPlot(                        \"f0ea1e30-ef02-4583-a44e-6d1d0b6e14ca\",                        [{\"domain\":{\"x\":[0.0,1.0],\"y\":[0.0,1.0]},\"hovertemplate\":\"label=%{label}<br>value=%{value}<extra></extra>\",\"labels\":[\"LG\",\"HUAWEI\",\"Gigabyte\",\"HP\",\"Lenovo\",\"Apple\",\"Asus\"],\"legendgroup\":\"\",\"name\":\"\",\"showlegend\":true,\"values\":[2,5,6,14,14,15,40],\"type\":\"pie\",\"marker\":{\"line\":{\"color\":\"#FFFFFF\",\"width\":2}},\"textfont\":{\"size\":12},\"textinfo\":\"percent+label+value\",\"textposition\":\"outside\"}],                        {\"template\":{\"data\":{\"bar\":[{\"error_x\":{\"color\":\"#2a3f5f\"},\"error_y\":{\"color\":\"#2a3f5f\"},\"marker\":{\"line\":{\"color\":\"#E5ECF6\",\"width\":0.5},\"pattern\":{\"fillmode\":\"overlay\",\"size\":10,\"solidity\":0.2}},\"type\":\"bar\"}],\"barpolar\":[{\"marker\":{\"line\":{\"color\":\"#E5ECF6\",\"width\":0.5},\"pattern\":{\"fillmode\":\"overlay\",\"size\":10,\"solidity\":0.2}},\"type\":\"barpolar\"}],\"carpet\":[{\"aaxis\":{\"endlinecolor\":\"#2a3f5f\",\"gridcolor\":\"white\",\"linecolor\":\"white\",\"minorgridcolor\":\"white\",\"startlinecolor\":\"#2a3f5f\"},\"baxis\":{\"endlinecolor\":\"#2a3f5f\",\"gridcolor\":\"white\",\"linecolor\":\"white\",\"minorgridcolor\":\"white\",\"startlinecolor\":\"#2a3f5f\"},\"type\":\"carpet\"}],\"choropleth\":[{\"colorbar\":{\"outlinewidth\":0,\"ticks\":\"\"},\"type\":\"choropleth\"}],\"contour\":[{\"colorbar\":{\"outlinewidth\":0,\"ticks\":\"\"},\"colorscale\":[[0.0,\"#0d0887\"],[0.1111111111111111,\"#46039f\"],[0.2222222222222222,\"#7201a8\"],[0.3333333333333333,\"#9c179e\"],[0.4444444444444444,\"#bd3786\"],[0.5555555555555556,\"#d8576b\"],[0.6666666666666666,\"#ed7953\"],[0.7777777777777778,\"#fb9f3a\"],[0.8888888888888888,\"#fdca26\"],[1.0,\"#f0f921\"]],\"type\":\"contour\"}],\"contourcarpet\":[{\"colorbar\":{\"outlinewidth\":0,\"ticks\":\"\"},\"type\":\"contourcarpet\"}],\"heatmap\":[{\"colorbar\":{\"outlinewidth\":0,\"ticks\":\"\"},\"colorscale\":[[0.0,\"#0d0887\"],[0.1111111111111111,\"#46039f\"],[0.2222222222222222,\"#7201a8\"],[0.3333333333333333,\"#9c179e\"],[0.4444444444444444,\"#bd3786\"],[0.5555555555555556,\"#d8576b\"],[0.6666666666666666,\"#ed7953\"],[0.7777777777777778,\"#fb9f3a\"],[0.8888888888888888,\"#fdca26\"],[1.0,\"#f0f921\"]],\"type\":\"heatmap\"}],\"heatmapgl\":[{\"colorbar\":{\"outlinewidth\":0,\"ticks\":\"\"},\"colorscale\":[[0.0,\"#0d0887\"],[0.1111111111111111,\"#46039f\"],[0.2222222222222222,\"#7201a8\"],[0.3333333333333333,\"#9c179e\"],[0.4444444444444444,\"#bd3786\"],[0.5555555555555556,\"#d8576b\"],[0.6666666666666666,\"#ed7953\"],[0.7777777777777778,\"#fb9f3a\"],[0.8888888888888888,\"#fdca26\"],[1.0,\"#f0f921\"]],\"type\":\"heatmapgl\"}],\"histogram\":[{\"marker\":{\"pattern\":{\"fillmode\":\"overlay\",\"size\":10,\"solidity\":0.2}},\"type\":\"histogram\"}],\"histogram2d\":[{\"colorbar\":{\"outlinewidth\":0,\"ticks\":\"\"},\"colorscale\":[[0.0,\"#0d0887\"],[0.1111111111111111,\"#46039f\"],[0.2222222222222222,\"#7201a8\"],[0.3333333333333333,\"#9c179e\"],[0.4444444444444444,\"#bd3786\"],[0.5555555555555556,\"#d8576b\"],[0.6666666666666666,\"#ed7953\"],[0.7777777777777778,\"#fb9f3a\"],[0.8888888888888888,\"#fdca26\"],[1.0,\"#f0f921\"]],\"type\":\"histogram2d\"}],\"histogram2dcontour\":[{\"colorbar\":{\"outlinewidth\":0,\"ticks\":\"\"},\"colorscale\":[[0.0,\"#0d0887\"],[0.1111111111111111,\"#46039f\"],[0.2222222222222222,\"#7201a8\"],[0.3333333333333333,\"#9c179e\"],[0.4444444444444444,\"#bd3786\"],[0.5555555555555556,\"#d8576b\"],[0.6666666666666666,\"#ed7953\"],[0.7777777777777778,\"#fb9f3a\"],[0.8888888888888888,\"#fdca26\"],[1.0,\"#f0f921\"]],\"type\":\"histogram2dcontour\"}],\"mesh3d\":[{\"colorbar\":{\"outlinewidth\":0,\"ticks\":\"\"},\"type\":\"mesh3d\"}],\"parcoords\":[{\"line\":{\"colorbar\":{\"outlinewidth\":0,\"ticks\":\"\"}},\"type\":\"parcoords\"}],\"pie\":[{\"automargin\":true,\"type\":\"pie\"}],\"scatter\":[{\"marker\":{\"colorbar\":{\"outlinewidth\":0,\"ticks\":\"\"}},\"type\":\"scatter\"}],\"scatter3d\":[{\"line\":{\"colorbar\":{\"outlinewidth\":0,\"ticks\":\"\"}},\"marker\":{\"colorbar\":{\"outlinewidth\":0,\"ticks\":\"\"}},\"type\":\"scatter3d\"}],\"scattercarpet\":[{\"marker\":{\"colorbar\":{\"outlinewidth\":0,\"ticks\":\"\"}},\"type\":\"scattercarpet\"}],\"scattergeo\":[{\"marker\":{\"colorbar\":{\"outlinewidth\":0,\"ticks\":\"\"}},\"type\":\"scattergeo\"}],\"scattergl\":[{\"marker\":{\"colorbar\":{\"outlinewidth\":0,\"ticks\":\"\"}},\"type\":\"scattergl\"}],\"scattermapbox\":[{\"marker\":{\"colorbar\":{\"outlinewidth\":0,\"ticks\":\"\"}},\"type\":\"scattermapbox\"}],\"scatterpolar\":[{\"marker\":{\"colorbar\":{\"outlinewidth\":0,\"ticks\":\"\"}},\"type\":\"scatterpolar\"}],\"scatterpolargl\":[{\"marker\":{\"colorbar\":{\"outlinewidth\":0,\"ticks\":\"\"}},\"type\":\"scatterpolargl\"}],\"scatterternary\":[{\"marker\":{\"colorbar\":{\"outlinewidth\":0,\"ticks\":\"\"}},\"type\":\"scatterternary\"}],\"surface\":[{\"colorbar\":{\"outlinewidth\":0,\"ticks\":\"\"},\"colorscale\":[[0.0,\"#0d0887\"],[0.1111111111111111,\"#46039f\"],[0.2222222222222222,\"#7201a8\"],[0.3333333333333333,\"#9c179e\"],[0.4444444444444444,\"#bd3786\"],[0.5555555555555556,\"#d8576b\"],[0.6666666666666666,\"#ed7953\"],[0.7777777777777778,\"#fb9f3a\"],[0.8888888888888888,\"#fdca26\"],[1.0,\"#f0f921\"]],\"type\":\"surface\"}],\"table\":[{\"cells\":{\"fill\":{\"color\":\"#EBF0F8\"},\"line\":{\"color\":\"white\"}},\"header\":{\"fill\":{\"color\":\"#C8D4E3\"},\"line\":{\"color\":\"white\"}},\"type\":\"table\"}]},\"layout\":{\"annotationdefaults\":{\"arrowcolor\":\"#2a3f5f\",\"arrowhead\":0,\"arrowwidth\":1},\"autotypenumbers\":\"strict\",\"coloraxis\":{\"colorbar\":{\"outlinewidth\":0,\"ticks\":\"\"}},\"colorscale\":{\"diverging\":[[0,\"#8e0152\"],[0.1,\"#c51b7d\"],[0.2,\"#de77ae\"],[0.3,\"#f1b6da\"],[0.4,\"#fde0ef\"],[0.5,\"#f7f7f7\"],[0.6,\"#e6f5d0\"],[0.7,\"#b8e186\"],[0.8,\"#7fbc41\"],[0.9,\"#4d9221\"],[1,\"#276419\"]],\"sequential\":[[0.0,\"#0d0887\"],[0.1111111111111111,\"#46039f\"],[0.2222222222222222,\"#7201a8\"],[0.3333333333333333,\"#9c179e\"],[0.4444444444444444,\"#bd3786\"],[0.5555555555555556,\"#d8576b\"],[0.6666666666666666,\"#ed7953\"],[0.7777777777777778,\"#fb9f3a\"],[0.8888888888888888,\"#fdca26\"],[1.0,\"#f0f921\"]],\"sequentialminus\":[[0.0,\"#0d0887\"],[0.1111111111111111,\"#46039f\"],[0.2222222222222222,\"#7201a8\"],[0.3333333333333333,\"#9c179e\"],[0.4444444444444444,\"#bd3786\"],[0.5555555555555556,\"#d8576b\"],[0.6666666666666666,\"#ed7953\"],[0.7777777777777778,\"#fb9f3a\"],[0.8888888888888888,\"#fdca26\"],[1.0,\"#f0f921\"]]},\"colorway\":[\"#636efa\",\"#EF553B\",\"#00cc96\",\"#ab63fa\",\"#FFA15A\",\"#19d3f3\",\"#FF6692\",\"#B6E880\",\"#FF97FF\",\"#FECB52\"],\"font\":{\"color\":\"#2a3f5f\"},\"geo\":{\"bgcolor\":\"white\",\"lakecolor\":\"white\",\"landcolor\":\"#E5ECF6\",\"showlakes\":true,\"showland\":true,\"subunitcolor\":\"white\"},\"hoverlabel\":{\"align\":\"left\"},\"hovermode\":\"closest\",\"mapbox\":{\"style\":\"light\"},\"paper_bgcolor\":\"white\",\"plot_bgcolor\":\"#E5ECF6\",\"polar\":{\"angularaxis\":{\"gridcolor\":\"white\",\"linecolor\":\"white\",\"ticks\":\"\"},\"bgcolor\":\"#E5ECF6\",\"radialaxis\":{\"gridcolor\":\"white\",\"linecolor\":\"white\",\"ticks\":\"\"}},\"scene\":{\"xaxis\":{\"backgroundcolor\":\"#E5ECF6\",\"gridcolor\":\"white\",\"gridwidth\":2,\"linecolor\":\"white\",\"showbackground\":true,\"ticks\":\"\",\"zerolinecolor\":\"white\"},\"yaxis\":{\"backgroundcolor\":\"#E5ECF6\",\"gridcolor\":\"white\",\"gridwidth\":2,\"linecolor\":\"white\",\"showbackground\":true,\"ticks\":\"\",\"zerolinecolor\":\"white\"},\"zaxis\":{\"backgroundcolor\":\"#E5ECF6\",\"gridcolor\":\"white\",\"gridwidth\":2,\"linecolor\":\"white\",\"showbackground\":true,\"ticks\":\"\",\"zerolinecolor\":\"white\"}},\"shapedefaults\":{\"line\":{\"color\":\"#2a3f5f\"}},\"ternary\":{\"aaxis\":{\"gridcolor\":\"white\",\"linecolor\":\"white\",\"ticks\":\"\"},\"baxis\":{\"gridcolor\":\"white\",\"linecolor\":\"white\",\"ticks\":\"\"},\"bgcolor\":\"#E5ECF6\",\"caxis\":{\"gridcolor\":\"white\",\"linecolor\":\"white\",\"ticks\":\"\"}},\"title\":{\"x\":0.05},\"xaxis\":{\"automargin\":true,\"gridcolor\":\"white\",\"linecolor\":\"white\",\"ticks\":\"\",\"title\":{\"standoff\":15},\"zerolinecolor\":\"white\",\"zerolinewidth\":2},\"yaxis\":{\"automargin\":true,\"gridcolor\":\"white\",\"linecolor\":\"white\",\"ticks\":\"\",\"title\":{\"standoff\":15},\"zerolinecolor\":\"white\",\"zerolinewidth\":2}}},\"legend\":{\"tracegroupgap\":0},\"margin\":{\"t\":60},\"piecolorway\":[\"rgb(103,0,31)\",\"rgb(178,24,43)\",\"rgb(214,96,77)\",\"rgb(244,165,130)\",\"rgb(253,219,199)\",\"rgb(247,247,247)\",\"rgb(209,229,240)\",\"rgb(146,197,222)\",\"rgb(67,147,195)\",\"rgb(33,102,172)\",\"rgb(5,48,97)\"]},                        {\"responsive\": true}                    ).then(function(){\n",
       "                            \n",
       "var gd = document.getElementById('f0ea1e30-ef02-4583-a44e-6d1d0b6e14ca');\n",
       "var x = new MutationObserver(function (mutations, observer) {{\n",
       "        var display = window.getComputedStyle(gd).display;\n",
       "        if (!display || display === 'none') {{\n",
       "            console.log([gd, 'removed!']);\n",
       "            Plotly.purge(gd);\n",
       "            observer.disconnect();\n",
       "        }}\n",
       "}});\n",
       "\n",
       "// Listen for the removal of the full notebook cells\n",
       "var notebookContainer = gd.closest('#notebook-container');\n",
       "if (notebookContainer) {{\n",
       "    x.observe(notebookContainer, {childList: true});\n",
       "}}\n",
       "\n",
       "// Listen for the clearing of the current output cell\n",
       "var outputEl = gd.closest('.output');\n",
       "if (outputEl) {{\n",
       "    x.observe(outputEl, {childList: true});\n",
       "}}\n",
       "\n",
       "                        })                };                });            </script>        </div>"
      ]
     },
     "metadata": {},
     "output_type": "display_data"
    }
   ],
   "source": [
    "import plotly.express as px\n",
    "\n",
    "fig = px.pie(values=laptop_df['Quantity'], names=laptop_df['Company'], \n",
    "             color_discrete_sequence=px.colors.sequential.RdBu)\n",
    " \n",
    "fig.update_traces(textposition='outside', \n",
    "                  textinfo='percent+label+value',\n",
    "                  marker=dict(line=dict(color='#FFFFFF', width=2)),\n",
    "                  textfont_size=12)\n",
    "fig.show()"
   ]
  },
  {
   "cell_type": "code",
   "execution_count": 82,
   "id": "65dc03c4",
   "metadata": {},
   "outputs": [
    {
     "data": {
      "text/plain": [
       "{'Asus': 1629990,\n",
       " 'HUAWEI': 599990,\n",
       " 'HP': 774990,\n",
       " 'Lenovo': 629990,\n",
       " 'Apple': 1783990,\n",
       " 'LG': 1069990,\n",
       " 'Gigabyte': 1317890}"
      ]
     },
     "execution_count": 82,
     "metadata": {},
     "output_type": "execute_result"
    }
   ],
   "source": [
    "#2 vizualization\n",
    "company_name = list(df['Company'].drop_duplicates())\n",
    "\n",
    "expensive_laptops = {}\n",
    "cheap_laptops = []\n",
    "\n",
    "for i in company_name:\n",
    "    price = df[df['Company'] == i]['prices'].max()\n",
    "    expensive_laptops[i] = price\n",
    "    price = df[df['Company'] == i]['prices'].min()\n",
    "    cheap_laptops.append(price)\n",
    "\n",
    "expensive_laptops"
   ]
  },
  {
   "cell_type": "code",
   "execution_count": 83,
   "id": "0e3d4e7c",
   "metadata": {
    "scrolled": true
   },
   "outputs": [
    {
     "data": {
      "text/html": [
       "<div>\n",
       "<style scoped>\n",
       "    .dataframe tbody tr th:only-of-type {\n",
       "        vertical-align: middle;\n",
       "    }\n",
       "\n",
       "    .dataframe tbody tr th {\n",
       "        vertical-align: top;\n",
       "    }\n",
       "\n",
       "    .dataframe thead th {\n",
       "        text-align: right;\n",
       "    }\n",
       "</style>\n",
       "<table border=\"1\" class=\"dataframe\">\n",
       "  <thead>\n",
       "    <tr style=\"text-align: right;\">\n",
       "      <th></th>\n",
       "      <th>Company</th>\n",
       "      <th>Expensive price</th>\n",
       "      <th>Cheap price</th>\n",
       "    </tr>\n",
       "  </thead>\n",
       "  <tbody>\n",
       "    <tr>\n",
       "      <th>0</th>\n",
       "      <td>Asus</td>\n",
       "      <td>1629990</td>\n",
       "      <td>161490</td>\n",
       "    </tr>\n",
       "    <tr>\n",
       "      <th>1</th>\n",
       "      <td>HUAWEI</td>\n",
       "      <td>599990</td>\n",
       "      <td>299990</td>\n",
       "    </tr>\n",
       "    <tr>\n",
       "      <th>2</th>\n",
       "      <td>HP</td>\n",
       "      <td>774990</td>\n",
       "      <td>314990</td>\n",
       "    </tr>\n",
       "    <tr>\n",
       "      <th>3</th>\n",
       "      <td>Lenovo</td>\n",
       "      <td>629990</td>\n",
       "      <td>189990</td>\n",
       "    </tr>\n",
       "    <tr>\n",
       "      <th>4</th>\n",
       "      <td>Apple</td>\n",
       "      <td>1783990</td>\n",
       "      <td>699990</td>\n",
       "    </tr>\n",
       "    <tr>\n",
       "      <th>5</th>\n",
       "      <td>LG</td>\n",
       "      <td>1069990</td>\n",
       "      <td>969990</td>\n",
       "    </tr>\n",
       "    <tr>\n",
       "      <th>6</th>\n",
       "      <td>Gigabyte</td>\n",
       "      <td>1317890</td>\n",
       "      <td>476390</td>\n",
       "    </tr>\n",
       "  </tbody>\n",
       "</table>\n",
       "</div>"
      ],
      "text/plain": [
       "    Company  Expensive price  Cheap price\n",
       "0      Asus          1629990       161490\n",
       "1    HUAWEI           599990       299990\n",
       "2        HP           774990       314990\n",
       "3    Lenovo           629990       189990\n",
       "4     Apple          1783990       699990\n",
       "5        LG          1069990       969990\n",
       "6  Gigabyte          1317890       476390"
      ]
     },
     "execution_count": 83,
     "metadata": {},
     "output_type": "execute_result"
    }
   ],
   "source": [
    "laptop_prices = pd.DataFrame(expensive_laptops.items(), columns=['Company', 'Expensive price'])\n",
    "laptop_prices['Cheap price'] = pd.DataFrame(cheap_laptops)\n",
    "laptop_prices"
   ]
  },
  {
   "cell_type": "code",
   "execution_count": 84,
   "id": "7ed70233",
   "metadata": {},
   "outputs": [],
   "source": [
    "import matplotlib.pyplot as plt\n",
    "import matplotlib as mpl\n",
    "import numpy as np\n",
    "import pandas as pd"
   ]
  },
  {
   "cell_type": "code",
   "execution_count": 85,
   "id": "2b97d291",
   "metadata": {},
   "outputs": [],
   "source": [
    "laptop_prices = laptop_prices.sort_values(by='Expensive price', ascending=True)\n",
    "\n",
    "first_bar = laptop_prices['Expensive price']\n",
    "first_bar_label = 'The price of an expensive laptop'\n",
    "first_bar_color = '#32628d'\n",
    "second_bar = laptop_prices['Cheap price']\n",
    "second_bar_label = 'The price of a cheap laptop'\n",
    "second_bar_color = '#cde01d'\n",
    "labels = laptop_prices['Company']\n",
    "width = 0.4  # the width of the bars\n",
    "plot_title = 'The most expensive and cheapest prices of laptops'\n",
    "title_size = 18\n",
    "# subtitle = 'Source: Kaggle / The Movies Dataset'"
   ]
  },
  {
   "cell_type": "code",
   "execution_count": 86,
   "id": "644fb894",
   "metadata": {
    "scrolled": false
   },
   "outputs": [
    {
     "data": {
      "text/plain": [
       "([<matplotlib.axis.YTick at 0x7f7d7d14b430>,\n",
       "  <matplotlib.axis.YTick at 0x7f7d7d140c70>,\n",
       "  <matplotlib.axis.YTick at 0x7f7d7d1403a0>,\n",
       "  <matplotlib.axis.YTick at 0x7f7d7d1b9610>,\n",
       "  <matplotlib.axis.YTick at 0x7f7d7d1b9d60>,\n",
       "  <matplotlib.axis.YTick at 0x7f7d7d1b64f0>,\n",
       "  <matplotlib.axis.YTick at 0x7f7d7d1b6c40>],\n",
       " [Text(0, -1.0, 'HUAWEI'),\n",
       "  Text(0, 0.0, 'Lenovo'),\n",
       "  Text(0, 1.0, 'HP'),\n",
       "  Text(0, 2.0, 'LG'),\n",
       "  Text(0, 3.0, 'Gigabyte'),\n",
       "  Text(0, 4.0, 'Asus'),\n",
       "  Text(0, 5.0, 'Apple')])"
      ]
     },
     "execution_count": 86,
     "metadata": {},
     "output_type": "execute_result"
    },
    {
     "data": {
      "image/png": "[encoded data removed]",
      "text/plain": [
       "<Figure size 1152x576 with 1 Axes>"
      ]
     },
     "metadata": {
      "needs_background": "light"
     },
     "output_type": "display_data"
    }
   ],
   "source": [
    "import warnings\n",
    "warnings.filterwarnings('ignore')\n",
    "fig, ax = plt.subplots(figsize=(16,8))\n",
    "        \n",
    "# Plot double bars\n",
    "y = np.arange(len(labels))  # Label locations\n",
    "ax.barh(y + width/2, first_bar, width, label=first_bar_label, color=first_bar_color)\n",
    "ax.barh(y - width/2, second_bar, width, label=second_bar_label, color=second_bar_color)\n",
    "\n",
    "# Format ticks\n",
    "ax.xaxis.set_major_formatter(mpl.ticker.StrMethodFormatter('{x:,.0f}'))\n",
    "        \n",
    "# Set title\n",
    "title = plt.title(plot_title, pad=20, fontsize=title_size)\n",
    "title.set_position([.27, 1])\n",
    "\n",
    "        \n",
    "# Create labels\n",
    "rects = ax.patches\n",
    "for rect in rects:\n",
    "    # Get X and Y placement of label from rect.\n",
    "    x_value = rect.get_width()\n",
    "    y_value = rect.get_y() + rect.get_height() / 2\n",
    "    space = 5\n",
    "    ha = 'left'\n",
    "    if x_value < 0:\n",
    "        space *= -1\n",
    "        ha = 'right'\n",
    "    label = '{:,.0f}'.format(x_value)\n",
    "    plt.annotate(\n",
    "        label,                      \n",
    "        (x_value, y_value),         \n",
    "        xytext=(space, 0),          \n",
    "        textcoords='offset points',\n",
    "        va='center',                \n",
    "        ha=ha)\n",
    "\n",
    "        \n",
    "# Set y-labels and legend\n",
    "ax.set_yticklabels(labels)\n",
    "ax.legend()\n",
    "\n",
    "# To show each y-label, not just even ones\n",
    "plt.yticks(np.arange(min(y), max(y)+1, 1.0)) "
   ]
  },
  {
   "cell_type": "code",
   "execution_count": 87,
   "id": "d706c644",
   "metadata": {},
   "outputs": [
    {
     "name": "stdout",
     "output_type": "stream",
     "text": [
      "['Intel', 'AMD', 'Apple']\n"
     ]
    },
    {
     "data": {
      "application/vnd.plotly.v1+json": {
       "config": {
        "plotlyServerURL": "https://plot.ly"
       },
       "data": [
        {
         "hovertemplate": "<b>%{hovertext}</b><br><br>serie=Asus TUF Gaming F15<br>cpu_series=%{x}<br>prices=%{y}<br>memory_size=%{marker.size}<extra></extra>",
         "hovertext": [
          "Asus",
          "Asus"
         ],
         "legendgroup": "Asus TUF Gaming F15",
         "marker": {
          "color": "#1F77B4",
          "size": [
           512,
           512
          ],
          "sizemode": "area",
          "sizeref": 4.444444444444445,
          "symbol": "circle"
         },
         "mode": "markers",
         "name": "Asus TUF Gaming F15",
         "orientation": "v",
         "showlegend": true,
         "type": "scatter",
         "x": [
          "Intel Core i5",
          "Intel Core i5"
         ],
         "xaxis": "x",
         "y": [
          579990,
          489990
         ],
         "yaxis": "y"
        },
        {
         "hovertemplate": "<b>%{hovertext}</b><br><br>serie=HUAWEI MateBook D15<br>cpu_series=%{x}<br>prices=%{y}<br>memory_size=%{marker.size}<extra></extra>",
         "hovertext": [
          "HUAWEI",
          "HUAWEI"
         ],
         "legendgroup": "HUAWEI MateBook D15",
         "marker": {
          "color": "#FF7F0E",
          "size": [
           256,
           512
          ],
          "sizemode": "area",
          "sizeref": 4.444444444444445,
          "symbol": "circle"
         },
         "mode": "markers",
         "name": "HUAWEI MateBook D15",
         "orientation": "v",
         "showlegend": true,
         "type": "scatter",
         "x": [
          "Intel Core i3",
          "Intel Core i5"
         ],
         "xaxis": "x",
         "y": [
          299990,
          379990
         ],
         "yaxis": "y"
        },
        {
         "hovertemplate": "<b>%{hovertext}</b><br><br>serie=Asus X515JA<br>cpu_series=%{x}<br>prices=%{y}<br>memory_size=%{marker.size}<extra></extra>",
         "hovertext": [
          "Asus",
          "Asus",
          "Asus",
          "Asus"
         ],
         "legendgroup": "Asus X515JA",
         "marker": {
          "color": "#2CA02C",
          "size": [
           512,
           256,
           512,
           256
          ],
          "sizemode": "area",
          "sizeref": 4.444444444444445,
          "symbol": "circle"
         },
         "mode": "markers",
         "name": "Asus X515JA",
         "orientation": "v",
         "showlegend": true,
         "type": "scatter",
         "x": [
          "Intel Core i5",
          "Intel Core i3",
          "Intel Core i7",
          "Intel Core i3"
         ],
         "xaxis": "x",
         "y": [
          299990,
          219990,
          359990,
          254990
         ],
         "yaxis": "y"
        },
        {
         "hovertemplate": "<b>%{hovertext}</b><br><br>serie=Asus F515EA<br>cpu_series=%{x}<br>prices=%{y}<br>memory_size=%{marker.size}<extra></extra>",
         "hovertext": [
          "Asus"
         ],
         "legendgroup": "Asus F515EA",
         "marker": {
          "color": "#D62728",
          "size": [
           128
          ],
          "sizemode": "area",
          "sizeref": 4.444444444444445,
          "symbol": "circle"
         },
         "mode": "markers",
         "name": "Asus F515EA",
         "orientation": "v",
         "showlegend": true,
         "type": "scatter",
         "x": [
          "Intel Pentium Gold"
         ],
         "xaxis": "x",
         "y": [
          161490
         ],
         "yaxis": "y"
        },
        {
         "hovertemplate": "<b>%{hovertext}</b><br><br>serie=HUAWEI MateBook D14<br>cpu_series=%{x}<br>prices=%{y}<br>memory_size=%{marker.size}<extra></extra>",
         "hovertext": [
          "HUAWEI"
         ],
         "legendgroup": "HUAWEI MateBook D14",
         "marker": {
          "color": "#9467BD",
          "size": [
           256
          ],
          "sizemode": "area",
          "sizeref": 4.444444444444445,
          "symbol": "circle"
         },
         "mode": "markers",
         "name": "HUAWEI MateBook D14",
         "orientation": "v",
         "showlegend": true,
         "type": "scatter",
         "x": [
          "Intel Core i3"
         ],
         "xaxis": "x",
         "y": [
          299990
         ],
         "yaxis": "y"
        },
        {
         "hovertemplate": "<b>%{hovertext}</b><br><br>serie=Asus VivoBook<br>cpu_series=%{x}<br>prices=%{y}<br>memory_size=%{marker.size}<extra></extra>",
         "hovertext": [
          "Asus"
         ],
         "legendgroup": "Asus VivoBook",
         "marker": {
          "color": "#8C564B",
          "size": [
           256
          ],
          "sizemode": "area",
          "sizeref": 4.444444444444445,
          "symbol": "circle"
         },
         "mode": "markers",
         "name": "Asus VivoBook",
         "orientation": "v",
         "showlegend": true,
         "type": "scatter",
         "x": [
          "Intel Core i3"
         ],
         "xaxis": "x",
         "y": [
          249990
         ],
         "yaxis": "y"
        },
        {
         "hovertemplate": "<b>%{hovertext}</b><br><br>serie=Asus VivoBook S14<br>cpu_series=%{x}<br>prices=%{y}<br>memory_size=%{marker.size}<extra></extra>",
         "hovertext": [
          "Asus"
         ],
         "legendgroup": "Asus VivoBook S14",
         "marker": {
          "color": "#E377C2",
          "size": [
           512
          ],
          "sizemode": "area",
          "sizeref": 4.444444444444445,
          "symbol": "circle"
         },
         "mode": "markers",
         "name": "Asus VivoBook S14",
         "orientation": "v",
         "showlegend": true,
         "type": "scatter",
         "x": [
          "Intel Core i5"
         ],
         "xaxis": "x",
         "y": [
          395990
         ],
         "yaxis": "y"
        },
        {
         "hovertemplate": "<b>%{hovertext}</b><br><br>serie=Asus Zenbook OLED<br>cpu_series=%{x}<br>prices=%{y}<br>memory_size=%{marker.size}<extra></extra>",
         "hovertext": [
          "Asus",
          "Asus"
         ],
         "legendgroup": "Asus Zenbook OLED",
         "marker": {
          "color": "#7F7F7F",
          "size": [
           512,
           512
          ],
          "sizemode": "area",
          "sizeref": 4.444444444444445,
          "symbol": "circle"
         },
         "mode": "markers",
         "name": "Asus Zenbook OLED",
         "orientation": "v",
         "showlegend": true,
         "type": "scatter",
         "x": [
          "Intel Core i5",
          "Intel Core i5"
         ],
         "xaxis": "x",
         "y": [
          599990,
          579990
         ],
         "yaxis": "y"
        },
        {
         "hovertemplate": "<b>%{hovertext}</b><br><br>serie=Asus TUF Gaming F17<br>cpu_series=%{x}<br>prices=%{y}<br>memory_size=%{marker.size}<extra></extra>",
         "hovertext": [
          "Asus"
         ],
         "legendgroup": "Asus TUF Gaming F17",
         "marker": {
          "color": "#BCBD22",
          "size": [
           512
          ],
          "sizemode": "area",
          "sizeref": 4.444444444444445,
          "symbol": "circle"
         },
         "mode": "markers",
         "name": "Asus TUF Gaming F17",
         "orientation": "v",
         "showlegend": true,
         "type": "scatter",
         "x": [
          "Intel Core i5"
         ],
         "xaxis": "x",
         "y": [
          709990
         ],
         "yaxis": "y"
        },
        {
         "hovertemplate": "<b>%{hovertext}</b><br><br>serie=Asus Zenbook 14 OLED<br>cpu_series=%{x}<br>prices=%{y}<br>memory_size=%{marker.size}<extra></extra>",
         "hovertext": [
          "Asus",
          "Asus"
         ],
         "legendgroup": "Asus Zenbook 14 OLED",
         "marker": {
          "color": "#17BECF",
          "size": [
           512,
           1000
          ],
          "sizemode": "area",
          "sizeref": 4.444444444444445,
          "symbol": "circle"
         },
         "mode": "markers",
         "name": "Asus Zenbook 14 OLED",
         "orientation": "v",
         "showlegend": true,
         "type": "scatter",
         "x": [
          "Intel Core i5",
          "Intel Core i7"
         ],
         "xaxis": "x",
         "y": [
          599990,
          729990
         ],
         "yaxis": "y"
        },
        {
         "hovertemplate": "<b>%{hovertext}</b><br><br>serie=Asus TUF Dash F15<br>cpu_series=%{x}<br>prices=%{y}<br>memory_size=%{marker.size}<extra></extra>",
         "hovertext": [
          "Asus",
          "Asus"
         ],
         "legendgroup": "Asus TUF Dash F15",
         "marker": {
          "color": "#1F77B4",
          "size": [
           512,
           1000
          ],
          "sizemode": "area",
          "sizeref": 4.444444444444445,
          "symbol": "circle"
         },
         "mode": "markers",
         "name": "Asus TUF Dash F15",
         "orientation": "v",
         "showlegend": true,
         "type": "scatter",
         "x": [
          "Intel Core i5",
          "Intel Core i7"
         ],
         "xaxis": "x",
         "y": [
          579990,
          959990
         ],
         "yaxis": "y"
        },
        {
         "hovertemplate": "<b>%{hovertext}</b><br><br>serie=Asus Zenbook Pro Duo OLED<br>cpu_series=%{x}<br>prices=%{y}<br>memory_size=%{marker.size}<extra></extra>",
         "hovertext": [
          "Asus"
         ],
         "legendgroup": "Asus Zenbook Pro Duo OLED",
         "marker": {
          "color": "#FF7F0E",
          "size": [
           512
          ],
          "sizemode": "area",
          "sizeref": 4.444444444444445,
          "symbol": "circle"
         },
         "mode": "markers",
         "name": "Asus Zenbook Pro Duo OLED",
         "orientation": "v",
         "showlegend": true,
         "type": "scatter",
         "x": [
          "Intel Core i5"
         ],
         "xaxis": "x",
         "y": [
          404990
         ],
         "yaxis": "y"
        },
        {
         "hovertemplate": "<b>%{hovertext}</b><br><br>serie=Lenovo IdeaPad Gaming 3<br>cpu_series=%{x}<br>prices=%{y}<br>memory_size=%{marker.size}<extra></extra>",
         "hovertext": [
          "Lenovo",
          "Lenovo",
          "Lenovo",
          "Lenovo"
         ],
         "legendgroup": "Lenovo IdeaPad Gaming 3",
         "marker": {
          "color": "#2CA02C",
          "size": [
           512,
           512,
           512,
           512
          ],
          "sizemode": "area",
          "sizeref": 4.444444444444445,
          "symbol": "circle"
         },
         "mode": "markers",
         "name": "Lenovo IdeaPad Gaming 3",
         "orientation": "v",
         "showlegend": true,
         "type": "scatter",
         "x": [
          "Intel Core i7",
          "Intel Core i5",
          "Intel Core i5",
          "Intel Core i5"
         ],
         "xaxis": "x",
         "y": [
          629990,
          479990,
          559990,
          529990
         ],
         "yaxis": "y"
        },
        {
         "hovertemplate": "<b>%{hovertext}</b><br><br>serie=HP Victus<br>cpu_series=%{x}<br>prices=%{y}<br>memory_size=%{marker.size}<extra></extra>",
         "hovertext": [
          "HP",
          "HP",
          "HP"
         ],
         "legendgroup": "HP Victus",
         "marker": {
          "color": "#D62728",
          "size": [
           512,
           512,
           512
          ],
          "sizemode": "area",
          "sizeref": 4.444444444444445,
          "symbol": "circle"
         },
         "mode": "markers",
         "name": "HP Victus",
         "orientation": "v",
         "showlegend": true,
         "type": "scatter",
         "x": [
          "Intel Core i5",
          "Intel Core i5",
          "Intel Core i5"
         ],
         "xaxis": "x",
         "y": [
          599990,
          519890,
          464990
         ],
         "yaxis": "y"
        },
        {
         "hovertemplate": "<b>%{hovertext}</b><br><br>serie=Lenovo IdeaPad L3<br>cpu_series=%{x}<br>prices=%{y}<br>memory_size=%{marker.size}<extra></extra>",
         "hovertext": [
          "Lenovo"
         ],
         "legendgroup": "Lenovo IdeaPad L3",
         "marker": {
          "color": "#9467BD",
          "size": [
           1000
          ],
          "sizemode": "area",
          "sizeref": 4.444444444444445,
          "symbol": "circle"
         },
         "mode": "markers",
         "name": "Lenovo IdeaPad L3",
         "orientation": "v",
         "showlegend": true,
         "type": "scatter",
         "x": [
          "Intel Celeron"
         ],
         "xaxis": "x",
         "y": [
          189990
         ],
         "yaxis": "y"
        },
        {
         "hovertemplate": "<b>%{hovertext}</b><br><br>serie=HP Envy x360<br>cpu_series=%{x}<br>prices=%{y}<br>memory_size=%{marker.size}<extra></extra>",
         "hovertext": [
          "HP"
         ],
         "legendgroup": "HP Envy x360",
         "marker": {
          "color": "#8C564B",
          "size": [
           512
          ],
          "sizemode": "area",
          "sizeref": 4.444444444444445,
          "symbol": "circle"
         },
         "mode": "markers",
         "name": "HP Envy x360",
         "orientation": "v",
         "showlegend": true,
         "type": "scatter",
         "x": [
          "Intel Core i5"
         ],
         "xaxis": "x",
         "y": [
          556890
         ],
         "yaxis": "y"
        },
        {
         "hovertemplate": "<b>%{hovertext}</b><br><br>serie=Asus P1512<br>cpu_series=%{x}<br>prices=%{y}<br>memory_size=%{marker.size}<extra></extra>",
         "hovertext": [
          "Asus"
         ],
         "legendgroup": "Asus P1512",
         "marker": {
          "color": "#E377C2",
          "size": [
           256
          ],
          "sizemode": "area",
          "sizeref": 4.444444444444445,
          "symbol": "circle"
         },
         "mode": "markers",
         "name": "Asus P1512",
         "orientation": "v",
         "showlegend": true,
         "type": "scatter",
         "x": [
          "Intel Core i3"
         ],
         "xaxis": "x",
         "y": [
          319990
         ],
         "yaxis": "y"
        },
        {
         "hovertemplate": "<b>%{hovertext}</b><br><br>serie=HP Envy<br>cpu_series=%{x}<br>prices=%{y}<br>memory_size=%{marker.size}<extra></extra>",
         "hovertext": [
          "HP",
          "HP",
          "HP",
          "HP"
         ],
         "legendgroup": "HP Envy",
         "marker": {
          "color": "#7F7F7F",
          "size": [
           512,
           256,
           512,
           512
          ],
          "sizemode": "area",
          "sizeref": 4.444444444444445,
          "symbol": "circle"
         },
         "mode": "markers",
         "name": "HP Envy",
         "orientation": "v",
         "showlegend": true,
         "type": "scatter",
         "x": [
          "Intel Core i5",
          "Intel Core i5",
          "Intel Core i5",
          "Intel Core i5"
         ],
         "xaxis": "x",
         "y": [
          522890,
          484990,
          469990,
          543990
         ],
         "yaxis": "y"
        },
        {
         "hovertemplate": "<b>%{hovertext}</b><br><br>serie=Lenovo V15<br>cpu_series=%{x}<br>prices=%{y}<br>memory_size=%{marker.size}<extra></extra>",
         "hovertext": [
          "Lenovo",
          "Lenovo"
         ],
         "legendgroup": "Lenovo V15",
         "marker": {
          "color": "#BCBD22",
          "size": [
           256,
           1000
          ],
          "sizemode": "area",
          "sizeref": 4.444444444444445,
          "symbol": "circle"
         },
         "mode": "markers",
         "name": "Lenovo V15",
         "orientation": "v",
         "showlegend": true,
         "type": "scatter",
         "x": [
          "Intel Core i3",
          "Intel Core i3"
         ],
         "xaxis": "x",
         "y": [
          259990,
          239990
         ],
         "yaxis": "y"
        },
        {
         "hovertemplate": "<b>%{hovertext}</b><br><br>serie=LG Gram<br>cpu_series=%{x}<br>prices=%{y}<br>memory_size=%{marker.size}<extra></extra>",
         "hovertext": [
          "LG",
          "LG"
         ],
         "legendgroup": "LG Gram",
         "marker": {
          "color": "#17BECF",
          "size": [
           1000,
           512
          ],
          "sizemode": "area",
          "sizeref": 4.444444444444445,
          "symbol": "circle"
         },
         "mode": "markers",
         "name": "LG Gram",
         "orientation": "v",
         "showlegend": true,
         "type": "scatter",
         "x": [
          "Intel Core i7",
          "Intel Core i7"
         ],
         "xaxis": "x",
         "y": [
          1069990,
          969990
         ],
         "yaxis": "y"
        },
        {
         "hovertemplate": "<b>%{hovertext}</b><br><br>serie=Lenovo IdeaPad 5 Pro<br>cpu_series=%{x}<br>prices=%{y}<br>memory_size=%{marker.size}<extra></extra>",
         "hovertext": [
          "Lenovo",
          "Lenovo"
         ],
         "legendgroup": "Lenovo IdeaPad 5 Pro",
         "marker": {
          "color": "#1F77B4",
          "size": [
           512,
           512
          ],
          "sizemode": "area",
          "sizeref": 4.444444444444445,
          "symbol": "circle"
         },
         "mode": "markers",
         "name": "Lenovo IdeaPad 5 Pro",
         "orientation": "v",
         "showlegend": true,
         "type": "scatter",
         "x": [
          "Intel Core i5",
          "Intel Core i7"
         ],
         "xaxis": "x",
         "y": [
          559990,
          499990
         ],
         "yaxis": "y"
        },
        {
         "hovertemplate": "<b>%{hovertext}</b><br><br>serie=Asus ExpertBook B5<br>cpu_series=%{x}<br>prices=%{y}<br>memory_size=%{marker.size}<extra></extra>",
         "hovertext": [
          "Asus"
         ],
         "legendgroup": "Asus ExpertBook B5",
         "marker": {
          "color": "#FF7F0E",
          "size": [
           512
          ],
          "sizemode": "area",
          "sizeref": 4.444444444444445,
          "symbol": "circle"
         },
         "mode": "markers",
         "name": "Asus ExpertBook B5",
         "orientation": "v",
         "showlegend": true,
         "type": "scatter",
         "x": [
          "Intel Core i5"
         ],
         "xaxis": "x",
         "y": [
          569990
         ],
         "yaxis": "y"
        },
        {
         "hovertemplate": "<b>%{hovertext}</b><br><br>serie=Lenovo Yoga Slim 7 Pro<br>cpu_series=%{x}<br>prices=%{y}<br>memory_size=%{marker.size}<extra></extra>",
         "hovertext": [
          "Lenovo"
         ],
         "legendgroup": "Lenovo Yoga Slim 7 Pro",
         "marker": {
          "color": "#2CA02C",
          "size": [
           512
          ],
          "sizemode": "area",
          "sizeref": 4.444444444444445,
          "symbol": "circle"
         },
         "mode": "markers",
         "name": "Lenovo Yoga Slim 7 Pro",
         "orientation": "v",
         "showlegend": true,
         "type": "scatter",
         "x": [
          "Intel Core i5"
         ],
         "xaxis": "x",
         "y": [
          519990
         ],
         "yaxis": "y"
        },
        {
         "hovertemplate": "<b>%{hovertext}</b><br><br>serie=Lenovo IdeaPad 3<br>cpu_series=%{x}<br>prices=%{y}<br>memory_size=%{marker.size}<extra></extra>",
         "hovertext": [
          "Lenovo"
         ],
         "legendgroup": "Lenovo IdeaPad 3",
         "marker": {
          "color": "#D62728",
          "size": [
           1000
          ],
          "sizemode": "area",
          "sizeref": 4.444444444444445,
          "symbol": "circle"
         },
         "mode": "markers",
         "name": "Lenovo IdeaPad 3",
         "orientation": "v",
         "showlegend": true,
         "type": "scatter",
         "x": [
          "Intel Core i3"
         ],
         "xaxis": "x",
         "y": [
          239990
         ],
         "yaxis": "y"
        },
        {
         "hovertemplate": "<b>%{hovertext}</b><br><br>serie=Gigabyte U4 UD<br>cpu_series=%{x}<br>prices=%{y}<br>memory_size=%{marker.size}<extra></extra>",
         "hovertext": [
          "Gigabyte",
          "Gigabyte"
         ],
         "legendgroup": "Gigabyte U4 UD",
         "marker": {
          "color": "#9467BD",
          "size": [
           512,
           512
          ],
          "sizemode": "area",
          "sizeref": 4.444444444444445,
          "symbol": "circle"
         },
         "mode": "markers",
         "name": "Gigabyte U4 UD",
         "orientation": "v",
         "showlegend": true,
         "type": "scatter",
         "x": [
          "Intel Core i7",
          "Intel Core i7"
         ],
         "xaxis": "x",
         "y": [
          479990,
          476390
         ],
         "yaxis": "y"
        },
        {
         "hovertemplate": "<b>%{hovertext}</b><br><br>serie=Asus Laptop Series<br>cpu_series=%{x}<br>prices=%{y}<br>memory_size=%{marker.size}<extra></extra>",
         "hovertext": [
          "Asus"
         ],
         "legendgroup": "Asus Laptop Series",
         "marker": {
          "color": "#8C564B",
          "size": [
           512
          ],
          "sizemode": "area",
          "sizeref": 4.444444444444445,
          "symbol": "circle"
         },
         "mode": "markers",
         "name": "Asus Laptop Series",
         "orientation": "v",
         "showlegend": true,
         "type": "scatter",
         "x": [
          "Intel Core i7"
         ],
         "xaxis": "x",
         "y": [
          419990
         ],
         "yaxis": "y"
        },
        {
         "hovertemplate": "<b>%{hovertext}</b><br><br>serie=Asus VivoBook Pro 15 OLED<br>cpu_series=%{x}<br>prices=%{y}<br>memory_size=%{marker.size}<extra></extra>",
         "hovertext": [
          "Asus"
         ],
         "legendgroup": "Asus VivoBook Pro 15 OLED",
         "marker": {
          "color": "#E377C2",
          "size": [
           512
          ],
          "sizemode": "area",
          "sizeref": 4.444444444444445,
          "symbol": "circle"
         },
         "mode": "markers",
         "name": "Asus VivoBook Pro 15 OLED",
         "orientation": "v",
         "showlegend": true,
         "type": "scatter",
         "x": [
          "Intel Core i5"
         ],
         "xaxis": "x",
         "y": [
          519990
         ],
         "yaxis": "y"
        },
        {
         "hovertemplate": "<b>%{hovertext}</b><br><br>serie=Asus VivoBook 14<br>cpu_series=%{x}<br>prices=%{y}<br>memory_size=%{marker.size}<extra></extra>",
         "hovertext": [
          "Asus"
         ],
         "legendgroup": "Asus VivoBook 14",
         "marker": {
          "color": "#7F7F7F",
          "size": [
           256
          ],
          "sizemode": "area",
          "sizeref": 4.444444444444445,
          "symbol": "circle"
         },
         "mode": "markers",
         "name": "Asus VivoBook 14",
         "orientation": "v",
         "showlegend": true,
         "type": "scatter",
         "x": [
          "Intel Core i3"
         ],
         "xaxis": "x",
         "y": [
          319990
         ],
         "yaxis": "y"
        },
        {
         "hovertemplate": "<b>%{hovertext}</b><br><br>serie=HP Spectre x360<br>cpu_series=%{x}<br>prices=%{y}<br>memory_size=%{marker.size}<extra></extra>",
         "hovertext": [
          "HP"
         ],
         "legendgroup": "HP Spectre x360",
         "marker": {
          "color": "#BCBD22",
          "size": [
           512
          ],
          "sizemode": "area",
          "sizeref": 4.444444444444445,
          "symbol": "circle"
         },
         "mode": "markers",
         "name": "HP Spectre x360",
         "orientation": "v",
         "showlegend": true,
         "type": "scatter",
         "x": [
          "Intel Core i5"
         ],
         "xaxis": "x",
         "y": [
          774990
         ],
         "yaxis": "y"
        },
        {
         "hovertemplate": "<b>%{hovertext}</b><br><br>serie=HP Laptop<br>cpu_series=%{x}<br>prices=%{y}<br>memory_size=%{marker.size}<extra></extra>",
         "hovertext": [
          "HP"
         ],
         "legendgroup": "HP Laptop",
         "marker": {
          "color": "#17BECF",
          "size": [
           512
          ],
          "sizemode": "area",
          "sizeref": 4.444444444444445,
          "symbol": "circle"
         },
         "mode": "markers",
         "name": "HP Laptop",
         "orientation": "v",
         "showlegend": true,
         "type": "scatter",
         "x": [
          "Intel Core i3"
         ],
         "xaxis": "x",
         "y": [
          369990
         ],
         "yaxis": "y"
        },
        {
         "hovertemplate": "<b>%{hovertext}</b><br><br>serie=Asus ROG Flow Z13<br>cpu_series=%{x}<br>prices=%{y}<br>memory_size=%{marker.size}<extra></extra>",
         "hovertext": [
          "Asus"
         ],
         "legendgroup": "Asus ROG Flow Z13",
         "marker": {
          "color": "#1F77B4",
          "size": [
           512
          ],
          "sizemode": "area",
          "sizeref": 4.444444444444445,
          "symbol": "circle"
         },
         "mode": "markers",
         "name": "Asus ROG Flow Z13",
         "orientation": "v",
         "showlegend": true,
         "type": "scatter",
         "x": [
          "Intel Core i7"
         ],
         "xaxis": "x",
         "y": [
          1569990
         ],
         "yaxis": "y"
        },
        {
         "hovertemplate": "<b>%{hovertext}</b><br><br>serie=Asus Zenbook Pro 16X OLED<br>cpu_series=%{x}<br>prices=%{y}<br>memory_size=%{marker.size}<extra></extra>",
         "hovertext": [
          "Asus"
         ],
         "legendgroup": "Asus Zenbook Pro 16X OLED",
         "marker": {
          "color": "#FF7F0E",
          "size": [
           1000
          ],
          "sizemode": "area",
          "sizeref": 4.444444444444445,
          "symbol": "circle"
         },
         "mode": "markers",
         "name": "Asus Zenbook Pro 16X OLED",
         "orientation": "v",
         "showlegend": true,
         "type": "scatter",
         "x": [
          "Intel Core i7"
         ],
         "xaxis": "x",
         "y": [
          1629990
         ],
         "yaxis": "y"
        },
        {
         "hovertemplate": "<b>%{hovertext}</b><br><br>serie=Asus ROG STRIX SCAR 15<br>cpu_series=%{x}<br>prices=%{y}<br>memory_size=%{marker.size}<extra></extra>",
         "hovertext": [
          "Asus"
         ],
         "legendgroup": "Asus ROG STRIX SCAR 15",
         "marker": {
          "color": "#2CA02C",
          "size": [
           1000
          ],
          "sizemode": "area",
          "sizeref": 4.444444444444445,
          "symbol": "circle"
         },
         "mode": "markers",
         "name": "Asus ROG STRIX SCAR 15",
         "orientation": "v",
         "showlegend": true,
         "type": "scatter",
         "x": [
          "Intel Core i9"
         ],
         "xaxis": "x",
         "y": [
          1599990
         ],
         "yaxis": "y"
        },
        {
         "hovertemplate": "<b>%{hovertext}</b><br><br>serie=Asus X515EA<br>cpu_series=%{x}<br>prices=%{y}<br>memory_size=%{marker.size}<extra></extra>",
         "hovertext": [
          "Asus",
          "Asus"
         ],
         "legendgroup": "Asus X515EA",
         "marker": {
          "color": "#D62728",
          "size": [
           512,
           256
          ],
          "sizemode": "area",
          "sizeref": 4.444444444444445,
          "symbol": "circle"
         },
         "mode": "markers",
         "name": "Asus X515EA",
         "orientation": "v",
         "showlegend": true,
         "type": "scatter",
         "x": [
          "Intel Core i5",
          "Intel Core i5"
         ],
         "xaxis": "x",
         "y": [
          299990,
          314990
         ],
         "yaxis": "y"
        },
        {
         "hovertemplate": "<b>%{hovertext}</b><br><br>serie=Asus VivoBook 15<br>cpu_series=%{x}<br>prices=%{y}<br>memory_size=%{marker.size}<extra></extra>",
         "hovertext": [
          "Asus"
         ],
         "legendgroup": "Asus VivoBook 15",
         "marker": {
          "color": "#9467BD",
          "size": [
           512
          ],
          "sizemode": "area",
          "sizeref": 4.444444444444445,
          "symbol": "circle"
         },
         "mode": "markers",
         "name": "Asus VivoBook 15",
         "orientation": "v",
         "showlegend": true,
         "type": "scatter",
         "x": [
          "Intel Core i3"
         ],
         "xaxis": "x",
         "y": [
          289990
         ],
         "yaxis": "y"
        },
        {
         "hovertemplate": "<b>%{hovertext}</b><br><br>serie=Asus ExpertBook B1<br>cpu_series=%{x}<br>prices=%{y}<br>memory_size=%{marker.size}<extra></extra>",
         "hovertext": [
          "Asus",
          "Asus",
          "Asus"
         ],
         "legendgroup": "Asus ExpertBook B1",
         "marker": {
          "color": "#8C564B",
          "size": [
           512,
           512,
           512
          ],
          "sizemode": "area",
          "sizeref": 4.444444444444445,
          "symbol": "circle"
         },
         "mode": "markers",
         "name": "Asus ExpertBook B1",
         "orientation": "v",
         "showlegend": true,
         "type": "scatter",
         "x": [
          "Intel Core i5",
          "Intel Core i7",
          "Intel Core i7"
         ],
         "xaxis": "x",
         "y": [
          399990,
          579990,
          579990
         ],
         "yaxis": "y"
        },
        {
         "hovertemplate": "<b>%{hovertext}</b><br><br>serie=Gigabyte AERO 16 KE5<br>cpu_series=%{x}<br>prices=%{y}<br>memory_size=%{marker.size}<extra></extra>",
         "hovertext": [
          "Gigabyte"
         ],
         "legendgroup": "Gigabyte AERO 16 KE5",
         "marker": {
          "color": "#E377C2",
          "size": [
           1000
          ],
          "sizemode": "area",
          "sizeref": 4.444444444444445,
          "symbol": "circle"
         },
         "mode": "markers",
         "name": "Gigabyte AERO 16 KE5",
         "orientation": "v",
         "showlegend": true,
         "type": "scatter",
         "x": [
          "Intel Core i7"
         ],
         "xaxis": "x",
         "y": [
          1317890
         ],
         "yaxis": "y"
        },
        {
         "hovertemplate": "<b>%{hovertext}</b><br><br>serie=Gigabyte G7 KE<br>cpu_series=%{x}<br>prices=%{y}<br>memory_size=%{marker.size}<extra></extra>",
         "hovertext": [
          "Gigabyte",
          "Gigabyte"
         ],
         "legendgroup": "Gigabyte G7 KE",
         "marker": {
          "color": "#7F7F7F",
          "size": [
           512,
           512
          ],
          "sizemode": "area",
          "sizeref": 4.444444444444445,
          "symbol": "circle"
         },
         "mode": "markers",
         "name": "Gigabyte G7 KE",
         "orientation": "v",
         "showlegend": true,
         "type": "scatter",
         "x": [
          "Intel Core i5",
          "Intel Core i5"
         ],
         "xaxis": "x",
         "y": [
          649490,
          719490
         ],
         "yaxis": "y"
        },
        {
         "hovertemplate": "<b>%{hovertext}</b><br><br>serie=Gigabyte G7 ME<br>cpu_series=%{x}<br>prices=%{y}<br>memory_size=%{marker.size}<extra></extra>",
         "hovertext": [
          "Gigabyte"
         ],
         "legendgroup": "Gigabyte G7 ME",
         "marker": {
          "color": "#BCBD22",
          "size": [
           512
          ],
          "sizemode": "area",
          "sizeref": 4.444444444444445,
          "symbol": "circle"
         },
         "mode": "markers",
         "name": "Gigabyte G7 ME",
         "orientation": "v",
         "showlegend": true,
         "type": "scatter",
         "x": [
          "Intel Core i5"
         ],
         "xaxis": "x",
         "y": [
          654490
         ],
         "yaxis": "y"
        }
       ],
       "layout": {
        "legend": {
         "itemsizing": "constant",
         "title": {
          "text": "serie"
         },
         "tracegroupgap": 0
        },
        "margin": {
         "t": 60
        },
        "template": {
         "data": {
          "bar": [
           {
            "error_x": {
             "color": "rgb(36,36,36)"
            },
            "error_y": {
             "color": "rgb(36,36,36)"
            },
            "marker": {
             "line": {
              "color": "white",
              "width": 0.5
             },
             "pattern": {
              "fillmode": "overlay",
              "size": 10,
              "solidity": 0.2
             }
            },
            "type": "bar"
           }
          ],
          "barpolar": [
           {
            "marker": {
             "line": {
              "color": "white",
              "width": 0.5
             },
             "pattern": {
              "fillmode": "overlay",
              "size": 10,
              "solidity": 0.2
             }
            },
            "type": "barpolar"
           }
          ],
          "carpet": [
           {
            "aaxis": {
             "endlinecolor": "rgb(36,36,36)",
             "gridcolor": "white",
             "linecolor": "white",
             "minorgridcolor": "white",
             "startlinecolor": "rgb(36,36,36)"
            },
            "baxis": {
             "endlinecolor": "rgb(36,36,36)",
             "gridcolor": "white",
             "linecolor": "white",
             "minorgridcolor": "white",
             "startlinecolor": "rgb(36,36,36)"
            },
            "type": "carpet"
           }
          ],
          "choropleth": [
           {
            "colorbar": {
             "outlinewidth": 1,
             "tickcolor": "rgb(36,36,36)",
             "ticks": "outside"
            },
            "type": "choropleth"
           }
          ],
          "contour": [
           {
            "colorbar": {
             "outlinewidth": 1,
             "tickcolor": "rgb(36,36,36)",
             "ticks": "outside"
            },
            "colorscale": [
             [
              0,
              "#440154"
             ],
             [
              0.1111111111111111,
              "#482878"
             ],
             [
              0.2222222222222222,
              "#3e4989"
             ],
             [
              0.3333333333333333,
              "#31688e"
             ],
             [
              0.4444444444444444,
              "#26828e"
             ],
             [
              0.5555555555555556,
              "#1f9e89"
             ],
             [
              0.6666666666666666,
              "#35b779"
             ],
             [
              0.7777777777777778,
              "#6ece58"
             ],
             [
              0.8888888888888888,
              "#b5de2b"
             ],
             [
              1,
              "#fde725"
             ]
            ],
            "type": "contour"
           }
          ],
          "contourcarpet": [
           {
            "colorbar": {
             "outlinewidth": 1,
             "tickcolor": "rgb(36,36,36)",
             "ticks": "outside"
            },
            "type": "contourcarpet"
           }
          ],
          "heatmap": [
           {
            "colorbar": {
             "outlinewidth": 1,
             "tickcolor": "rgb(36,36,36)",
             "ticks": "outside"
            },
            "colorscale": [
             [
              0,
              "#440154"
             ],
             [
              0.1111111111111111,
              "#482878"
             ],
             [
              0.2222222222222222,
              "#3e4989"
             ],
             [
              0.3333333333333333,
              "#31688e"
             ],
             [
              0.4444444444444444,
              "#26828e"
             ],
             [
              0.5555555555555556,
              "#1f9e89"
             ],
             [
              0.6666666666666666,
              "#35b779"
             ],
             [
              0.7777777777777778,
              "#6ece58"
             ],
             [
              0.8888888888888888,
              "#b5de2b"
             ],
             [
              1,
              "#fde725"
             ]
            ],
            "type": "heatmap"
           }
          ],
          "heatmapgl": [
           {
            "colorbar": {
             "outlinewidth": 1,
             "tickcolor": "rgb(36,36,36)",
             "ticks": "outside"
            },
            "colorscale": [
             [
              0,
              "#440154"
             ],
             [
              0.1111111111111111,
              "#482878"
             ],
             [
              0.2222222222222222,
              "#3e4989"
             ],
             [
              0.3333333333333333,
              "#31688e"
             ],
             [
              0.4444444444444444,
              "#26828e"
             ],
             [
              0.5555555555555556,
              "#1f9e89"
             ],
             [
              0.6666666666666666,
              "#35b779"
             ],
             [
              0.7777777777777778,
              "#6ece58"
             ],
             [
              0.8888888888888888,
              "#b5de2b"
             ],
             [
              1,
              "#fde725"
             ]
            ],
            "type": "heatmapgl"
           }
          ],
          "histogram": [
           {
            "marker": {
             "line": {
              "color": "white",
              "width": 0.6
             }
            },
            "type": "histogram"
           }
          ],
          "histogram2d": [
           {
            "colorbar": {
             "outlinewidth": 1,
             "tickcolor": "rgb(36,36,36)",
             "ticks": "outside"
            },
            "colorscale": [
             [
              0,
              "#440154"
             ],
             [
              0.1111111111111111,
              "#482878"
             ],
             [
              0.2222222222222222,
              "#3e4989"
             ],
             [
              0.3333333333333333,
              "#31688e"
             ],
             [
              0.4444444444444444,
              "#26828e"
             ],
             [
              0.5555555555555556,
              "#1f9e89"
             ],
             [
              0.6666666666666666,
              "#35b779"
             ],
             [
              0.7777777777777778,
              "#6ece58"
             ],
             [
              0.8888888888888888,
              "#b5de2b"
             ],
             [
              1,
              "#fde725"
             ]
            ],
            "type": "histogram2d"
           }
          ],
          "histogram2dcontour": [
           {
            "colorbar": {
             "outlinewidth": 1,
             "tickcolor": "rgb(36,36,36)",
             "ticks": "outside"
            },
            "colorscale": [
             [
              0,
              "#440154"
             ],
             [
              0.1111111111111111,
              "#482878"
             ],
             [
              0.2222222222222222,
              "#3e4989"
             ],
             [
              0.3333333333333333,
              "#31688e"
             ],
             [
              0.4444444444444444,
              "#26828e"
             ],
             [
              0.5555555555555556,
              "#1f9e89"
             ],
             [
              0.6666666666666666,
              "#35b779"
             ],
             [
              0.7777777777777778,
              "#6ece58"
             ],
             [
              0.8888888888888888,
              "#b5de2b"
             ],
             [
              1,
              "#fde725"
             ]
            ],
            "type": "histogram2dcontour"
           }
          ],
          "mesh3d": [
           {
            "colorbar": {
             "outlinewidth": 1,
             "tickcolor": "rgb(36,36,36)",
             "ticks": "outside"
            },
            "type": "mesh3d"
           }
          ],
          "parcoords": [
           {
            "line": {
             "colorbar": {
              "outlinewidth": 1,
              "tickcolor": "rgb(36,36,36)",
              "ticks": "outside"
             }
            },
            "type": "parcoords"
           }
          ],
          "pie": [
           {
            "automargin": true,
            "type": "pie"
           }
          ],
          "scatter": [
           {
            "marker": {
             "colorbar": {
              "outlinewidth": 1,
              "tickcolor": "rgb(36,36,36)",
              "ticks": "outside"
             }
            },
            "type": "scatter"
           }
          ],
          "scatter3d": [
           {
            "line": {
             "colorbar": {
              "outlinewidth": 1,
              "tickcolor": "rgb(36,36,36)",
              "ticks": "outside"
             }
            },
            "marker": {
             "colorbar": {
              "outlinewidth": 1,
              "tickcolor": "rgb(36,36,36)",
              "ticks": "outside"
             }
            },
            "type": "scatter3d"
           }
          ],
          "scattercarpet": [
           {
            "marker": {
             "colorbar": {
              "outlinewidth": 1,
              "tickcolor": "rgb(36,36,36)",
              "ticks": "outside"
             }
            },
            "type": "scattercarpet"
           }
          ],
          "scattergeo": [
           {
            "marker": {
             "colorbar": {
              "outlinewidth": 1,
              "tickcolor": "rgb(36,36,36)",
              "ticks": "outside"
             }
            },
            "type": "scattergeo"
           }
          ],
          "scattergl": [
           {
            "marker": {
             "colorbar": {
              "outlinewidth": 1,
              "tickcolor": "rgb(36,36,36)",
              "ticks": "outside"
             }
            },
            "type": "scattergl"
           }
          ],
          "scattermapbox": [
           {
            "marker": {
             "colorbar": {
              "outlinewidth": 1,
              "tickcolor": "rgb(36,36,36)",
              "ticks": "outside"
             }
            },
            "type": "scattermapbox"
           }
          ],
          "scatterpolar": [
           {
            "marker": {
             "colorbar": {
              "outlinewidth": 1,
              "tickcolor": "rgb(36,36,36)",
              "ticks": "outside"
             }
            },
            "type": "scatterpolar"
           }
          ],
          "scatterpolargl": [
           {
            "marker": {
             "colorbar": {
              "outlinewidth": 1,
              "tickcolor": "rgb(36,36,36)",
              "ticks": "outside"
             }
            },
            "type": "scatterpolargl"
           }
          ],
          "scatterternary": [
           {
            "marker": {
             "colorbar": {
              "outlinewidth": 1,
              "tickcolor": "rgb(36,36,36)",
              "ticks": "outside"
             }
            },
            "type": "scatterternary"
           }
          ],
          "surface": [
           {
            "colorbar": {
             "outlinewidth": 1,
             "tickcolor": "rgb(36,36,36)",
             "ticks": "outside"
            },
            "colorscale": [
             [
              0,
              "#440154"
             ],
             [
              0.1111111111111111,
              "#482878"
             ],
             [
              0.2222222222222222,
              "#3e4989"
             ],
             [
              0.3333333333333333,
              "#31688e"
             ],
             [
              0.4444444444444444,
              "#26828e"
             ],
             [
              0.5555555555555556,
              "#1f9e89"
             ],
             [
              0.6666666666666666,
              "#35b779"
             ],
             [
              0.7777777777777778,
              "#6ece58"
             ],
             [
              0.8888888888888888,
              "#b5de2b"
             ],
             [
              1,
              "#fde725"
             ]
            ],
            "type": "surface"
           }
          ],
          "table": [
           {
            "cells": {
             "fill": {
              "color": "rgb(237,237,237)"
             },
             "line": {
              "color": "white"
             }
            },
            "header": {
             "fill": {
              "color": "rgb(217,217,217)"
             },
             "line": {
              "color": "white"
             }
            },
            "type": "table"
           }
          ]
         },
         "layout": {
          "annotationdefaults": {
           "arrowhead": 0,
           "arrowwidth": 1
          },
          "autotypenumbers": "strict",
          "coloraxis": {
           "colorbar": {
            "outlinewidth": 1,
            "tickcolor": "rgb(36,36,36)",
            "ticks": "outside"
           }
          },
          "colorscale": {
           "diverging": [
            [
             0,
             "rgb(103,0,31)"
            ],
            [
             0.1,
             "rgb(178,24,43)"
            ],
            [
             0.2,
             "rgb(214,96,77)"
            ],
            [
             0.3,
             "rgb(244,165,130)"
            ],
            [
             0.4,
             "rgb(253,219,199)"
            ],
            [
             0.5,
             "rgb(247,247,247)"
            ],
            [
             0.6,
             "rgb(209,229,240)"
            ],
            [
             0.7,
             "rgb(146,197,222)"
            ],
            [
             0.8,
             "rgb(67,147,195)"
            ],
            [
             0.9,
             "rgb(33,102,172)"
            ],
            [
             1,
             "rgb(5,48,97)"
            ]
           ],
           "sequential": [
            [
             0,
             "#440154"
            ],
            [
             0.1111111111111111,
             "#482878"
            ],
            [
             0.2222222222222222,
             "#3e4989"
            ],
            [
             0.3333333333333333,
             "#31688e"
            ],
            [
             0.4444444444444444,
             "#26828e"
            ],
            [
             0.5555555555555556,
             "#1f9e89"
            ],
            [
             0.6666666666666666,
             "#35b779"
            ],
            [
             0.7777777777777778,
             "#6ece58"
            ],
            [
             0.8888888888888888,
             "#b5de2b"
            ],
            [
             1,
             "#fde725"
            ]
           ],
           "sequentialminus": [
            [
             0,
             "#440154"
            ],
            [
             0.1111111111111111,
             "#482878"
            ],
            [
             0.2222222222222222,
             "#3e4989"
            ],
            [
             0.3333333333333333,
             "#31688e"
            ],
            [
             0.4444444444444444,
             "#26828e"
            ],
            [
             0.5555555555555556,
             "#1f9e89"
            ],
            [
             0.6666666666666666,
             "#35b779"
            ],
            [
             0.7777777777777778,
             "#6ece58"
            ],
            [
             0.8888888888888888,
             "#b5de2b"
            ],
            [
             1,
             "#fde725"
            ]
           ]
          },
          "colorway": [
           "#1F77B4",
           "#FF7F0E",
           "#2CA02C",
           "#D62728",
           "#9467BD",
           "#8C564B",
           "#E377C2",
           "#7F7F7F",
           "#BCBD22",
           "#17BECF"
          ],
          "font": {
           "color": "rgb(36,36,36)"
          },
          "geo": {
           "bgcolor": "white",
           "lakecolor": "white",
           "landcolor": "white",
           "showlakes": true,
           "showland": true,
           "subunitcolor": "white"
          },
          "hoverlabel": {
           "align": "left"
          },
          "hovermode": "closest",
          "mapbox": {
           "style": "light"
          },
          "paper_bgcolor": "white",
          "plot_bgcolor": "white",
          "polar": {
           "angularaxis": {
            "gridcolor": "rgb(232,232,232)",
            "linecolor": "rgb(36,36,36)",
            "showgrid": false,
            "showline": true,
            "ticks": "outside"
           },
           "bgcolor": "white",
           "radialaxis": {
            "gridcolor": "rgb(232,232,232)",
            "linecolor": "rgb(36,36,36)",
            "showgrid": false,
            "showline": true,
            "ticks": "outside"
           }
          },
          "scene": {
           "xaxis": {
            "backgroundcolor": "white",
            "gridcolor": "rgb(232,232,232)",
            "gridwidth": 2,
            "linecolor": "rgb(36,36,36)",
            "showbackground": true,
            "showgrid": false,
            "showline": true,
            "ticks": "outside",
            "zeroline": false,
            "zerolinecolor": "rgb(36,36,36)"
           },
           "yaxis": {
            "backgroundcolor": "white",
            "gridcolor": "rgb(232,232,232)",
            "gridwidth": 2,
            "linecolor": "rgb(36,36,36)",
            "showbackground": true,
            "showgrid": false,
            "showline": true,
            "ticks": "outside",
            "zeroline": false,
            "zerolinecolor": "rgb(36,36,36)"
           },
           "zaxis": {
            "backgroundcolor": "white",
            "gridcolor": "rgb(232,232,232)",
            "gridwidth": 2,
            "linecolor": "rgb(36,36,36)",
            "showbackground": true,
            "showgrid": false,
            "showline": true,
            "ticks": "outside",
            "zeroline": false,
            "zerolinecolor": "rgb(36,36,36)"
           }
          },
          "shapedefaults": {
           "fillcolor": "black",
           "line": {
            "width": 0
           },
           "opacity": 0.3
          },
          "ternary": {
           "aaxis": {
            "gridcolor": "rgb(232,232,232)",
            "linecolor": "rgb(36,36,36)",
            "showgrid": false,
            "showline": true,
            "ticks": "outside"
           },
           "baxis": {
            "gridcolor": "rgb(232,232,232)",
            "linecolor": "rgb(36,36,36)",
            "showgrid": false,
            "showline": true,
            "ticks": "outside"
           },
           "bgcolor": "white",
           "caxis": {
            "gridcolor": "rgb(232,232,232)",
            "linecolor": "rgb(36,36,36)",
            "showgrid": false,
            "showline": true,
            "ticks": "outside"
           }
          },
          "title": {
           "x": 0.05
          },
          "xaxis": {
           "automargin": true,
           "gridcolor": "rgb(232,232,232)",
           "linecolor": "rgb(36,36,36)",
           "showgrid": false,
           "showline": true,
           "ticks": "outside",
           "title": {
            "standoff": 15
           },
           "zeroline": false,
           "zerolinecolor": "rgb(36,36,36)"
          },
          "yaxis": {
           "automargin": true,
           "gridcolor": "rgb(232,232,232)",
           "linecolor": "rgb(36,36,36)",
           "showgrid": false,
           "showline": true,
           "ticks": "outside",
           "title": {
            "standoff": 15
           },
           "zeroline": false,
           "zerolinecolor": "rgb(36,36,36)"
          }
         }
        },
        "xaxis": {
         "anchor": "y",
         "domain": [
          0,
          1
         ],
         "title": {
          "text": "cpu_series"
         }
        },
        "yaxis": {
         "anchor": "x",
         "domain": [
          0,
          1
         ],
         "title": {
          "text": "prices"
         }
        }
       }
      },
      "text/html": [
       "<div>                            <div id=\"a97ad26b-140c-49bf-aec2-a4696012fb1a\" class=\"plotly-graph-div\" style=\"height:525px; width:100%;\"></div>            <script type=\"text/javascript\">                require([\"plotly\"], function(Plotly) {                    window.PLOTLYENV=window.PLOTLYENV || {};                                    if (document.getElementById(\"a97ad26b-140c-49bf-aec2-a4696012fb1a\")) {                    Plotly.newPlot(                        \"a97ad26b-140c-49bf-aec2-a4696012fb1a\",                        [{\"hovertemplate\":\"<b>%{hovertext}</b><br><br>serie=Asus TUF Gaming F15<br>cpu_series=%{x}<br>prices=%{y}<br>memory_size=%{marker.size}<extra></extra>\",\"hovertext\":[\"Asus\",\"Asus\"],\"legendgroup\":\"Asus TUF Gaming F15\",\"marker\":{\"color\":\"#1F77B4\",\"size\":[512.0,512.0],\"sizemode\":\"area\",\"sizeref\":4.444444444444445,\"symbol\":\"circle\"},\"mode\":\"markers\",\"name\":\"Asus TUF Gaming F15\",\"orientation\":\"v\",\"showlegend\":true,\"x\":[\"Intel Core i5\",\"Intel Core i5\"],\"xaxis\":\"x\",\"y\":[579990,489990],\"yaxis\":\"y\",\"type\":\"scatter\"},{\"hovertemplate\":\"<b>%{hovertext}</b><br><br>serie=HUAWEI MateBook D15<br>cpu_series=%{x}<br>prices=%{y}<br>memory_size=%{marker.size}<extra></extra>\",\"hovertext\":[\"HUAWEI\",\"HUAWEI\"],\"legendgroup\":\"HUAWEI MateBook D15\",\"marker\":{\"color\":\"#FF7F0E\",\"size\":[256.0,512.0],\"sizemode\":\"area\",\"sizeref\":4.444444444444445,\"symbol\":\"circle\"},\"mode\":\"markers\",\"name\":\"HUAWEI MateBook D15\",\"orientation\":\"v\",\"showlegend\":true,\"x\":[\"Intel Core i3\",\"Intel Core i5\"],\"xaxis\":\"x\",\"y\":[299990,379990],\"yaxis\":\"y\",\"type\":\"scatter\"},{\"hovertemplate\":\"<b>%{hovertext}</b><br><br>serie=Asus X515JA<br>cpu_series=%{x}<br>prices=%{y}<br>memory_size=%{marker.size}<extra></extra>\",\"hovertext\":[\"Asus\",\"Asus\",\"Asus\",\"Asus\"],\"legendgroup\":\"Asus X515JA\",\"marker\":{\"color\":\"#2CA02C\",\"size\":[512.0,256.0,512.0,256.0],\"sizemode\":\"area\",\"sizeref\":4.444444444444445,\"symbol\":\"circle\"},\"mode\":\"markers\",\"name\":\"Asus X515JA\",\"orientation\":\"v\",\"showlegend\":true,\"x\":[\"Intel Core i5\",\"Intel Core i3\",\"Intel Core i7\",\"Intel Core i3\"],\"xaxis\":\"x\",\"y\":[299990,219990,359990,254990],\"yaxis\":\"y\",\"type\":\"scatter\"},{\"hovertemplate\":\"<b>%{hovertext}</b><br><br>serie=Asus F515EA<br>cpu_series=%{x}<br>prices=%{y}<br>memory_size=%{marker.size}<extra></extra>\",\"hovertext\":[\"Asus\"],\"legendgroup\":\"Asus F515EA\",\"marker\":{\"color\":\"#D62728\",\"size\":[128.0],\"sizemode\":\"area\",\"sizeref\":4.444444444444445,\"symbol\":\"circle\"},\"mode\":\"markers\",\"name\":\"Asus F515EA\",\"orientation\":\"v\",\"showlegend\":true,\"x\":[\"Intel Pentium Gold\"],\"xaxis\":\"x\",\"y\":[161490],\"yaxis\":\"y\",\"type\":\"scatter\"},{\"hovertemplate\":\"<b>%{hovertext}</b><br><br>serie=HUAWEI MateBook D14<br>cpu_series=%{x}<br>prices=%{y}<br>memory_size=%{marker.size}<extra></extra>\",\"hovertext\":[\"HUAWEI\"],\"legendgroup\":\"HUAWEI MateBook D14\",\"marker\":{\"color\":\"#9467BD\",\"size\":[256.0],\"sizemode\":\"area\",\"sizeref\":4.444444444444445,\"symbol\":\"circle\"},\"mode\":\"markers\",\"name\":\"HUAWEI MateBook D14\",\"orientation\":\"v\",\"showlegend\":true,\"x\":[\"Intel Core i3\"],\"xaxis\":\"x\",\"y\":[299990],\"yaxis\":\"y\",\"type\":\"scatter\"},{\"hovertemplate\":\"<b>%{hovertext}</b><br><br>serie=Asus VivoBook<br>cpu_series=%{x}<br>prices=%{y}<br>memory_size=%{marker.size}<extra></extra>\",\"hovertext\":[\"Asus\"],\"legendgroup\":\"Asus VivoBook\",\"marker\":{\"color\":\"#8C564B\",\"size\":[256.0],\"sizemode\":\"area\",\"sizeref\":4.444444444444445,\"symbol\":\"circle\"},\"mode\":\"markers\",\"name\":\"Asus VivoBook\",\"orientation\":\"v\",\"showlegend\":true,\"x\":[\"Intel Core i3\"],\"xaxis\":\"x\",\"y\":[249990],\"yaxis\":\"y\",\"type\":\"scatter\"},{\"hovertemplate\":\"<b>%{hovertext}</b><br><br>serie=Asus VivoBook S14<br>cpu_series=%{x}<br>prices=%{y}<br>memory_size=%{marker.size}<extra></extra>\",\"hovertext\":[\"Asus\"],\"legendgroup\":\"Asus VivoBook S14\",\"marker\":{\"color\":\"#E377C2\",\"size\":[512.0],\"sizemode\":\"area\",\"sizeref\":4.444444444444445,\"symbol\":\"circle\"},\"mode\":\"markers\",\"name\":\"Asus VivoBook S14\",\"orientation\":\"v\",\"showlegend\":true,\"x\":[\"Intel Core i5\"],\"xaxis\":\"x\",\"y\":[395990],\"yaxis\":\"y\",\"type\":\"scatter\"},{\"hovertemplate\":\"<b>%{hovertext}</b><br><br>serie=Asus Zenbook OLED<br>cpu_series=%{x}<br>prices=%{y}<br>memory_size=%{marker.size}<extra></extra>\",\"hovertext\":[\"Asus\",\"Asus\"],\"legendgroup\":\"Asus Zenbook OLED\",\"marker\":{\"color\":\"#7F7F7F\",\"size\":[512.0,512.0],\"sizemode\":\"area\",\"sizeref\":4.444444444444445,\"symbol\":\"circle\"},\"mode\":\"markers\",\"name\":\"Asus Zenbook OLED\",\"orientation\":\"v\",\"showlegend\":true,\"x\":[\"Intel Core i5\",\"Intel Core i5\"],\"xaxis\":\"x\",\"y\":[599990,579990],\"yaxis\":\"y\",\"type\":\"scatter\"},{\"hovertemplate\":\"<b>%{hovertext}</b><br><br>serie=Asus TUF Gaming F17<br>cpu_series=%{x}<br>prices=%{y}<br>memory_size=%{marker.size}<extra></extra>\",\"hovertext\":[\"Asus\"],\"legendgroup\":\"Asus TUF Gaming F17\",\"marker\":{\"color\":\"#BCBD22\",\"size\":[512.0],\"sizemode\":\"area\",\"sizeref\":4.444444444444445,\"symbol\":\"circle\"},\"mode\":\"markers\",\"name\":\"Asus TUF Gaming F17\",\"orientation\":\"v\",\"showlegend\":true,\"x\":[\"Intel Core i5\"],\"xaxis\":\"x\",\"y\":[709990],\"yaxis\":\"y\",\"type\":\"scatter\"},{\"hovertemplate\":\"<b>%{hovertext}</b><br><br>serie=Asus Zenbook 14 OLED<br>cpu_series=%{x}<br>prices=%{y}<br>memory_size=%{marker.size}<extra></extra>\",\"hovertext\":[\"Asus\",\"Asus\"],\"legendgroup\":\"Asus Zenbook 14 OLED\",\"marker\":{\"color\":\"#17BECF\",\"size\":[512.0,1000.0],\"sizemode\":\"area\",\"sizeref\":4.444444444444445,\"symbol\":\"circle\"},\"mode\":\"markers\",\"name\":\"Asus Zenbook 14 OLED\",\"orientation\":\"v\",\"showlegend\":true,\"x\":[\"Intel Core i5\",\"Intel Core i7\"],\"xaxis\":\"x\",\"y\":[599990,729990],\"yaxis\":\"y\",\"type\":\"scatter\"},{\"hovertemplate\":\"<b>%{hovertext}</b><br><br>serie=Asus TUF Dash F15<br>cpu_series=%{x}<br>prices=%{y}<br>memory_size=%{marker.size}<extra></extra>\",\"hovertext\":[\"Asus\",\"Asus\"],\"legendgroup\":\"Asus TUF Dash F15\",\"marker\":{\"color\":\"#1F77B4\",\"size\":[512.0,1000.0],\"sizemode\":\"area\",\"sizeref\":4.444444444444445,\"symbol\":\"circle\"},\"mode\":\"markers\",\"name\":\"Asus TUF Dash F15\",\"orientation\":\"v\",\"showlegend\":true,\"x\":[\"Intel Core i5\",\"Intel Core i7\"],\"xaxis\":\"x\",\"y\":[579990,959990],\"yaxis\":\"y\",\"type\":\"scatter\"},{\"hovertemplate\":\"<b>%{hovertext}</b><br><br>serie=Asus Zenbook Pro Duo OLED<br>cpu_series=%{x}<br>prices=%{y}<br>memory_size=%{marker.size}<extra></extra>\",\"hovertext\":[\"Asus\"],\"legendgroup\":\"Asus Zenbook Pro Duo OLED\",\"marker\":{\"color\":\"#FF7F0E\",\"size\":[512.0],\"sizemode\":\"area\",\"sizeref\":4.444444444444445,\"symbol\":\"circle\"},\"mode\":\"markers\",\"name\":\"Asus Zenbook Pro Duo OLED\",\"orientation\":\"v\",\"showlegend\":true,\"x\":[\"Intel Core i5\"],\"xaxis\":\"x\",\"y\":[404990],\"yaxis\":\"y\",\"type\":\"scatter\"},{\"hovertemplate\":\"<b>%{hovertext}</b><br><br>serie=Lenovo IdeaPad Gaming 3<br>cpu_series=%{x}<br>prices=%{y}<br>memory_size=%{marker.size}<extra></extra>\",\"hovertext\":[\"Lenovo\",\"Lenovo\",\"Lenovo\",\"Lenovo\"],\"legendgroup\":\"Lenovo IdeaPad Gaming 3\",\"marker\":{\"color\":\"#2CA02C\",\"size\":[512.0,512.0,512.0,512.0],\"sizemode\":\"area\",\"sizeref\":4.444444444444445,\"symbol\":\"circle\"},\"mode\":\"markers\",\"name\":\"Lenovo IdeaPad Gaming 3\",\"orientation\":\"v\",\"showlegend\":true,\"x\":[\"Intel Core i7\",\"Intel Core i5\",\"Intel Core i5\",\"Intel Core i5\"],\"xaxis\":\"x\",\"y\":[629990,479990,559990,529990],\"yaxis\":\"y\",\"type\":\"scatter\"},{\"hovertemplate\":\"<b>%{hovertext}</b><br><br>serie=HP Victus<br>cpu_series=%{x}<br>prices=%{y}<br>memory_size=%{marker.size}<extra></extra>\",\"hovertext\":[\"HP\",\"HP\",\"HP\"],\"legendgroup\":\"HP Victus\",\"marker\":{\"color\":\"#D62728\",\"size\":[512.0,512.0,512.0],\"sizemode\":\"area\",\"sizeref\":4.444444444444445,\"symbol\":\"circle\"},\"mode\":\"markers\",\"name\":\"HP Victus\",\"orientation\":\"v\",\"showlegend\":true,\"x\":[\"Intel Core i5\",\"Intel Core i5\",\"Intel Core i5\"],\"xaxis\":\"x\",\"y\":[599990,519890,464990],\"yaxis\":\"y\",\"type\":\"scatter\"},{\"hovertemplate\":\"<b>%{hovertext}</b><br><br>serie=Lenovo IdeaPad L3<br>cpu_series=%{x}<br>prices=%{y}<br>memory_size=%{marker.size}<extra></extra>\",\"hovertext\":[\"Lenovo\"],\"legendgroup\":\"Lenovo IdeaPad L3\",\"marker\":{\"color\":\"#9467BD\",\"size\":[1000.0],\"sizemode\":\"area\",\"sizeref\":4.444444444444445,\"symbol\":\"circle\"},\"mode\":\"markers\",\"name\":\"Lenovo IdeaPad L3\",\"orientation\":\"v\",\"showlegend\":true,\"x\":[\"Intel Celeron\"],\"xaxis\":\"x\",\"y\":[189990],\"yaxis\":\"y\",\"type\":\"scatter\"},{\"hovertemplate\":\"<b>%{hovertext}</b><br><br>serie=HP Envy x360<br>cpu_series=%{x}<br>prices=%{y}<br>memory_size=%{marker.size}<extra></extra>\",\"hovertext\":[\"HP\"],\"legendgroup\":\"HP Envy x360\",\"marker\":{\"color\":\"#8C564B\",\"size\":[512.0],\"sizemode\":\"area\",\"sizeref\":4.444444444444445,\"symbol\":\"circle\"},\"mode\":\"markers\",\"name\":\"HP Envy x360\",\"orientation\":\"v\",\"showlegend\":true,\"x\":[\"Intel Core i5\"],\"xaxis\":\"x\",\"y\":[556890],\"yaxis\":\"y\",\"type\":\"scatter\"},{\"hovertemplate\":\"<b>%{hovertext}</b><br><br>serie=Asus P1512<br>cpu_series=%{x}<br>prices=%{y}<br>memory_size=%{marker.size}<extra></extra>\",\"hovertext\":[\"Asus\"],\"legendgroup\":\"Asus P1512\",\"marker\":{\"color\":\"#E377C2\",\"size\":[256.0],\"sizemode\":\"area\",\"sizeref\":4.444444444444445,\"symbol\":\"circle\"},\"mode\":\"markers\",\"name\":\"Asus P1512\",\"orientation\":\"v\",\"showlegend\":true,\"x\":[\"Intel Core i3\"],\"xaxis\":\"x\",\"y\":[319990],\"yaxis\":\"y\",\"type\":\"scatter\"},{\"hovertemplate\":\"<b>%{hovertext}</b><br><br>serie=HP Envy<br>cpu_series=%{x}<br>prices=%{y}<br>memory_size=%{marker.size}<extra></extra>\",\"hovertext\":[\"HP\",\"HP\",\"HP\",\"HP\"],\"legendgroup\":\"HP Envy\",\"marker\":{\"color\":\"#7F7F7F\",\"size\":[512.0,256.0,512.0,512.0],\"sizemode\":\"area\",\"sizeref\":4.444444444444445,\"symbol\":\"circle\"},\"mode\":\"markers\",\"name\":\"HP Envy\",\"orientation\":\"v\",\"showlegend\":true,\"x\":[\"Intel Core i5\",\"Intel Core i5\",\"Intel Core i5\",\"Intel Core i5\"],\"xaxis\":\"x\",\"y\":[522890,484990,469990,543990],\"yaxis\":\"y\",\"type\":\"scatter\"},{\"hovertemplate\":\"<b>%{hovertext}</b><br><br>serie=Lenovo V15<br>cpu_series=%{x}<br>prices=%{y}<br>memory_size=%{marker.size}<extra></extra>\",\"hovertext\":[\"Lenovo\",\"Lenovo\"],\"legendgroup\":\"Lenovo V15\",\"marker\":{\"color\":\"#BCBD22\",\"size\":[256.0,1000.0],\"sizemode\":\"area\",\"sizeref\":4.444444444444445,\"symbol\":\"circle\"},\"mode\":\"markers\",\"name\":\"Lenovo V15\",\"orientation\":\"v\",\"showlegend\":true,\"x\":[\"Intel Core i3\",\"Intel Core i3\"],\"xaxis\":\"x\",\"y\":[259990,239990],\"yaxis\":\"y\",\"type\":\"scatter\"},{\"hovertemplate\":\"<b>%{hovertext}</b><br><br>serie=LG Gram<br>cpu_series=%{x}<br>prices=%{y}<br>memory_size=%{marker.size}<extra></extra>\",\"hovertext\":[\"LG\",\"LG\"],\"legendgroup\":\"LG Gram\",\"marker\":{\"color\":\"#17BECF\",\"size\":[1000.0,512.0],\"sizemode\":\"area\",\"sizeref\":4.444444444444445,\"symbol\":\"circle\"},\"mode\":\"markers\",\"name\":\"LG Gram\",\"orientation\":\"v\",\"showlegend\":true,\"x\":[\"Intel Core i7\",\"Intel Core i7\"],\"xaxis\":\"x\",\"y\":[1069990,969990],\"yaxis\":\"y\",\"type\":\"scatter\"},{\"hovertemplate\":\"<b>%{hovertext}</b><br><br>serie=Lenovo IdeaPad 5 Pro<br>cpu_series=%{x}<br>prices=%{y}<br>memory_size=%{marker.size}<extra></extra>\",\"hovertext\":[\"Lenovo\",\"Lenovo\"],\"legendgroup\":\"Lenovo IdeaPad 5 Pro\",\"marker\":{\"color\":\"#1F77B4\",\"size\":[512.0,512.0],\"sizemode\":\"area\",\"sizeref\":4.444444444444445,\"symbol\":\"circle\"},\"mode\":\"markers\",\"name\":\"Lenovo IdeaPad 5 Pro\",\"orientation\":\"v\",\"showlegend\":true,\"x\":[\"Intel Core i5\",\"Intel Core i7\"],\"xaxis\":\"x\",\"y\":[559990,499990],\"yaxis\":\"y\",\"type\":\"scatter\"},{\"hovertemplate\":\"<b>%{hovertext}</b><br><br>serie=Asus ExpertBook B5<br>cpu_series=%{x}<br>prices=%{y}<br>memory_size=%{marker.size}<extra></extra>\",\"hovertext\":[\"Asus\"],\"legendgroup\":\"Asus ExpertBook B5\",\"marker\":{\"color\":\"#FF7F0E\",\"size\":[512.0],\"sizemode\":\"area\",\"sizeref\":4.444444444444445,\"symbol\":\"circle\"},\"mode\":\"markers\",\"name\":\"Asus ExpertBook B5\",\"orientation\":\"v\",\"showlegend\":true,\"x\":[\"Intel Core i5\"],\"xaxis\":\"x\",\"y\":[569990],\"yaxis\":\"y\",\"type\":\"scatter\"},{\"hovertemplate\":\"<b>%{hovertext}</b><br><br>serie=Lenovo Yoga Slim 7 Pro<br>cpu_series=%{x}<br>prices=%{y}<br>memory_size=%{marker.size}<extra></extra>\",\"hovertext\":[\"Lenovo\"],\"legendgroup\":\"Lenovo Yoga Slim 7 Pro\",\"marker\":{\"color\":\"#2CA02C\",\"size\":[512.0],\"sizemode\":\"area\",\"sizeref\":4.444444444444445,\"symbol\":\"circle\"},\"mode\":\"markers\",\"name\":\"Lenovo Yoga Slim 7 Pro\",\"orientation\":\"v\",\"showlegend\":true,\"x\":[\"Intel Core i5\"],\"xaxis\":\"x\",\"y\":[519990],\"yaxis\":\"y\",\"type\":\"scatter\"},{\"hovertemplate\":\"<b>%{hovertext}</b><br><br>serie=Lenovo IdeaPad 3<br>cpu_series=%{x}<br>prices=%{y}<br>memory_size=%{marker.size}<extra></extra>\",\"hovertext\":[\"Lenovo\"],\"legendgroup\":\"Lenovo IdeaPad 3\",\"marker\":{\"color\":\"#D62728\",\"size\":[1000.0],\"sizemode\":\"area\",\"sizeref\":4.444444444444445,\"symbol\":\"circle\"},\"mode\":\"markers\",\"name\":\"Lenovo IdeaPad 3\",\"orientation\":\"v\",\"showlegend\":true,\"x\":[\"Intel Core i3\"],\"xaxis\":\"x\",\"y\":[239990],\"yaxis\":\"y\",\"type\":\"scatter\"},{\"hovertemplate\":\"<b>%{hovertext}</b><br><br>serie=Gigabyte U4 UD<br>cpu_series=%{x}<br>prices=%{y}<br>memory_size=%{marker.size}<extra></extra>\",\"hovertext\":[\"Gigabyte\",\"Gigabyte\"],\"legendgroup\":\"Gigabyte U4 UD\",\"marker\":{\"color\":\"#9467BD\",\"size\":[512.0,512.0],\"sizemode\":\"area\",\"sizeref\":4.444444444444445,\"symbol\":\"circle\"},\"mode\":\"markers\",\"name\":\"Gigabyte U4 UD\",\"orientation\":\"v\",\"showlegend\":true,\"x\":[\"Intel Core i7\",\"Intel Core i7\"],\"xaxis\":\"x\",\"y\":[479990,476390],\"yaxis\":\"y\",\"type\":\"scatter\"},{\"hovertemplate\":\"<b>%{hovertext}</b><br><br>serie=Asus Laptop Series<br>cpu_series=%{x}<br>prices=%{y}<br>memory_size=%{marker.size}<extra></extra>\",\"hovertext\":[\"Asus\"],\"legendgroup\":\"Asus Laptop Series\",\"marker\":{\"color\":\"#8C564B\",\"size\":[512.0],\"sizemode\":\"area\",\"sizeref\":4.444444444444445,\"symbol\":\"circle\"},\"mode\":\"markers\",\"name\":\"Asus Laptop Series\",\"orientation\":\"v\",\"showlegend\":true,\"x\":[\"Intel Core i7\"],\"xaxis\":\"x\",\"y\":[419990],\"yaxis\":\"y\",\"type\":\"scatter\"},{\"hovertemplate\":\"<b>%{hovertext}</b><br><br>serie=Asus VivoBook Pro 15 OLED<br>cpu_series=%{x}<br>prices=%{y}<br>memory_size=%{marker.size}<extra></extra>\",\"hovertext\":[\"Asus\"],\"legendgroup\":\"Asus VivoBook Pro 15 OLED\",\"marker\":{\"color\":\"#E377C2\",\"size\":[512.0],\"sizemode\":\"area\",\"sizeref\":4.444444444444445,\"symbol\":\"circle\"},\"mode\":\"markers\",\"name\":\"Asus VivoBook Pro 15 OLED\",\"orientation\":\"v\",\"showlegend\":true,\"x\":[\"Intel Core i5\"],\"xaxis\":\"x\",\"y\":[519990],\"yaxis\":\"y\",\"type\":\"scatter\"},{\"hovertemplate\":\"<b>%{hovertext}</b><br><br>serie=Asus VivoBook 14<br>cpu_series=%{x}<br>prices=%{y}<br>memory_size=%{marker.size}<extra></extra>\",\"hovertext\":[\"Asus\"],\"legendgroup\":\"Asus VivoBook 14\",\"marker\":{\"color\":\"#7F7F7F\",\"size\":[256.0],\"sizemode\":\"area\",\"sizeref\":4.444444444444445,\"symbol\":\"circle\"},\"mode\":\"markers\",\"name\":\"Asus VivoBook 14\",\"orientation\":\"v\",\"showlegend\":true,\"x\":[\"Intel Core i3\"],\"xaxis\":\"x\",\"y\":[319990],\"yaxis\":\"y\",\"type\":\"scatter\"},{\"hovertemplate\":\"<b>%{hovertext}</b><br><br>serie=HP Spectre x360<br>cpu_series=%{x}<br>prices=%{y}<br>memory_size=%{marker.size}<extra></extra>\",\"hovertext\":[\"HP\"],\"legendgroup\":\"HP Spectre x360\",\"marker\":{\"color\":\"#BCBD22\",\"size\":[512.0],\"sizemode\":\"area\",\"sizeref\":4.444444444444445,\"symbol\":\"circle\"},\"mode\":\"markers\",\"name\":\"HP Spectre x360\",\"orientation\":\"v\",\"showlegend\":true,\"x\":[\"Intel Core i5\"],\"xaxis\":\"x\",\"y\":[774990],\"yaxis\":\"y\",\"type\":\"scatter\"},{\"hovertemplate\":\"<b>%{hovertext}</b><br><br>serie=HP Laptop<br>cpu_series=%{x}<br>prices=%{y}<br>memory_size=%{marker.size}<extra></extra>\",\"hovertext\":[\"HP\"],\"legendgroup\":\"HP Laptop\",\"marker\":{\"color\":\"#17BECF\",\"size\":[512.0],\"sizemode\":\"area\",\"sizeref\":4.444444444444445,\"symbol\":\"circle\"},\"mode\":\"markers\",\"name\":\"HP Laptop\",\"orientation\":\"v\",\"showlegend\":true,\"x\":[\"Intel Core i3\"],\"xaxis\":\"x\",\"y\":[369990],\"yaxis\":\"y\",\"type\":\"scatter\"},{\"hovertemplate\":\"<b>%{hovertext}</b><br><br>serie=Asus ROG Flow Z13<br>cpu_series=%{x}<br>prices=%{y}<br>memory_size=%{marker.size}<extra></extra>\",\"hovertext\":[\"Asus\"],\"legendgroup\":\"Asus ROG Flow Z13\",\"marker\":{\"color\":\"#1F77B4\",\"size\":[512.0],\"sizemode\":\"area\",\"sizeref\":4.444444444444445,\"symbol\":\"circle\"},\"mode\":\"markers\",\"name\":\"Asus ROG Flow Z13\",\"orientation\":\"v\",\"showlegend\":true,\"x\":[\"Intel Core i7\"],\"xaxis\":\"x\",\"y\":[1569990],\"yaxis\":\"y\",\"type\":\"scatter\"},{\"hovertemplate\":\"<b>%{hovertext}</b><br><br>serie=Asus Zenbook Pro 16X OLED<br>cpu_series=%{x}<br>prices=%{y}<br>memory_size=%{marker.size}<extra></extra>\",\"hovertext\":[\"Asus\"],\"legendgroup\":\"Asus Zenbook Pro 16X OLED\",\"marker\":{\"color\":\"#FF7F0E\",\"size\":[1000.0],\"sizemode\":\"area\",\"sizeref\":4.444444444444445,\"symbol\":\"circle\"},\"mode\":\"markers\",\"name\":\"Asus Zenbook Pro 16X OLED\",\"orientation\":\"v\",\"showlegend\":true,\"x\":[\"Intel Core i7\"],\"xaxis\":\"x\",\"y\":[1629990],\"yaxis\":\"y\",\"type\":\"scatter\"},{\"hovertemplate\":\"<b>%{hovertext}</b><br><br>serie=Asus ROG STRIX SCAR 15<br>cpu_series=%{x}<br>prices=%{y}<br>memory_size=%{marker.size}<extra></extra>\",\"hovertext\":[\"Asus\"],\"legendgroup\":\"Asus ROG STRIX SCAR 15\",\"marker\":{\"color\":\"#2CA02C\",\"size\":[1000.0],\"sizemode\":\"area\",\"sizeref\":4.444444444444445,\"symbol\":\"circle\"},\"mode\":\"markers\",\"name\":\"Asus ROG STRIX SCAR 15\",\"orientation\":\"v\",\"showlegend\":true,\"x\":[\"Intel Core i9\"],\"xaxis\":\"x\",\"y\":[1599990],\"yaxis\":\"y\",\"type\":\"scatter\"},{\"hovertemplate\":\"<b>%{hovertext}</b><br><br>serie=Asus X515EA<br>cpu_series=%{x}<br>prices=%{y}<br>memory_size=%{marker.size}<extra></extra>\",\"hovertext\":[\"Asus\",\"Asus\"],\"legendgroup\":\"Asus X515EA\",\"marker\":{\"color\":\"#D62728\",\"size\":[512.0,256.0],\"sizemode\":\"area\",\"sizeref\":4.444444444444445,\"symbol\":\"circle\"},\"mode\":\"markers\",\"name\":\"Asus X515EA\",\"orientation\":\"v\",\"showlegend\":true,\"x\":[\"Intel Core i5\",\"Intel Core i5\"],\"xaxis\":\"x\",\"y\":[299990,314990],\"yaxis\":\"y\",\"type\":\"scatter\"},{\"hovertemplate\":\"<b>%{hovertext}</b><br><br>serie=Asus VivoBook 15<br>cpu_series=%{x}<br>prices=%{y}<br>memory_size=%{marker.size}<extra></extra>\",\"hovertext\":[\"Asus\"],\"legendgroup\":\"Asus VivoBook 15\",\"marker\":{\"color\":\"#9467BD\",\"size\":[512.0],\"sizemode\":\"area\",\"sizeref\":4.444444444444445,\"symbol\":\"circle\"},\"mode\":\"markers\",\"name\":\"Asus VivoBook 15\",\"orientation\":\"v\",\"showlegend\":true,\"x\":[\"Intel Core i3\"],\"xaxis\":\"x\",\"y\":[289990],\"yaxis\":\"y\",\"type\":\"scatter\"},{\"hovertemplate\":\"<b>%{hovertext}</b><br><br>serie=Asus ExpertBook B1<br>cpu_series=%{x}<br>prices=%{y}<br>memory_size=%{marker.size}<extra></extra>\",\"hovertext\":[\"Asus\",\"Asus\",\"Asus\"],\"legendgroup\":\"Asus ExpertBook B1\",\"marker\":{\"color\":\"#8C564B\",\"size\":[512.0,512.0,512.0],\"sizemode\":\"area\",\"sizeref\":4.444444444444445,\"symbol\":\"circle\"},\"mode\":\"markers\",\"name\":\"Asus ExpertBook B1\",\"orientation\":\"v\",\"showlegend\":true,\"x\":[\"Intel Core i5\",\"Intel Core i7\",\"Intel Core i7\"],\"xaxis\":\"x\",\"y\":[399990,579990,579990],\"yaxis\":\"y\",\"type\":\"scatter\"},{\"hovertemplate\":\"<b>%{hovertext}</b><br><br>serie=Gigabyte AERO 16 KE5<br>cpu_series=%{x}<br>prices=%{y}<br>memory_size=%{marker.size}<extra></extra>\",\"hovertext\":[\"Gigabyte\"],\"legendgroup\":\"Gigabyte AERO 16 KE5\",\"marker\":{\"color\":\"#E377C2\",\"size\":[1000.0],\"sizemode\":\"area\",\"sizeref\":4.444444444444445,\"symbol\":\"circle\"},\"mode\":\"markers\",\"name\":\"Gigabyte AERO 16 KE5\",\"orientation\":\"v\",\"showlegend\":true,\"x\":[\"Intel Core i7\"],\"xaxis\":\"x\",\"y\":[1317890],\"yaxis\":\"y\",\"type\":\"scatter\"},{\"hovertemplate\":\"<b>%{hovertext}</b><br><br>serie=Gigabyte G7 KE<br>cpu_series=%{x}<br>prices=%{y}<br>memory_size=%{marker.size}<extra></extra>\",\"hovertext\":[\"Gigabyte\",\"Gigabyte\"],\"legendgroup\":\"Gigabyte G7 KE\",\"marker\":{\"color\":\"#7F7F7F\",\"size\":[512.0,512.0],\"sizemode\":\"area\",\"sizeref\":4.444444444444445,\"symbol\":\"circle\"},\"mode\":\"markers\",\"name\":\"Gigabyte G7 KE\",\"orientation\":\"v\",\"showlegend\":true,\"x\":[\"Intel Core i5\",\"Intel Core i5\"],\"xaxis\":\"x\",\"y\":[649490,719490],\"yaxis\":\"y\",\"type\":\"scatter\"},{\"hovertemplate\":\"<b>%{hovertext}</b><br><br>serie=Gigabyte G7 ME<br>cpu_series=%{x}<br>prices=%{y}<br>memory_size=%{marker.size}<extra></extra>\",\"hovertext\":[\"Gigabyte\"],\"legendgroup\":\"Gigabyte G7 ME\",\"marker\":{\"color\":\"#BCBD22\",\"size\":[512.0],\"sizemode\":\"area\",\"sizeref\":4.444444444444445,\"symbol\":\"circle\"},\"mode\":\"markers\",\"name\":\"Gigabyte G7 ME\",\"orientation\":\"v\",\"showlegend\":true,\"x\":[\"Intel Core i5\"],\"xaxis\":\"x\",\"y\":[654490],\"yaxis\":\"y\",\"type\":\"scatter\"}],                        {\"template\":{\"data\":{\"barpolar\":[{\"marker\":{\"line\":{\"color\":\"white\",\"width\":0.5},\"pattern\":{\"fillmode\":\"overlay\",\"size\":10,\"solidity\":0.2}},\"type\":\"barpolar\"}],\"bar\":[{\"error_x\":{\"color\":\"rgb(36,36,36)\"},\"error_y\":{\"color\":\"rgb(36,36,36)\"},\"marker\":{\"line\":{\"color\":\"white\",\"width\":0.5},\"pattern\":{\"fillmode\":\"overlay\",\"size\":10,\"solidity\":0.2}},\"type\":\"bar\"}],\"carpet\":[{\"aaxis\":{\"endlinecolor\":\"rgb(36,36,36)\",\"gridcolor\":\"white\",\"linecolor\":\"white\",\"minorgridcolor\":\"white\",\"startlinecolor\":\"rgb(36,36,36)\"},\"baxis\":{\"endlinecolor\":\"rgb(36,36,36)\",\"gridcolor\":\"white\",\"linecolor\":\"white\",\"minorgridcolor\":\"white\",\"startlinecolor\":\"rgb(36,36,36)\"},\"type\":\"carpet\"}],\"choropleth\":[{\"colorbar\":{\"outlinewidth\":1,\"tickcolor\":\"rgb(36,36,36)\",\"ticks\":\"outside\"},\"type\":\"choropleth\"}],\"contourcarpet\":[{\"colorbar\":{\"outlinewidth\":1,\"tickcolor\":\"rgb(36,36,36)\",\"ticks\":\"outside\"},\"type\":\"contourcarpet\"}],\"contour\":[{\"colorbar\":{\"outlinewidth\":1,\"tickcolor\":\"rgb(36,36,36)\",\"ticks\":\"outside\"},\"colorscale\":[[0.0,\"#440154\"],[0.1111111111111111,\"#482878\"],[0.2222222222222222,\"#3e4989\"],[0.3333333333333333,\"#31688e\"],[0.4444444444444444,\"#26828e\"],[0.5555555555555556,\"#1f9e89\"],[0.6666666666666666,\"#35b779\"],[0.7777777777777778,\"#6ece58\"],[0.8888888888888888,\"#b5de2b\"],[1.0,\"#fde725\"]],\"type\":\"contour\"}],\"heatmapgl\":[{\"colorbar\":{\"outlinewidth\":1,\"tickcolor\":\"rgb(36,36,36)\",\"ticks\":\"outside\"},\"colorscale\":[[0.0,\"#440154\"],[0.1111111111111111,\"#482878\"],[0.2222222222222222,\"#3e4989\"],[0.3333333333333333,\"#31688e\"],[0.4444444444444444,\"#26828e\"],[0.5555555555555556,\"#1f9e89\"],[0.6666666666666666,\"#35b779\"],[0.7777777777777778,\"#6ece58\"],[0.8888888888888888,\"#b5de2b\"],[1.0,\"#fde725\"]],\"type\":\"heatmapgl\"}],\"heatmap\":[{\"colorbar\":{\"outlinewidth\":1,\"tickcolor\":\"rgb(36,36,36)\",\"ticks\":\"outside\"},\"colorscale\":[[0.0,\"#440154\"],[0.1111111111111111,\"#482878\"],[0.2222222222222222,\"#3e4989\"],[0.3333333333333333,\"#31688e\"],[0.4444444444444444,\"#26828e\"],[0.5555555555555556,\"#1f9e89\"],[0.6666666666666666,\"#35b779\"],[0.7777777777777778,\"#6ece58\"],[0.8888888888888888,\"#b5de2b\"],[1.0,\"#fde725\"]],\"type\":\"heatmap\"}],\"histogram2dcontour\":[{\"colorbar\":{\"outlinewidth\":1,\"tickcolor\":\"rgb(36,36,36)\",\"ticks\":\"outside\"},\"colorscale\":[[0.0,\"#440154\"],[0.1111111111111111,\"#482878\"],[0.2222222222222222,\"#3e4989\"],[0.3333333333333333,\"#31688e\"],[0.4444444444444444,\"#26828e\"],[0.5555555555555556,\"#1f9e89\"],[0.6666666666666666,\"#35b779\"],[0.7777777777777778,\"#6ece58\"],[0.8888888888888888,\"#b5de2b\"],[1.0,\"#fde725\"]],\"type\":\"histogram2dcontour\"}],\"histogram2d\":[{\"colorbar\":{\"outlinewidth\":1,\"tickcolor\":\"rgb(36,36,36)\",\"ticks\":\"outside\"},\"colorscale\":[[0.0,\"#440154\"],[0.1111111111111111,\"#482878\"],[0.2222222222222222,\"#3e4989\"],[0.3333333333333333,\"#31688e\"],[0.4444444444444444,\"#26828e\"],[0.5555555555555556,\"#1f9e89\"],[0.6666666666666666,\"#35b779\"],[0.7777777777777778,\"#6ece58\"],[0.8888888888888888,\"#b5de2b\"],[1.0,\"#fde725\"]],\"type\":\"histogram2d\"}],\"histogram\":[{\"marker\":{\"line\":{\"color\":\"white\",\"width\":0.6}},\"type\":\"histogram\"}],\"mesh3d\":[{\"colorbar\":{\"outlinewidth\":1,\"tickcolor\":\"rgb(36,36,36)\",\"ticks\":\"outside\"},\"type\":\"mesh3d\"}],\"parcoords\":[{\"line\":{\"colorbar\":{\"outlinewidth\":1,\"tickcolor\":\"rgb(36,36,36)\",\"ticks\":\"outside\"}},\"type\":\"parcoords\"}],\"pie\":[{\"automargin\":true,\"type\":\"pie\"}],\"scatter3d\":[{\"line\":{\"colorbar\":{\"outlinewidth\":1,\"tickcolor\":\"rgb(36,36,36)\",\"ticks\":\"outside\"}},\"marker\":{\"colorbar\":{\"outlinewidth\":1,\"tickcolor\":\"rgb(36,36,36)\",\"ticks\":\"outside\"}},\"type\":\"scatter3d\"}],\"scattercarpet\":[{\"marker\":{\"colorbar\":{\"outlinewidth\":1,\"tickcolor\":\"rgb(36,36,36)\",\"ticks\":\"outside\"}},\"type\":\"scattercarpet\"}],\"scattergeo\":[{\"marker\":{\"colorbar\":{\"outlinewidth\":1,\"tickcolor\":\"rgb(36,36,36)\",\"ticks\":\"outside\"}},\"type\":\"scattergeo\"}],\"scattergl\":[{\"marker\":{\"colorbar\":{\"outlinewidth\":1,\"tickcolor\":\"rgb(36,36,36)\",\"ticks\":\"outside\"}},\"type\":\"scattergl\"}],\"scattermapbox\":[{\"marker\":{\"colorbar\":{\"outlinewidth\":1,\"tickcolor\":\"rgb(36,36,36)\",\"ticks\":\"outside\"}},\"type\":\"scattermapbox\"}],\"scatterpolargl\":[{\"marker\":{\"colorbar\":{\"outlinewidth\":1,\"tickcolor\":\"rgb(36,36,36)\",\"ticks\":\"outside\"}},\"type\":\"scatterpolargl\"}],\"scatterpolar\":[{\"marker\":{\"colorbar\":{\"outlinewidth\":1,\"tickcolor\":\"rgb(36,36,36)\",\"ticks\":\"outside\"}},\"type\":\"scatterpolar\"}],\"scatter\":[{\"marker\":{\"colorbar\":{\"outlinewidth\":1,\"tickcolor\":\"rgb(36,36,36)\",\"ticks\":\"outside\"}},\"type\":\"scatter\"}],\"scatterternary\":[{\"marker\":{\"colorbar\":{\"outlinewidth\":1,\"tickcolor\":\"rgb(36,36,36)\",\"ticks\":\"outside\"}},\"type\":\"scatterternary\"}],\"surface\":[{\"colorbar\":{\"outlinewidth\":1,\"tickcolor\":\"rgb(36,36,36)\",\"ticks\":\"outside\"},\"colorscale\":[[0.0,\"#440154\"],[0.1111111111111111,\"#482878\"],[0.2222222222222222,\"#3e4989\"],[0.3333333333333333,\"#31688e\"],[0.4444444444444444,\"#26828e\"],[0.5555555555555556,\"#1f9e89\"],[0.6666666666666666,\"#35b779\"],[0.7777777777777778,\"#6ece58\"],[0.8888888888888888,\"#b5de2b\"],[1.0,\"#fde725\"]],\"type\":\"surface\"}],\"table\":[{\"cells\":{\"fill\":{\"color\":\"rgb(237,237,237)\"},\"line\":{\"color\":\"white\"}},\"header\":{\"fill\":{\"color\":\"rgb(217,217,217)\"},\"line\":{\"color\":\"white\"}},\"type\":\"table\"}]},\"layout\":{\"annotationdefaults\":{\"arrowhead\":0,\"arrowwidth\":1},\"autotypenumbers\":\"strict\",\"coloraxis\":{\"colorbar\":{\"outlinewidth\":1,\"tickcolor\":\"rgb(36,36,36)\",\"ticks\":\"outside\"}},\"colorscale\":{\"diverging\":[[0.0,\"rgb(103,0,31)\"],[0.1,\"rgb(178,24,43)\"],[0.2,\"rgb(214,96,77)\"],[0.3,\"rgb(244,165,130)\"],[0.4,\"rgb(253,219,199)\"],[0.5,\"rgb(247,247,247)\"],[0.6,\"rgb(209,229,240)\"],[0.7,\"rgb(146,197,222)\"],[0.8,\"rgb(67,147,195)\"],[0.9,\"rgb(33,102,172)\"],[1.0,\"rgb(5,48,97)\"]],\"sequential\":[[0.0,\"#440154\"],[0.1111111111111111,\"#482878\"],[0.2222222222222222,\"#3e4989\"],[0.3333333333333333,\"#31688e\"],[0.4444444444444444,\"#26828e\"],[0.5555555555555556,\"#1f9e89\"],[0.6666666666666666,\"#35b779\"],[0.7777777777777778,\"#6ece58\"],[0.8888888888888888,\"#b5de2b\"],[1.0,\"#fde725\"]],\"sequentialminus\":[[0.0,\"#440154\"],[0.1111111111111111,\"#482878\"],[0.2222222222222222,\"#3e4989\"],[0.3333333333333333,\"#31688e\"],[0.4444444444444444,\"#26828e\"],[0.5555555555555556,\"#1f9e89\"],[0.6666666666666666,\"#35b779\"],[0.7777777777777778,\"#6ece58\"],[0.8888888888888888,\"#b5de2b\"],[1.0,\"#fde725\"]]},\"colorway\":[\"#1F77B4\",\"#FF7F0E\",\"#2CA02C\",\"#D62728\",\"#9467BD\",\"#8C564B\",\"#E377C2\",\"#7F7F7F\",\"#BCBD22\",\"#17BECF\"],\"font\":{\"color\":\"rgb(36,36,36)\"},\"geo\":{\"bgcolor\":\"white\",\"lakecolor\":\"white\",\"landcolor\":\"white\",\"showlakes\":true,\"showland\":true,\"subunitcolor\":\"white\"},\"hoverlabel\":{\"align\":\"left\"},\"hovermode\":\"closest\",\"mapbox\":{\"style\":\"light\"},\"paper_bgcolor\":\"white\",\"plot_bgcolor\":\"white\",\"polar\":{\"angularaxis\":{\"gridcolor\":\"rgb(232,232,232)\",\"linecolor\":\"rgb(36,36,36)\",\"showgrid\":false,\"showline\":true,\"ticks\":\"outside\"},\"bgcolor\":\"white\",\"radialaxis\":{\"gridcolor\":\"rgb(232,232,232)\",\"linecolor\":\"rgb(36,36,36)\",\"showgrid\":false,\"showline\":true,\"ticks\":\"outside\"}},\"scene\":{\"xaxis\":{\"backgroundcolor\":\"white\",\"gridcolor\":\"rgb(232,232,232)\",\"gridwidth\":2,\"linecolor\":\"rgb(36,36,36)\",\"showbackground\":true,\"showgrid\":false,\"showline\":true,\"ticks\":\"outside\",\"zeroline\":false,\"zerolinecolor\":\"rgb(36,36,36)\"},\"yaxis\":{\"backgroundcolor\":\"white\",\"gridcolor\":\"rgb(232,232,232)\",\"gridwidth\":2,\"linecolor\":\"rgb(36,36,36)\",\"showbackground\":true,\"showgrid\":false,\"showline\":true,\"ticks\":\"outside\",\"zeroline\":false,\"zerolinecolor\":\"rgb(36,36,36)\"},\"zaxis\":{\"backgroundcolor\":\"white\",\"gridcolor\":\"rgb(232,232,232)\",\"gridwidth\":2,\"linecolor\":\"rgb(36,36,36)\",\"showbackground\":true,\"showgrid\":false,\"showline\":true,\"ticks\":\"outside\",\"zeroline\":false,\"zerolinecolor\":\"rgb(36,36,36)\"}},\"shapedefaults\":{\"fillcolor\":\"black\",\"line\":{\"width\":0},\"opacity\":0.3},\"ternary\":{\"aaxis\":{\"gridcolor\":\"rgb(232,232,232)\",\"linecolor\":\"rgb(36,36,36)\",\"showgrid\":false,\"showline\":true,\"ticks\":\"outside\"},\"baxis\":{\"gridcolor\":\"rgb(232,232,232)\",\"linecolor\":\"rgb(36,36,36)\",\"showgrid\":false,\"showline\":true,\"ticks\":\"outside\"},\"bgcolor\":\"white\",\"caxis\":{\"gridcolor\":\"rgb(232,232,232)\",\"linecolor\":\"rgb(36,36,36)\",\"showgrid\":false,\"showline\":true,\"ticks\":\"outside\"}},\"title\":{\"x\":0.05},\"xaxis\":{\"automargin\":true,\"gridcolor\":\"rgb(232,232,232)\",\"linecolor\":\"rgb(36,36,36)\",\"showgrid\":false,\"showline\":true,\"ticks\":\"outside\",\"title\":{\"standoff\":15},\"zeroline\":false,\"zerolinecolor\":\"rgb(36,36,36)\"},\"yaxis\":{\"automargin\":true,\"gridcolor\":\"rgb(232,232,232)\",\"linecolor\":\"rgb(36,36,36)\",\"showgrid\":false,\"showline\":true,\"ticks\":\"outside\",\"title\":{\"standoff\":15},\"zeroline\":false,\"zerolinecolor\":\"rgb(36,36,36)\"}}},\"xaxis\":{\"anchor\":\"y\",\"domain\":[0.0,1.0],\"title\":{\"text\":\"cpu_series\"}},\"yaxis\":{\"anchor\":\"x\",\"domain\":[0.0,1.0],\"title\":{\"text\":\"prices\"}},\"legend\":{\"title\":{\"text\":\"serie\"},\"tracegroupgap\":0,\"itemsizing\":\"constant\"},\"margin\":{\"t\":60}},                        {\"responsive\": true}                    ).then(function(){\n",
       "                            \n",
       "var gd = document.getElementById('a97ad26b-140c-49bf-aec2-a4696012fb1a');\n",
       "var x = new MutationObserver(function (mutations, observer) {{\n",
       "        var display = window.getComputedStyle(gd).display;\n",
       "        if (!display || display === 'none') {{\n",
       "            console.log([gd, 'removed!']);\n",
       "            Plotly.purge(gd);\n",
       "            observer.disconnect();\n",
       "        }}\n",
       "}});\n",
       "\n",
       "// Listen for the removal of the full notebook cells\n",
       "var notebookContainer = gd.closest('#notebook-container');\n",
       "if (notebookContainer) {{\n",
       "    x.observe(notebookContainer, {childList: true});\n",
       "}}\n",
       "\n",
       "// Listen for the clearing of the current output cell\n",
       "var outputEl = gd.closest('.output');\n",
       "if (outputEl) {{\n",
       "    x.observe(outputEl, {childList: true});\n",
       "}}\n",
       "\n",
       "                        })                };                });            </script>        </div>"
      ]
     },
     "metadata": {},
     "output_type": "display_data"
    },
    {
     "data": {
      "application/vnd.plotly.v1+json": {
       "config": {
        "plotlyServerURL": "https://plot.ly"
       },
       "data": [
        {
         "hovertemplate": "<b>%{hovertext}</b><br><br>serie=Asus ROG STRIX G15<br>cpu_series=%{x}<br>prices=%{y}<br>memory_size=%{marker.size}<extra></extra>",
         "hovertext": [
          "Asus",
          "Asus"
         ],
         "legendgroup": "Asus ROG STRIX G15",
         "marker": {
          "color": "#1F77B4",
          "size": [
           512,
           1000
          ],
          "sizemode": "area",
          "sizeref": 4.444444444444445,
          "symbol": "circle"
         },
         "mode": "markers",
         "name": "Asus ROG STRIX G15",
         "orientation": "v",
         "showlegend": true,
         "type": "scatter",
         "x": [
          "AMD Ryzen 7",
          "AMD Ryzen 9"
         ],
         "xaxis": "x",
         "y": [
          599990,
          1299990
         ],
         "yaxis": "y"
        },
        {
         "hovertemplate": "<b>%{hovertext}</b><br><br>serie=HP 15 Series<br>cpu_series=%{x}<br>prices=%{y}<br>memory_size=%{marker.size}<extra></extra>",
         "hovertext": [
          "HP",
          "HP"
         ],
         "legendgroup": "HP 15 Series",
         "marker": {
          "color": "#FF7F0E",
          "size": [
           512,
           512
          ],
          "sizemode": "area",
          "sizeref": 4.444444444444445,
          "symbol": "circle"
         },
         "mode": "markers",
         "name": "HP 15 Series",
         "orientation": "v",
         "showlegend": true,
         "type": "scatter",
         "x": [
          "AMD Ryzen 5",
          "AMD Ryzen 7"
         ],
         "xaxis": "x",
         "y": [
          314990,
          379990
         ],
         "yaxis": "y"
        },
        {
         "hovertemplate": "<b>%{hovertext}</b><br><br>serie=Lenovo IdeaPad 3<br>cpu_series=%{x}<br>prices=%{y}<br>memory_size=%{marker.size}<extra></extra>",
         "hovertext": [
          "Lenovo"
         ],
         "legendgroup": "Lenovo IdeaPad 3",
         "marker": {
          "color": "#2CA02C",
          "size": [
           1000
          ],
          "sizemode": "area",
          "sizeref": 4.444444444444445,
          "symbol": "circle"
         },
         "mode": "markers",
         "name": "Lenovo IdeaPad 3",
         "orientation": "v",
         "showlegend": true,
         "type": "scatter",
         "x": [
          "AMD Ryzen 5"
         ],
         "xaxis": "x",
         "y": [
          299990
         ],
         "yaxis": "y"
        },
        {
         "hovertemplate": "<b>%{hovertext}</b><br><br>serie=HUAWEI MateBook D15<br>cpu_series=%{x}<br>prices=%{y}<br>memory_size=%{marker.size}<extra></extra>",
         "hovertext": [
          "HUAWEI"
         ],
         "legendgroup": "HUAWEI MateBook D15",
         "marker": {
          "color": "#D62728",
          "size": [
           512
          ],
          "sizemode": "area",
          "sizeref": 4.444444444444445,
          "symbol": "circle"
         },
         "mode": "markers",
         "name": "HUAWEI MateBook D15",
         "orientation": "v",
         "showlegend": true,
         "type": "scatter",
         "x": [
          "AMD Ryzen 5"
         ],
         "xaxis": "x",
         "y": [
          369990
         ],
         "yaxis": "y"
        },
        {
         "hovertemplate": "<b>%{hovertext}</b><br><br>serie=Asus VivoBook Pro 15<br>cpu_series=%{x}<br>prices=%{y}<br>memory_size=%{marker.size}<extra></extra>",
         "hovertext": [
          "Asus"
         ],
         "legendgroup": "Asus VivoBook Pro 15",
         "marker": {
          "color": "#9467BD",
          "size": [
           512
          ],
          "sizemode": "area",
          "sizeref": 4.444444444444445,
          "symbol": "circle"
         },
         "mode": "markers",
         "name": "Asus VivoBook Pro 15",
         "orientation": "v",
         "showlegend": true,
         "type": "scatter",
         "x": [
          "AMD Ryzen 5"
         ],
         "xaxis": "x",
         "y": [
          469990
         ],
         "yaxis": "y"
        },
        {
         "hovertemplate": "<b>%{hovertext}</b><br><br>serie=Asus TUF Gaming A17<br>cpu_series=%{x}<br>prices=%{y}<br>memory_size=%{marker.size}<extra></extra>",
         "hovertext": [
          "Asus"
         ],
         "legendgroup": "Asus TUF Gaming A17",
         "marker": {
          "color": "#8C564B",
          "size": [
           1000
          ],
          "sizemode": "area",
          "sizeref": 4.444444444444445,
          "symbol": "circle"
         },
         "mode": "markers",
         "name": "Asus TUF Gaming A17",
         "orientation": "v",
         "showlegend": true,
         "type": "scatter",
         "x": [
          "AMD Ryzen 7"
         ],
         "xaxis": "x",
         "y": [
          899990
         ],
         "yaxis": "y"
        },
        {
         "hovertemplate": "<b>%{hovertext}</b><br><br>serie=Asus VivoBook<br>cpu_series=%{x}<br>prices=%{y}<br>memory_size=%{marker.size}<extra></extra>",
         "hovertext": [
          "Asus"
         ],
         "legendgroup": "Asus VivoBook",
         "marker": {
          "color": "#E377C2",
          "size": [
           512
          ],
          "sizemode": "area",
          "sizeref": 4.444444444444445,
          "symbol": "circle"
         },
         "mode": "markers",
         "name": "Asus VivoBook",
         "orientation": "v",
         "showlegend": true,
         "type": "scatter",
         "x": [
          "AMD Ryzen 5"
         ],
         "xaxis": "x",
         "y": [
          399990
         ],
         "yaxis": "y"
        },
        {
         "hovertemplate": "<b>%{hovertext}</b><br><br>serie=Lenovo IdeaPad 5 Pro<br>cpu_series=%{x}<br>prices=%{y}<br>memory_size=%{marker.size}<extra></extra>",
         "hovertext": [
          "Lenovo",
          "Lenovo"
         ],
         "legendgroup": "Lenovo IdeaPad 5 Pro",
         "marker": {
          "color": "#7F7F7F",
          "size": [
           512,
           512
          ],
          "sizemode": "area",
          "sizeref": 4.444444444444445,
          "symbol": "circle"
         },
         "mode": "markers",
         "name": "Lenovo IdeaPad 5 Pro",
         "orientation": "v",
         "showlegend": true,
         "type": "scatter",
         "x": [
          "AMD Ryzen 5",
          "AMD Ryzen 5"
         ],
         "xaxis": "x",
         "y": [
          599990,
          459990
         ],
         "yaxis": "y"
        },
        {
         "hovertemplate": "<b>%{hovertext}</b><br><br>serie=HP Envy x360<br>cpu_series=%{x}<br>prices=%{y}<br>memory_size=%{marker.size}<extra></extra>",
         "hovertext": [
          "HP"
         ],
         "legendgroup": "HP Envy x360",
         "marker": {
          "color": "#BCBD22",
          "size": [
           512
          ],
          "sizemode": "area",
          "sizeref": 4.444444444444445,
          "symbol": "circle"
         },
         "mode": "markers",
         "name": "HP Envy x360",
         "orientation": "v",
         "showlegend": true,
         "type": "scatter",
         "x": [
          "AMD Ryzen 5"
         ],
         "xaxis": "x",
         "y": [
          522990
         ],
         "yaxis": "y"
        },
        {
         "hovertemplate": "<b>%{hovertext}</b><br><br>serie=HP Victus<br>cpu_series=%{x}<br>prices=%{y}<br>memory_size=%{marker.size}<extra></extra>",
         "hovertext": [
          "HP"
         ],
         "legendgroup": "HP Victus",
         "marker": {
          "color": "#17BECF",
          "size": [
           512
          ],
          "sizemode": "area",
          "sizeref": 4.444444444444445,
          "symbol": "circle"
         },
         "mode": "markers",
         "name": "HP Victus",
         "orientation": "v",
         "showlegend": true,
         "type": "scatter",
         "x": [
          "AMD Ryzen 5"
         ],
         "xaxis": "x",
         "y": [
          529890
         ],
         "yaxis": "y"
        },
        {
         "hovertemplate": "<b>%{hovertext}</b><br><br>serie=Asus Vivobook S 16X<br>cpu_series=%{x}<br>prices=%{y}<br>memory_size=%{marker.size}<extra></extra>",
         "hovertext": [
          "Asus"
         ],
         "legendgroup": "Asus Vivobook S 16X",
         "marker": {
          "color": "#1F77B4",
          "size": [
           512
          ],
          "sizemode": "area",
          "sizeref": 4.444444444444445,
          "symbol": "circle"
         },
         "mode": "markers",
         "name": "Asus Vivobook S 16X",
         "orientation": "v",
         "showlegend": true,
         "type": "scatter",
         "x": [
          "AMD Ryzen 5"
         ],
         "xaxis": "x",
         "y": [
          519990
         ],
         "yaxis": "y"
        },
        {
         "hovertemplate": "<b>%{hovertext}</b><br><br>serie=HUAWEI MateBook 14<br>cpu_series=%{x}<br>prices=%{y}<br>memory_size=%{marker.size}<extra></extra>",
         "hovertext": [
          "HUAWEI"
         ],
         "legendgroup": "HUAWEI MateBook 14",
         "marker": {
          "color": "#FF7F0E",
          "size": [
           512
          ],
          "sizemode": "area",
          "sizeref": 4.444444444444445,
          "symbol": "circle"
         },
         "mode": "markers",
         "name": "HUAWEI MateBook 14",
         "orientation": "v",
         "showlegend": true,
         "type": "scatter",
         "x": [
          "AMD Ryzen 5"
         ],
         "xaxis": "x",
         "y": [
          599990
         ],
         "yaxis": "y"
        },
        {
         "hovertemplate": "<b>%{hovertext}</b><br><br>serie=Asus ROG Flow X16<br>cpu_series=%{x}<br>prices=%{y}<br>memory_size=%{marker.size}<extra></extra>",
         "hovertext": [
          "Asus"
         ],
         "legendgroup": "Asus ROG Flow X16",
         "marker": {
          "color": "#2CA02C",
          "size": [
           512
          ],
          "sizemode": "area",
          "sizeref": 4.444444444444445,
          "symbol": "circle"
         },
         "mode": "markers",
         "name": "Asus ROG Flow X16",
         "orientation": "v",
         "showlegend": true,
         "type": "scatter",
         "x": [
          "AMD Ryzen 7"
         ],
         "xaxis": "x",
         "y": [
          1199990
         ],
         "yaxis": "y"
        },
        {
         "hovertemplate": "<b>%{hovertext}</b><br><br>serie=Asus Zenbook 14<br>cpu_series=%{x}<br>prices=%{y}<br>memory_size=%{marker.size}<extra></extra>",
         "hovertext": [
          "Asus",
          "Asus"
         ],
         "legendgroup": "Asus Zenbook 14",
         "marker": {
          "color": "#D62728",
          "size": [
           512,
           512
          ],
          "sizemode": "area",
          "sizeref": 4.444444444444445,
          "symbol": "circle"
         },
         "mode": "markers",
         "name": "Asus Zenbook 14",
         "orientation": "v",
         "showlegend": true,
         "type": "scatter",
         "x": [
          "AMD Ryzen 5",
          "AMD Ryzen 5"
         ],
         "xaxis": "x",
         "y": [
          429990,
          399990
         ],
         "yaxis": "y"
        }
       ],
       "layout": {
        "legend": {
         "itemsizing": "constant",
         "title": {
          "text": "serie"
         },
         "tracegroupgap": 0
        },
        "margin": {
         "t": 60
        },
        "template": {
         "data": {
          "bar": [
           {
            "error_x": {
             "color": "rgb(36,36,36)"
            },
            "error_y": {
             "color": "rgb(36,36,36)"
            },
            "marker": {
             "line": {
              "color": "white",
              "width": 0.5
             },
             "pattern": {
              "fillmode": "overlay",
              "size": 10,
              "solidity": 0.2
             }
            },
            "type": "bar"
           }
          ],
          "barpolar": [
           {
            "marker": {
             "line": {
              "color": "white",
              "width": 0.5
             },
             "pattern": {
              "fillmode": "overlay",
              "size": 10,
              "solidity": 0.2
             }
            },
            "type": "barpolar"
           }
          ],
          "carpet": [
           {
            "aaxis": {
             "endlinecolor": "rgb(36,36,36)",
             "gridcolor": "white",
             "linecolor": "white",
             "minorgridcolor": "white",
             "startlinecolor": "rgb(36,36,36)"
            },
            "baxis": {
             "endlinecolor": "rgb(36,36,36)",
             "gridcolor": "white",
             "linecolor": "white",
             "minorgridcolor": "white",
             "startlinecolor": "rgb(36,36,36)"
            },
            "type": "carpet"
           }
          ],
          "choropleth": [
           {
            "colorbar": {
             "outlinewidth": 1,
             "tickcolor": "rgb(36,36,36)",
             "ticks": "outside"
            },
            "type": "choropleth"
           }
          ],
          "contour": [
           {
            "colorbar": {
             "outlinewidth": 1,
             "tickcolor": "rgb(36,36,36)",
             "ticks": "outside"
            },
            "colorscale": [
             [
              0,
              "#440154"
             ],
             [
              0.1111111111111111,
              "#482878"
             ],
             [
              0.2222222222222222,
              "#3e4989"
             ],
             [
              0.3333333333333333,
              "#31688e"
             ],
             [
              0.4444444444444444,
              "#26828e"
             ],
             [
              0.5555555555555556,
              "#1f9e89"
             ],
             [
              0.6666666666666666,
              "#35b779"
             ],
             [
              0.7777777777777778,
              "#6ece58"
             ],
             [
              0.8888888888888888,
              "#b5de2b"
             ],
             [
              1,
              "#fde725"
             ]
            ],
            "type": "contour"
           }
          ],
          "contourcarpet": [
           {
            "colorbar": {
             "outlinewidth": 1,
             "tickcolor": "rgb(36,36,36)",
             "ticks": "outside"
            },
            "type": "contourcarpet"
           }
          ],
          "heatmap": [
           {
            "colorbar": {
             "outlinewidth": 1,
             "tickcolor": "rgb(36,36,36)",
             "ticks": "outside"
            },
            "colorscale": [
             [
              0,
              "#440154"
             ],
             [
              0.1111111111111111,
              "#482878"
             ],
             [
              0.2222222222222222,
              "#3e4989"
             ],
             [
              0.3333333333333333,
              "#31688e"
             ],
             [
              0.4444444444444444,
              "#26828e"
             ],
             [
              0.5555555555555556,
              "#1f9e89"
             ],
             [
              0.6666666666666666,
              "#35b779"
             ],
             [
              0.7777777777777778,
              "#6ece58"
             ],
             [
              0.8888888888888888,
              "#b5de2b"
             ],
             [
              1,
              "#fde725"
             ]
            ],
            "type": "heatmap"
           }
          ],
          "heatmapgl": [
           {
            "colorbar": {
             "outlinewidth": 1,
             "tickcolor": "rgb(36,36,36)",
             "ticks": "outside"
            },
            "colorscale": [
             [
              0,
              "#440154"
             ],
             [
              0.1111111111111111,
              "#482878"
             ],
             [
              0.2222222222222222,
              "#3e4989"
             ],
             [
              0.3333333333333333,
              "#31688e"
             ],
             [
              0.4444444444444444,
              "#26828e"
             ],
             [
              0.5555555555555556,
              "#1f9e89"
             ],
             [
              0.6666666666666666,
              "#35b779"
             ],
             [
              0.7777777777777778,
              "#6ece58"
             ],
             [
              0.8888888888888888,
              "#b5de2b"
             ],
             [
              1,
              "#fde725"
             ]
            ],
            "type": "heatmapgl"
           }
          ],
          "histogram": [
           {
            "marker": {
             "line": {
              "color": "white",
              "width": 0.6
             }
            },
            "type": "histogram"
           }
          ],
          "histogram2d": [
           {
            "colorbar": {
             "outlinewidth": 1,
             "tickcolor": "rgb(36,36,36)",
             "ticks": "outside"
            },
            "colorscale": [
             [
              0,
              "#440154"
             ],
             [
              0.1111111111111111,
              "#482878"
             ],
             [
              0.2222222222222222,
              "#3e4989"
             ],
             [
              0.3333333333333333,
              "#31688e"
             ],
             [
              0.4444444444444444,
              "#26828e"
             ],
             [
              0.5555555555555556,
              "#1f9e89"
             ],
             [
              0.6666666666666666,
              "#35b779"
             ],
             [
              0.7777777777777778,
              "#6ece58"
             ],
             [
              0.8888888888888888,
              "#b5de2b"
             ],
             [
              1,
              "#fde725"
             ]
            ],
            "type": "histogram2d"
           }
          ],
          "histogram2dcontour": [
           {
            "colorbar": {
             "outlinewidth": 1,
             "tickcolor": "rgb(36,36,36)",
             "ticks": "outside"
            },
            "colorscale": [
             [
              0,
              "#440154"
             ],
             [
              0.1111111111111111,
              "#482878"
             ],
             [
              0.2222222222222222,
              "#3e4989"
             ],
             [
              0.3333333333333333,
              "#31688e"
             ],
             [
              0.4444444444444444,
              "#26828e"
             ],
             [
              0.5555555555555556,
              "#1f9e89"
             ],
             [
              0.6666666666666666,
              "#35b779"
             ],
             [
              0.7777777777777778,
              "#6ece58"
             ],
             [
              0.8888888888888888,
              "#b5de2b"
             ],
             [
              1,
              "#fde725"
             ]
            ],
            "type": "histogram2dcontour"
           }
          ],
          "mesh3d": [
           {
            "colorbar": {
             "outlinewidth": 1,
             "tickcolor": "rgb(36,36,36)",
             "ticks": "outside"
            },
            "type": "mesh3d"
           }
          ],
          "parcoords": [
           {
            "line": {
             "colorbar": {
              "outlinewidth": 1,
              "tickcolor": "rgb(36,36,36)",
              "ticks": "outside"
             }
            },
            "type": "parcoords"
           }
          ],
          "pie": [
           {
            "automargin": true,
            "type": "pie"
           }
          ],
          "scatter": [
           {
            "marker": {
             "colorbar": {
              "outlinewidth": 1,
              "tickcolor": "rgb(36,36,36)",
              "ticks": "outside"
             }
            },
            "type": "scatter"
           }
          ],
          "scatter3d": [
           {
            "line": {
             "colorbar": {
              "outlinewidth": 1,
              "tickcolor": "rgb(36,36,36)",
              "ticks": "outside"
             }
            },
            "marker": {
             "colorbar": {
              "outlinewidth": 1,
              "tickcolor": "rgb(36,36,36)",
              "ticks": "outside"
             }
            },
            "type": "scatter3d"
           }
          ],
          "scattercarpet": [
           {
            "marker": {
             "colorbar": {
              "outlinewidth": 1,
              "tickcolor": "rgb(36,36,36)",
              "ticks": "outside"
             }
            },
            "type": "scattercarpet"
           }
          ],
          "scattergeo": [
           {
            "marker": {
             "colorbar": {
              "outlinewidth": 1,
              "tickcolor": "rgb(36,36,36)",
              "ticks": "outside"
             }
            },
            "type": "scattergeo"
           }
          ],
          "scattergl": [
           {
            "marker": {
             "colorbar": {
              "outlinewidth": 1,
              "tickcolor": "rgb(36,36,36)",
              "ticks": "outside"
             }
            },
            "type": "scattergl"
           }
          ],
          "scattermapbox": [
           {
            "marker": {
             "colorbar": {
              "outlinewidth": 1,
              "tickcolor": "rgb(36,36,36)",
              "ticks": "outside"
             }
            },
            "type": "scattermapbox"
           }
          ],
          "scatterpolar": [
           {
            "marker": {
             "colorbar": {
              "outlinewidth": 1,
              "tickcolor": "rgb(36,36,36)",
              "ticks": "outside"
             }
            },
            "type": "scatterpolar"
           }
          ],
          "scatterpolargl": [
           {
            "marker": {
             "colorbar": {
              "outlinewidth": 1,
              "tickcolor": "rgb(36,36,36)",
              "ticks": "outside"
             }
            },
            "type": "scatterpolargl"
           }
          ],
          "scatterternary": [
           {
            "marker": {
             "colorbar": {
              "outlinewidth": 1,
              "tickcolor": "rgb(36,36,36)",
              "ticks": "outside"
             }
            },
            "type": "scatterternary"
           }
          ],
          "surface": [
           {
            "colorbar": {
             "outlinewidth": 1,
             "tickcolor": "rgb(36,36,36)",
             "ticks": "outside"
            },
            "colorscale": [
             [
              0,
              "#440154"
             ],
             [
              0.1111111111111111,
              "#482878"
             ],
             [
              0.2222222222222222,
              "#3e4989"
             ],
             [
              0.3333333333333333,
              "#31688e"
             ],
             [
              0.4444444444444444,
              "#26828e"
             ],
             [
              0.5555555555555556,
              "#1f9e89"
             ],
             [
              0.6666666666666666,
              "#35b779"
             ],
             [
              0.7777777777777778,
              "#6ece58"
             ],
             [
              0.8888888888888888,
              "#b5de2b"
             ],
             [
              1,
              "#fde725"
             ]
            ],
            "type": "surface"
           }
          ],
          "table": [
           {
            "cells": {
             "fill": {
              "color": "rgb(237,237,237)"
             },
             "line": {
              "color": "white"
             }
            },
            "header": {
             "fill": {
              "color": "rgb(217,217,217)"
             },
             "line": {
              "color": "white"
             }
            },
            "type": "table"
           }
          ]
         },
         "layout": {
          "annotationdefaults": {
           "arrowhead": 0,
           "arrowwidth": 1
          },
          "autotypenumbers": "strict",
          "coloraxis": {
           "colorbar": {
            "outlinewidth": 1,
            "tickcolor": "rgb(36,36,36)",
            "ticks": "outside"
           }
          },
          "colorscale": {
           "diverging": [
            [
             0,
             "rgb(103,0,31)"
            ],
            [
             0.1,
             "rgb(178,24,43)"
            ],
            [
             0.2,
             "rgb(214,96,77)"
            ],
            [
             0.3,
             "rgb(244,165,130)"
            ],
            [
             0.4,
             "rgb(253,219,199)"
            ],
            [
             0.5,
             "rgb(247,247,247)"
            ],
            [
             0.6,
             "rgb(209,229,240)"
            ],
            [
             0.7,
             "rgb(146,197,222)"
            ],
            [
             0.8,
             "rgb(67,147,195)"
            ],
            [
             0.9,
             "rgb(33,102,172)"
            ],
            [
             1,
             "rgb(5,48,97)"
            ]
           ],
           "sequential": [
            [
             0,
             "#440154"
            ],
            [
             0.1111111111111111,
             "#482878"
            ],
            [
             0.2222222222222222,
             "#3e4989"
            ],
            [
             0.3333333333333333,
             "#31688e"
            ],
            [
             0.4444444444444444,
             "#26828e"
            ],
            [
             0.5555555555555556,
             "#1f9e89"
            ],
            [
             0.6666666666666666,
             "#35b779"
            ],
            [
             0.7777777777777778,
             "#6ece58"
            ],
            [
             0.8888888888888888,
             "#b5de2b"
            ],
            [
             1,
             "#fde725"
            ]
           ],
           "sequentialminus": [
            [
             0,
             "#440154"
            ],
            [
             0.1111111111111111,
             "#482878"
            ],
            [
             0.2222222222222222,
             "#3e4989"
            ],
            [
             0.3333333333333333,
             "#31688e"
            ],
            [
             0.4444444444444444,
             "#26828e"
            ],
            [
             0.5555555555555556,
             "#1f9e89"
            ],
            [
             0.6666666666666666,
             "#35b779"
            ],
            [
             0.7777777777777778,
             "#6ece58"
            ],
            [
             0.8888888888888888,
             "#b5de2b"
            ],
            [
             1,
             "#fde725"
            ]
           ]
          },
          "colorway": [
           "#1F77B4",
           "#FF7F0E",
           "#2CA02C",
           "#D62728",
           "#9467BD",
           "#8C564B",
           "#E377C2",
           "#7F7F7F",
           "#BCBD22",
           "#17BECF"
          ],
          "font": {
           "color": "rgb(36,36,36)"
          },
          "geo": {
           "bgcolor": "white",
           "lakecolor": "white",
           "landcolor": "white",
           "showlakes": true,
           "showland": true,
           "subunitcolor": "white"
          },
          "hoverlabel": {
           "align": "left"
          },
          "hovermode": "closest",
          "mapbox": {
           "style": "light"
          },
          "paper_bgcolor": "white",
          "plot_bgcolor": "white",
          "polar": {
           "angularaxis": {
            "gridcolor": "rgb(232,232,232)",
            "linecolor": "rgb(36,36,36)",
            "showgrid": false,
            "showline": true,
            "ticks": "outside"
           },
           "bgcolor": "white",
           "radialaxis": {
            "gridcolor": "rgb(232,232,232)",
            "linecolor": "rgb(36,36,36)",
            "showgrid": false,
            "showline": true,
            "ticks": "outside"
           }
          },
          "scene": {
           "xaxis": {
            "backgroundcolor": "white",
            "gridcolor": "rgb(232,232,232)",
            "gridwidth": 2,
            "linecolor": "rgb(36,36,36)",
            "showbackground": true,
            "showgrid": false,
            "showline": true,
            "ticks": "outside",
            "zeroline": false,
            "zerolinecolor": "rgb(36,36,36)"
           },
           "yaxis": {
            "backgroundcolor": "white",
            "gridcolor": "rgb(232,232,232)",
            "gridwidth": 2,
            "linecolor": "rgb(36,36,36)",
            "showbackground": true,
            "showgrid": false,
            "showline": true,
            "ticks": "outside",
            "zeroline": false,
            "zerolinecolor": "rgb(36,36,36)"
           },
           "zaxis": {
            "backgroundcolor": "white",
            "gridcolor": "rgb(232,232,232)",
            "gridwidth": 2,
            "linecolor": "rgb(36,36,36)",
            "showbackground": true,
            "showgrid": false,
            "showline": true,
            "ticks": "outside",
            "zeroline": false,
            "zerolinecolor": "rgb(36,36,36)"
           }
          },
          "shapedefaults": {
           "fillcolor": "black",
           "line": {
            "width": 0
           },
           "opacity": 0.3
          },
          "ternary": {
           "aaxis": {
            "gridcolor": "rgb(232,232,232)",
            "linecolor": "rgb(36,36,36)",
            "showgrid": false,
            "showline": true,
            "ticks": "outside"
           },
           "baxis": {
            "gridcolor": "rgb(232,232,232)",
            "linecolor": "rgb(36,36,36)",
            "showgrid": false,
            "showline": true,
            "ticks": "outside"
           },
           "bgcolor": "white",
           "caxis": {
            "gridcolor": "rgb(232,232,232)",
            "linecolor": "rgb(36,36,36)",
            "showgrid": false,
            "showline": true,
            "ticks": "outside"
           }
          },
          "title": {
           "x": 0.05
          },
          "xaxis": {
           "automargin": true,
           "gridcolor": "rgb(232,232,232)",
           "linecolor": "rgb(36,36,36)",
           "showgrid": false,
           "showline": true,
           "ticks": "outside",
           "title": {
            "standoff": 15
           },
           "zeroline": false,
           "zerolinecolor": "rgb(36,36,36)"
          },
          "yaxis": {
           "automargin": true,
           "gridcolor": "rgb(232,232,232)",
           "linecolor": "rgb(36,36,36)",
           "showgrid": false,
           "showline": true,
           "ticks": "outside",
           "title": {
            "standoff": 15
           },
           "zeroline": false,
           "zerolinecolor": "rgb(36,36,36)"
          }
         }
        },
        "xaxis": {
         "anchor": "y",
         "domain": [
          0,
          1
         ],
         "title": {
          "text": "cpu_series"
         }
        },
        "yaxis": {
         "anchor": "x",
         "domain": [
          0,
          1
         ],
         "title": {
          "text": "prices"
         }
        }
       }
      },
      "text/html": [
       "<div>                            <div id=\"daf08732-445c-4892-8d84-a33e58c0386d\" class=\"plotly-graph-div\" style=\"height:525px; width:100%;\"></div>            <script type=\"text/javascript\">                require([\"plotly\"], function(Plotly) {                    window.PLOTLYENV=window.PLOTLYENV || {};                                    if (document.getElementById(\"daf08732-445c-4892-8d84-a33e58c0386d\")) {                    Plotly.newPlot(                        \"daf08732-445c-4892-8d84-a33e58c0386d\",                        [{\"hovertemplate\":\"<b>%{hovertext}</b><br><br>serie=Asus ROG STRIX G15<br>cpu_series=%{x}<br>prices=%{y}<br>memory_size=%{marker.size}<extra></extra>\",\"hovertext\":[\"Asus\",\"Asus\"],\"legendgroup\":\"Asus ROG STRIX G15\",\"marker\":{\"color\":\"#1F77B4\",\"size\":[512.0,1000.0],\"sizemode\":\"area\",\"sizeref\":4.444444444444445,\"symbol\":\"circle\"},\"mode\":\"markers\",\"name\":\"Asus ROG STRIX G15\",\"orientation\":\"v\",\"showlegend\":true,\"x\":[\"AMD Ryzen 7\",\"AMD Ryzen 9\"],\"xaxis\":\"x\",\"y\":[599990,1299990],\"yaxis\":\"y\",\"type\":\"scatter\"},{\"hovertemplate\":\"<b>%{hovertext}</b><br><br>serie=HP 15 Series<br>cpu_series=%{x}<br>prices=%{y}<br>memory_size=%{marker.size}<extra></extra>\",\"hovertext\":[\"HP\",\"HP\"],\"legendgroup\":\"HP 15 Series\",\"marker\":{\"color\":\"#FF7F0E\",\"size\":[512.0,512.0],\"sizemode\":\"area\",\"sizeref\":4.444444444444445,\"symbol\":\"circle\"},\"mode\":\"markers\",\"name\":\"HP 15 Series\",\"orientation\":\"v\",\"showlegend\":true,\"x\":[\"AMD Ryzen 5\",\"AMD Ryzen 7\"],\"xaxis\":\"x\",\"y\":[314990,379990],\"yaxis\":\"y\",\"type\":\"scatter\"},{\"hovertemplate\":\"<b>%{hovertext}</b><br><br>serie=Lenovo IdeaPad 3<br>cpu_series=%{x}<br>prices=%{y}<br>memory_size=%{marker.size}<extra></extra>\",\"hovertext\":[\"Lenovo\"],\"legendgroup\":\"Lenovo IdeaPad 3\",\"marker\":{\"color\":\"#2CA02C\",\"size\":[1000.0],\"sizemode\":\"area\",\"sizeref\":4.444444444444445,\"symbol\":\"circle\"},\"mode\":\"markers\",\"name\":\"Lenovo IdeaPad 3\",\"orientation\":\"v\",\"showlegend\":true,\"x\":[\"AMD Ryzen 5\"],\"xaxis\":\"x\",\"y\":[299990],\"yaxis\":\"y\",\"type\":\"scatter\"},{\"hovertemplate\":\"<b>%{hovertext}</b><br><br>serie=HUAWEI MateBook D15<br>cpu_series=%{x}<br>prices=%{y}<br>memory_size=%{marker.size}<extra></extra>\",\"hovertext\":[\"HUAWEI\"],\"legendgroup\":\"HUAWEI MateBook D15\",\"marker\":{\"color\":\"#D62728\",\"size\":[512.0],\"sizemode\":\"area\",\"sizeref\":4.444444444444445,\"symbol\":\"circle\"},\"mode\":\"markers\",\"name\":\"HUAWEI MateBook D15\",\"orientation\":\"v\",\"showlegend\":true,\"x\":[\"AMD Ryzen 5\"],\"xaxis\":\"x\",\"y\":[369990],\"yaxis\":\"y\",\"type\":\"scatter\"},{\"hovertemplate\":\"<b>%{hovertext}</b><br><br>serie=Asus VivoBook Pro 15<br>cpu_series=%{x}<br>prices=%{y}<br>memory_size=%{marker.size}<extra></extra>\",\"hovertext\":[\"Asus\"],\"legendgroup\":\"Asus VivoBook Pro 15\",\"marker\":{\"color\":\"#9467BD\",\"size\":[512.0],\"sizemode\":\"area\",\"sizeref\":4.444444444444445,\"symbol\":\"circle\"},\"mode\":\"markers\",\"name\":\"Asus VivoBook Pro 15\",\"orientation\":\"v\",\"showlegend\":true,\"x\":[\"AMD Ryzen 5\"],\"xaxis\":\"x\",\"y\":[469990],\"yaxis\":\"y\",\"type\":\"scatter\"},{\"hovertemplate\":\"<b>%{hovertext}</b><br><br>serie=Asus TUF Gaming A17<br>cpu_series=%{x}<br>prices=%{y}<br>memory_size=%{marker.size}<extra></extra>\",\"hovertext\":[\"Asus\"],\"legendgroup\":\"Asus TUF Gaming A17\",\"marker\":{\"color\":\"#8C564B\",\"size\":[1000.0],\"sizemode\":\"area\",\"sizeref\":4.444444444444445,\"symbol\":\"circle\"},\"mode\":\"markers\",\"name\":\"Asus TUF Gaming A17\",\"orientation\":\"v\",\"showlegend\":true,\"x\":[\"AMD Ryzen 7\"],\"xaxis\":\"x\",\"y\":[899990],\"yaxis\":\"y\",\"type\":\"scatter\"},{\"hovertemplate\":\"<b>%{hovertext}</b><br><br>serie=Asus VivoBook<br>cpu_series=%{x}<br>prices=%{y}<br>memory_size=%{marker.size}<extra></extra>\",\"hovertext\":[\"Asus\"],\"legendgroup\":\"Asus VivoBook\",\"marker\":{\"color\":\"#E377C2\",\"size\":[512.0],\"sizemode\":\"area\",\"sizeref\":4.444444444444445,\"symbol\":\"circle\"},\"mode\":\"markers\",\"name\":\"Asus VivoBook\",\"orientation\":\"v\",\"showlegend\":true,\"x\":[\"AMD Ryzen 5\"],\"xaxis\":\"x\",\"y\":[399990],\"yaxis\":\"y\",\"type\":\"scatter\"},{\"hovertemplate\":\"<b>%{hovertext}</b><br><br>serie=Lenovo IdeaPad 5 Pro<br>cpu_series=%{x}<br>prices=%{y}<br>memory_size=%{marker.size}<extra></extra>\",\"hovertext\":[\"Lenovo\",\"Lenovo\"],\"legendgroup\":\"Lenovo IdeaPad 5 Pro\",\"marker\":{\"color\":\"#7F7F7F\",\"size\":[512.0,512.0],\"sizemode\":\"area\",\"sizeref\":4.444444444444445,\"symbol\":\"circle\"},\"mode\":\"markers\",\"name\":\"Lenovo IdeaPad 5 Pro\",\"orientation\":\"v\",\"showlegend\":true,\"x\":[\"AMD Ryzen 5\",\"AMD Ryzen 5\"],\"xaxis\":\"x\",\"y\":[599990,459990],\"yaxis\":\"y\",\"type\":\"scatter\"},{\"hovertemplate\":\"<b>%{hovertext}</b><br><br>serie=HP Envy x360<br>cpu_series=%{x}<br>prices=%{y}<br>memory_size=%{marker.size}<extra></extra>\",\"hovertext\":[\"HP\"],\"legendgroup\":\"HP Envy x360\",\"marker\":{\"color\":\"#BCBD22\",\"size\":[512.0],\"sizemode\":\"area\",\"sizeref\":4.444444444444445,\"symbol\":\"circle\"},\"mode\":\"markers\",\"name\":\"HP Envy x360\",\"orientation\":\"v\",\"showlegend\":true,\"x\":[\"AMD Ryzen 5\"],\"xaxis\":\"x\",\"y\":[522990],\"yaxis\":\"y\",\"type\":\"scatter\"},{\"hovertemplate\":\"<b>%{hovertext}</b><br><br>serie=HP Victus<br>cpu_series=%{x}<br>prices=%{y}<br>memory_size=%{marker.size}<extra></extra>\",\"hovertext\":[\"HP\"],\"legendgroup\":\"HP Victus\",\"marker\":{\"color\":\"#17BECF\",\"size\":[512.0],\"sizemode\":\"area\",\"sizeref\":4.444444444444445,\"symbol\":\"circle\"},\"mode\":\"markers\",\"name\":\"HP Victus\",\"orientation\":\"v\",\"showlegend\":true,\"x\":[\"AMD Ryzen 5\"],\"xaxis\":\"x\",\"y\":[529890],\"yaxis\":\"y\",\"type\":\"scatter\"},{\"hovertemplate\":\"<b>%{hovertext}</b><br><br>serie=Asus Vivobook S 16X<br>cpu_series=%{x}<br>prices=%{y}<br>memory_size=%{marker.size}<extra></extra>\",\"hovertext\":[\"Asus\"],\"legendgroup\":\"Asus Vivobook S 16X\",\"marker\":{\"color\":\"#1F77B4\",\"size\":[512.0],\"sizemode\":\"area\",\"sizeref\":4.444444444444445,\"symbol\":\"circle\"},\"mode\":\"markers\",\"name\":\"Asus Vivobook S 16X\",\"orientation\":\"v\",\"showlegend\":true,\"x\":[\"AMD Ryzen 5\"],\"xaxis\":\"x\",\"y\":[519990],\"yaxis\":\"y\",\"type\":\"scatter\"},{\"hovertemplate\":\"<b>%{hovertext}</b><br><br>serie=HUAWEI MateBook 14<br>cpu_series=%{x}<br>prices=%{y}<br>memory_size=%{marker.size}<extra></extra>\",\"hovertext\":[\"HUAWEI\"],\"legendgroup\":\"HUAWEI MateBook 14\",\"marker\":{\"color\":\"#FF7F0E\",\"size\":[512.0],\"sizemode\":\"area\",\"sizeref\":4.444444444444445,\"symbol\":\"circle\"},\"mode\":\"markers\",\"name\":\"HUAWEI MateBook 14\",\"orientation\":\"v\",\"showlegend\":true,\"x\":[\"AMD Ryzen 5\"],\"xaxis\":\"x\",\"y\":[599990],\"yaxis\":\"y\",\"type\":\"scatter\"},{\"hovertemplate\":\"<b>%{hovertext}</b><br><br>serie=Asus ROG Flow X16<br>cpu_series=%{x}<br>prices=%{y}<br>memory_size=%{marker.size}<extra></extra>\",\"hovertext\":[\"Asus\"],\"legendgroup\":\"Asus ROG Flow X16\",\"marker\":{\"color\":\"#2CA02C\",\"size\":[512.0],\"sizemode\":\"area\",\"sizeref\":4.444444444444445,\"symbol\":\"circle\"},\"mode\":\"markers\",\"name\":\"Asus ROG Flow X16\",\"orientation\":\"v\",\"showlegend\":true,\"x\":[\"AMD Ryzen 7\"],\"xaxis\":\"x\",\"y\":[1199990],\"yaxis\":\"y\",\"type\":\"scatter\"},{\"hovertemplate\":\"<b>%{hovertext}</b><br><br>serie=Asus Zenbook 14<br>cpu_series=%{x}<br>prices=%{y}<br>memory_size=%{marker.size}<extra></extra>\",\"hovertext\":[\"Asus\",\"Asus\"],\"legendgroup\":\"Asus Zenbook 14\",\"marker\":{\"color\":\"#D62728\",\"size\":[512.0,512.0],\"sizemode\":\"area\",\"sizeref\":4.444444444444445,\"symbol\":\"circle\"},\"mode\":\"markers\",\"name\":\"Asus Zenbook 14\",\"orientation\":\"v\",\"showlegend\":true,\"x\":[\"AMD Ryzen 5\",\"AMD Ryzen 5\"],\"xaxis\":\"x\",\"y\":[429990,399990],\"yaxis\":\"y\",\"type\":\"scatter\"}],                        {\"template\":{\"data\":{\"barpolar\":[{\"marker\":{\"line\":{\"color\":\"white\",\"width\":0.5},\"pattern\":{\"fillmode\":\"overlay\",\"size\":10,\"solidity\":0.2}},\"type\":\"barpolar\"}],\"bar\":[{\"error_x\":{\"color\":\"rgb(36,36,36)\"},\"error_y\":{\"color\":\"rgb(36,36,36)\"},\"marker\":{\"line\":{\"color\":\"white\",\"width\":0.5},\"pattern\":{\"fillmode\":\"overlay\",\"size\":10,\"solidity\":0.2}},\"type\":\"bar\"}],\"carpet\":[{\"aaxis\":{\"endlinecolor\":\"rgb(36,36,36)\",\"gridcolor\":\"white\",\"linecolor\":\"white\",\"minorgridcolor\":\"white\",\"startlinecolor\":\"rgb(36,36,36)\"},\"baxis\":{\"endlinecolor\":\"rgb(36,36,36)\",\"gridcolor\":\"white\",\"linecolor\":\"white\",\"minorgridcolor\":\"white\",\"startlinecolor\":\"rgb(36,36,36)\"},\"type\":\"carpet\"}],\"choropleth\":[{\"colorbar\":{\"outlinewidth\":1,\"tickcolor\":\"rgb(36,36,36)\",\"ticks\":\"outside\"},\"type\":\"choropleth\"}],\"contourcarpet\":[{\"colorbar\":{\"outlinewidth\":1,\"tickcolor\":\"rgb(36,36,36)\",\"ticks\":\"outside\"},\"type\":\"contourcarpet\"}],\"contour\":[{\"colorbar\":{\"outlinewidth\":1,\"tickcolor\":\"rgb(36,36,36)\",\"ticks\":\"outside\"},\"colorscale\":[[0.0,\"#440154\"],[0.1111111111111111,\"#482878\"],[0.2222222222222222,\"#3e4989\"],[0.3333333333333333,\"#31688e\"],[0.4444444444444444,\"#26828e\"],[0.5555555555555556,\"#1f9e89\"],[0.6666666666666666,\"#35b779\"],[0.7777777777777778,\"#6ece58\"],[0.8888888888888888,\"#b5de2b\"],[1.0,\"#fde725\"]],\"type\":\"contour\"}],\"heatmapgl\":[{\"colorbar\":{\"outlinewidth\":1,\"tickcolor\":\"rgb(36,36,36)\",\"ticks\":\"outside\"},\"colorscale\":[[0.0,\"#440154\"],[0.1111111111111111,\"#482878\"],[0.2222222222222222,\"#3e4989\"],[0.3333333333333333,\"#31688e\"],[0.4444444444444444,\"#26828e\"],[0.5555555555555556,\"#1f9e89\"],[0.6666666666666666,\"#35b779\"],[0.7777777777777778,\"#6ece58\"],[0.8888888888888888,\"#b5de2b\"],[1.0,\"#fde725\"]],\"type\":\"heatmapgl\"}],\"heatmap\":[{\"colorbar\":{\"outlinewidth\":1,\"tickcolor\":\"rgb(36,36,36)\",\"ticks\":\"outside\"},\"colorscale\":[[0.0,\"#440154\"],[0.1111111111111111,\"#482878\"],[0.2222222222222222,\"#3e4989\"],[0.3333333333333333,\"#31688e\"],[0.4444444444444444,\"#26828e\"],[0.5555555555555556,\"#1f9e89\"],[0.6666666666666666,\"#35b779\"],[0.7777777777777778,\"#6ece58\"],[0.8888888888888888,\"#b5de2b\"],[1.0,\"#fde725\"]],\"type\":\"heatmap\"}],\"histogram2dcontour\":[{\"colorbar\":{\"outlinewidth\":1,\"tickcolor\":\"rgb(36,36,36)\",\"ticks\":\"outside\"},\"colorscale\":[[0.0,\"#440154\"],[0.1111111111111111,\"#482878\"],[0.2222222222222222,\"#3e4989\"],[0.3333333333333333,\"#31688e\"],[0.4444444444444444,\"#26828e\"],[0.5555555555555556,\"#1f9e89\"],[0.6666666666666666,\"#35b779\"],[0.7777777777777778,\"#6ece58\"],[0.8888888888888888,\"#b5de2b\"],[1.0,\"#fde725\"]],\"type\":\"histogram2dcontour\"}],\"histogram2d\":[{\"colorbar\":{\"outlinewidth\":1,\"tickcolor\":\"rgb(36,36,36)\",\"ticks\":\"outside\"},\"colorscale\":[[0.0,\"#440154\"],[0.1111111111111111,\"#482878\"],[0.2222222222222222,\"#3e4989\"],[0.3333333333333333,\"#31688e\"],[0.4444444444444444,\"#26828e\"],[0.5555555555555556,\"#1f9e89\"],[0.6666666666666666,\"#35b779\"],[0.7777777777777778,\"#6ece58\"],[0.8888888888888888,\"#b5de2b\"],[1.0,\"#fde725\"]],\"type\":\"histogram2d\"}],\"histogram\":[{\"marker\":{\"line\":{\"color\":\"white\",\"width\":0.6}},\"type\":\"histogram\"}],\"mesh3d\":[{\"colorbar\":{\"outlinewidth\":1,\"tickcolor\":\"rgb(36,36,36)\",\"ticks\":\"outside\"},\"type\":\"mesh3d\"}],\"parcoords\":[{\"line\":{\"colorbar\":{\"outlinewidth\":1,\"tickcolor\":\"rgb(36,36,36)\",\"ticks\":\"outside\"}},\"type\":\"parcoords\"}],\"pie\":[{\"automargin\":true,\"type\":\"pie\"}],\"scatter3d\":[{\"line\":{\"colorbar\":{\"outlinewidth\":1,\"tickcolor\":\"rgb(36,36,36)\",\"ticks\":\"outside\"}},\"marker\":{\"colorbar\":{\"outlinewidth\":1,\"tickcolor\":\"rgb(36,36,36)\",\"ticks\":\"outside\"}},\"type\":\"scatter3d\"}],\"scattercarpet\":[{\"marker\":{\"colorbar\":{\"outlinewidth\":1,\"tickcolor\":\"rgb(36,36,36)\",\"ticks\":\"outside\"}},\"type\":\"scattercarpet\"}],\"scattergeo\":[{\"marker\":{\"colorbar\":{\"outlinewidth\":1,\"tickcolor\":\"rgb(36,36,36)\",\"ticks\":\"outside\"}},\"type\":\"scattergeo\"}],\"scattergl\":[{\"marker\":{\"colorbar\":{\"outlinewidth\":1,\"tickcolor\":\"rgb(36,36,36)\",\"ticks\":\"outside\"}},\"type\":\"scattergl\"}],\"scattermapbox\":[{\"marker\":{\"colorbar\":{\"outlinewidth\":1,\"tickcolor\":\"rgb(36,36,36)\",\"ticks\":\"outside\"}},\"type\":\"scattermapbox\"}],\"scatterpolargl\":[{\"marker\":{\"colorbar\":{\"outlinewidth\":1,\"tickcolor\":\"rgb(36,36,36)\",\"ticks\":\"outside\"}},\"type\":\"scatterpolargl\"}],\"scatterpolar\":[{\"marker\":{\"colorbar\":{\"outlinewidth\":1,\"tickcolor\":\"rgb(36,36,36)\",\"ticks\":\"outside\"}},\"type\":\"scatterpolar\"}],\"scatter\":[{\"marker\":{\"colorbar\":{\"outlinewidth\":1,\"tickcolor\":\"rgb(36,36,36)\",\"ticks\":\"outside\"}},\"type\":\"scatter\"}],\"scatterternary\":[{\"marker\":{\"colorbar\":{\"outlinewidth\":1,\"tickcolor\":\"rgb(36,36,36)\",\"ticks\":\"outside\"}},\"type\":\"scatterternary\"}],\"surface\":[{\"colorbar\":{\"outlinewidth\":1,\"tickcolor\":\"rgb(36,36,36)\",\"ticks\":\"outside\"},\"colorscale\":[[0.0,\"#440154\"],[0.1111111111111111,\"#482878\"],[0.2222222222222222,\"#3e4989\"],[0.3333333333333333,\"#31688e\"],[0.4444444444444444,\"#26828e\"],[0.5555555555555556,\"#1f9e89\"],[0.6666666666666666,\"#35b779\"],[0.7777777777777778,\"#6ece58\"],[0.8888888888888888,\"#b5de2b\"],[1.0,\"#fde725\"]],\"type\":\"surface\"}],\"table\":[{\"cells\":{\"fill\":{\"color\":\"rgb(237,237,237)\"},\"line\":{\"color\":\"white\"}},\"header\":{\"fill\":{\"color\":\"rgb(217,217,217)\"},\"line\":{\"color\":\"white\"}},\"type\":\"table\"}]},\"layout\":{\"annotationdefaults\":{\"arrowhead\":0,\"arrowwidth\":1},\"autotypenumbers\":\"strict\",\"coloraxis\":{\"colorbar\":{\"outlinewidth\":1,\"tickcolor\":\"rgb(36,36,36)\",\"ticks\":\"outside\"}},\"colorscale\":{\"diverging\":[[0.0,\"rgb(103,0,31)\"],[0.1,\"rgb(178,24,43)\"],[0.2,\"rgb(214,96,77)\"],[0.3,\"rgb(244,165,130)\"],[0.4,\"rgb(253,219,199)\"],[0.5,\"rgb(247,247,247)\"],[0.6,\"rgb(209,229,240)\"],[0.7,\"rgb(146,197,222)\"],[0.8,\"rgb(67,147,195)\"],[0.9,\"rgb(33,102,172)\"],[1.0,\"rgb(5,48,97)\"]],\"sequential\":[[0.0,\"#440154\"],[0.1111111111111111,\"#482878\"],[0.2222222222222222,\"#3e4989\"],[0.3333333333333333,\"#31688e\"],[0.4444444444444444,\"#26828e\"],[0.5555555555555556,\"#1f9e89\"],[0.6666666666666666,\"#35b779\"],[0.7777777777777778,\"#6ece58\"],[0.8888888888888888,\"#b5de2b\"],[1.0,\"#fde725\"]],\"sequentialminus\":[[0.0,\"#440154\"],[0.1111111111111111,\"#482878\"],[0.2222222222222222,\"#3e4989\"],[0.3333333333333333,\"#31688e\"],[0.4444444444444444,\"#26828e\"],[0.5555555555555556,\"#1f9e89\"],[0.6666666666666666,\"#35b779\"],[0.7777777777777778,\"#6ece58\"],[0.8888888888888888,\"#b5de2b\"],[1.0,\"#fde725\"]]},\"colorway\":[\"#1F77B4\",\"#FF7F0E\",\"#2CA02C\",\"#D62728\",\"#9467BD\",\"#8C564B\",\"#E377C2\",\"#7F7F7F\",\"#BCBD22\",\"#17BECF\"],\"font\":{\"color\":\"rgb(36,36,36)\"},\"geo\":{\"bgcolor\":\"white\",\"lakecolor\":\"white\",\"landcolor\":\"white\",\"showlakes\":true,\"showland\":true,\"subunitcolor\":\"white\"},\"hoverlabel\":{\"align\":\"left\"},\"hovermode\":\"closest\",\"mapbox\":{\"style\":\"light\"},\"paper_bgcolor\":\"white\",\"plot_bgcolor\":\"white\",\"polar\":{\"angularaxis\":{\"gridcolor\":\"rgb(232,232,232)\",\"linecolor\":\"rgb(36,36,36)\",\"showgrid\":false,\"showline\":true,\"ticks\":\"outside\"},\"bgcolor\":\"white\",\"radialaxis\":{\"gridcolor\":\"rgb(232,232,232)\",\"linecolor\":\"rgb(36,36,36)\",\"showgrid\":false,\"showline\":true,\"ticks\":\"outside\"}},\"scene\":{\"xaxis\":{\"backgroundcolor\":\"white\",\"gridcolor\":\"rgb(232,232,232)\",\"gridwidth\":2,\"linecolor\":\"rgb(36,36,36)\",\"showbackground\":true,\"showgrid\":false,\"showline\":true,\"ticks\":\"outside\",\"zeroline\":false,\"zerolinecolor\":\"rgb(36,36,36)\"},\"yaxis\":{\"backgroundcolor\":\"white\",\"gridcolor\":\"rgb(232,232,232)\",\"gridwidth\":2,\"linecolor\":\"rgb(36,36,36)\",\"showbackground\":true,\"showgrid\":false,\"showline\":true,\"ticks\":\"outside\",\"zeroline\":false,\"zerolinecolor\":\"rgb(36,36,36)\"},\"zaxis\":{\"backgroundcolor\":\"white\",\"gridcolor\":\"rgb(232,232,232)\",\"gridwidth\":2,\"linecolor\":\"rgb(36,36,36)\",\"showbackground\":true,\"showgrid\":false,\"showline\":true,\"ticks\":\"outside\",\"zeroline\":false,\"zerolinecolor\":\"rgb(36,36,36)\"}},\"shapedefaults\":{\"fillcolor\":\"black\",\"line\":{\"width\":0},\"opacity\":0.3},\"ternary\":{\"aaxis\":{\"gridcolor\":\"rgb(232,232,232)\",\"linecolor\":\"rgb(36,36,36)\",\"showgrid\":false,\"showline\":true,\"ticks\":\"outside\"},\"baxis\":{\"gridcolor\":\"rgb(232,232,232)\",\"linecolor\":\"rgb(36,36,36)\",\"showgrid\":false,\"showline\":true,\"ticks\":\"outside\"},\"bgcolor\":\"white\",\"caxis\":{\"gridcolor\":\"rgb(232,232,232)\",\"linecolor\":\"rgb(36,36,36)\",\"showgrid\":false,\"showline\":true,\"ticks\":\"outside\"}},\"title\":{\"x\":0.05},\"xaxis\":{\"automargin\":true,\"gridcolor\":\"rgb(232,232,232)\",\"linecolor\":\"rgb(36,36,36)\",\"showgrid\":false,\"showline\":true,\"ticks\":\"outside\",\"title\":{\"standoff\":15},\"zeroline\":false,\"zerolinecolor\":\"rgb(36,36,36)\"},\"yaxis\":{\"automargin\":true,\"gridcolor\":\"rgb(232,232,232)\",\"linecolor\":\"rgb(36,36,36)\",\"showgrid\":false,\"showline\":true,\"ticks\":\"outside\",\"title\":{\"standoff\":15},\"zeroline\":false,\"zerolinecolor\":\"rgb(36,36,36)\"}}},\"xaxis\":{\"anchor\":\"y\",\"domain\":[0.0,1.0],\"title\":{\"text\":\"cpu_series\"}},\"yaxis\":{\"anchor\":\"x\",\"domain\":[0.0,1.0],\"title\":{\"text\":\"prices\"}},\"legend\":{\"title\":{\"text\":\"serie\"},\"tracegroupgap\":0,\"itemsizing\":\"constant\"},\"margin\":{\"t\":60}},                        {\"responsive\": true}                    ).then(function(){\n",
       "                            \n",
       "var gd = document.getElementById('daf08732-445c-4892-8d84-a33e58c0386d');\n",
       "var x = new MutationObserver(function (mutations, observer) {{\n",
       "        var display = window.getComputedStyle(gd).display;\n",
       "        if (!display || display === 'none') {{\n",
       "            console.log([gd, 'removed!']);\n",
       "            Plotly.purge(gd);\n",
       "            observer.disconnect();\n",
       "        }}\n",
       "}});\n",
       "\n",
       "// Listen for the removal of the full notebook cells\n",
       "var notebookContainer = gd.closest('#notebook-container');\n",
       "if (notebookContainer) {{\n",
       "    x.observe(notebookContainer, {childList: true});\n",
       "}}\n",
       "\n",
       "// Listen for the clearing of the current output cell\n",
       "var outputEl = gd.closest('.output');\n",
       "if (outputEl) {{\n",
       "    x.observe(outputEl, {childList: true});\n",
       "}}\n",
       "\n",
       "                        })                };                });            </script>        </div>"
      ]
     },
     "metadata": {},
     "output_type": "display_data"
    },
    {
     "data": {
      "application/vnd.plotly.v1+json": {
       "config": {
        "plotlyServerURL": "https://plot.ly"
       },
       "data": [
        {
         "hovertemplate": "<b>%{hovertext}</b><br><br>serie=Apple MacBook Air Series, Apple MacBook Air 2022<br>cpu_series=%{x}<br>prices=%{y}<br>memory_size=%{marker.size}<extra></extra>",
         "hovertext": [
          "Apple",
          "Apple",
          "Apple",
          "Apple",
          "Apple",
          "Apple"
         ],
         "legendgroup": "Apple MacBook Air Series, Apple MacBook Air 2022",
         "marker": {
          "color": "#1F77B4",
          "size": [
           256,
           512,
           256,
           512,
           256,
           256
          ],
          "sizemode": "area",
          "sizeref": 4.444444444444445,
          "symbol": "circle"
         },
         "mode": "markers",
         "name": "Apple MacBook Air Series, Apple MacBook Air 2022",
         "orientation": "v",
         "showlegend": true,
         "type": "scatter",
         "x": [
          "M2",
          "M2",
          "M2",
          "M2",
          "M2",
          "M2"
         ],
         "xaxis": "x",
         "y": [
          699990,
          942990,
          919990,
          942990,
          919990,
          919990
         ],
         "yaxis": "y"
        },
        {
         "hovertemplate": "<b>%{hovertext}</b><br><br>serie=Apple MacBook Pro Series, Apple MacBook Pro 2021<br>cpu_series=%{x}<br>prices=%{y}<br>memory_size=%{marker.size}<extra></extra>",
         "hovertext": [
          "Apple",
          "Apple",
          "Apple",
          "Apple",
          "Apple"
         ],
         "legendgroup": "Apple MacBook Pro Series, Apple MacBook Pro 2021",
         "marker": {
          "color": "#FF7F0E",
          "size": [
           512,
           512,
           1000,
           1000,
           512
          ],
          "sizemode": "area",
          "sizeref": 4.444444444444445,
          "symbol": "circle"
         },
         "mode": "markers",
         "name": "Apple MacBook Pro Series, Apple MacBook Pro 2021",
         "orientation": "v",
         "showlegend": true,
         "type": "scatter",
         "x": [
          "Apple M1 Pro",
          "Apple M1 Pro",
          "Apple M1 Pro",
          "Apple M1 Pro",
          "Apple M1 Pro"
         ],
         "xaxis": "x",
         "y": [
          1257990,
          1572990,
          1572990,
          1572990,
          1783990
         ],
         "yaxis": "y"
        },
        {
         "hovertemplate": "<b>%{hovertext}</b><br><br>serie=Apple MacBook Pro Series, Apple MacBook Pro 2022<br>cpu_series=%{x}<br>prices=%{y}<br>memory_size=%{marker.size}<extra></extra>",
         "hovertext": [
          "Apple",
          "Apple",
          "Apple"
         ],
         "legendgroup": "Apple MacBook Pro Series, Apple MacBook Pro 2022",
         "marker": {
          "color": "#2CA02C",
          "size": [
           512,
           256,
           512
          ],
          "sizemode": "area",
          "sizeref": 4.444444444444445,
          "symbol": "circle"
         },
         "mode": "markers",
         "name": "Apple MacBook Pro Series, Apple MacBook Pro 2022",
         "orientation": "v",
         "showlegend": true,
         "type": "scatter",
         "x": [
          "M2",
          "M2",
          "M2"
         ],
         "xaxis": "x",
         "y": [
          942990,
          816990,
          942990
         ],
         "yaxis": "y"
        },
        {
         "hovertemplate": "<b>%{hovertext}</b><br><br>serie=Apple MacBook Air Series, Apple MacBook Air 2020<br>cpu_series=%{x}<br>prices=%{y}<br>memory_size=%{marker.size}<extra></extra>",
         "hovertext": [
          "Apple"
         ],
         "legendgroup": "Apple MacBook Air Series, Apple MacBook Air 2020",
         "marker": {
          "color": "#D62728",
          "size": [
           256
          ],
          "sizemode": "area",
          "sizeref": 4.444444444444445,
          "symbol": "circle"
         },
         "mode": "markers",
         "name": "Apple MacBook Air Series, Apple MacBook Air 2020",
         "orientation": "v",
         "showlegend": true,
         "type": "scatter",
         "x": [
          "Apple M1"
         ],
         "xaxis": "x",
         "y": [
          827990
         ],
         "yaxis": "y"
        }
       ],
       "layout": {
        "legend": {
         "itemsizing": "constant",
         "title": {
          "text": "serie"
         },
         "tracegroupgap": 0
        },
        "margin": {
         "t": 60
        },
        "template": {
         "data": {
          "bar": [
           {
            "error_x": {
             "color": "rgb(36,36,36)"
            },
            "error_y": {
             "color": "rgb(36,36,36)"
            },
            "marker": {
             "line": {
              "color": "white",
              "width": 0.5
             },
             "pattern": {
              "fillmode": "overlay",
              "size": 10,
              "solidity": 0.2
             }
            },
            "type": "bar"
           }
          ],
          "barpolar": [
           {
            "marker": {
             "line": {
              "color": "white",
              "width": 0.5
             },
             "pattern": {
              "fillmode": "overlay",
              "size": 10,
              "solidity": 0.2
             }
            },
            "type": "barpolar"
           }
          ],
          "carpet": [
           {
            "aaxis": {
             "endlinecolor": "rgb(36,36,36)",
             "gridcolor": "white",
             "linecolor": "white",
             "minorgridcolor": "white",
             "startlinecolor": "rgb(36,36,36)"
            },
            "baxis": {
             "endlinecolor": "rgb(36,36,36)",
             "gridcolor": "white",
             "linecolor": "white",
             "minorgridcolor": "white",
             "startlinecolor": "rgb(36,36,36)"
            },
            "type": "carpet"
           }
          ],
          "choropleth": [
           {
            "colorbar": {
             "outlinewidth": 1,
             "tickcolor": "rgb(36,36,36)",
             "ticks": "outside"
            },
            "type": "choropleth"
           }
          ],
          "contour": [
           {
            "colorbar": {
             "outlinewidth": 1,
             "tickcolor": "rgb(36,36,36)",
             "ticks": "outside"
            },
            "colorscale": [
             [
              0,
              "#440154"
             ],
             [
              0.1111111111111111,
              "#482878"
             ],
             [
              0.2222222222222222,
              "#3e4989"
             ],
             [
              0.3333333333333333,
              "#31688e"
             ],
             [
              0.4444444444444444,
              "#26828e"
             ],
             [
              0.5555555555555556,
              "#1f9e89"
             ],
             [
              0.6666666666666666,
              "#35b779"
             ],
             [
              0.7777777777777778,
              "#6ece58"
             ],
             [
              0.8888888888888888,
              "#b5de2b"
             ],
             [
              1,
              "#fde725"
             ]
            ],
            "type": "contour"
           }
          ],
          "contourcarpet": [
           {
            "colorbar": {
             "outlinewidth": 1,
             "tickcolor": "rgb(36,36,36)",
             "ticks": "outside"
            },
            "type": "contourcarpet"
           }
          ],
          "heatmap": [
           {
            "colorbar": {
             "outlinewidth": 1,
             "tickcolor": "rgb(36,36,36)",
             "ticks": "outside"
            },
            "colorscale": [
             [
              0,
              "#440154"
             ],
             [
              0.1111111111111111,
              "#482878"
             ],
             [
              0.2222222222222222,
              "#3e4989"
             ],
             [
              0.3333333333333333,
              "#31688e"
             ],
             [
              0.4444444444444444,
              "#26828e"
             ],
             [
              0.5555555555555556,
              "#1f9e89"
             ],
             [
              0.6666666666666666,
              "#35b779"
             ],
             [
              0.7777777777777778,
              "#6ece58"
             ],
             [
              0.8888888888888888,
              "#b5de2b"
             ],
             [
              1,
              "#fde725"
             ]
            ],
            "type": "heatmap"
           }
          ],
          "heatmapgl": [
           {
            "colorbar": {
             "outlinewidth": 1,
             "tickcolor": "rgb(36,36,36)",
             "ticks": "outside"
            },
            "colorscale": [
             [
              0,
              "#440154"
             ],
             [
              0.1111111111111111,
              "#482878"
             ],
             [
              0.2222222222222222,
              "#3e4989"
             ],
             [
              0.3333333333333333,
              "#31688e"
             ],
             [
              0.4444444444444444,
              "#26828e"
             ],
             [
              0.5555555555555556,
              "#1f9e89"
             ],
             [
              0.6666666666666666,
              "#35b779"
             ],
             [
              0.7777777777777778,
              "#6ece58"
             ],
             [
              0.8888888888888888,
              "#b5de2b"
             ],
             [
              1,
              "#fde725"
             ]
            ],
            "type": "heatmapgl"
           }
          ],
          "histogram": [
           {
            "marker": {
             "line": {
              "color": "white",
              "width": 0.6
             }
            },
            "type": "histogram"
           }
          ],
          "histogram2d": [
           {
            "colorbar": {
             "outlinewidth": 1,
             "tickcolor": "rgb(36,36,36)",
             "ticks": "outside"
            },
            "colorscale": [
             [
              0,
              "#440154"
             ],
             [
              0.1111111111111111,
              "#482878"
             ],
             [
              0.2222222222222222,
              "#3e4989"
             ],
             [
              0.3333333333333333,
              "#31688e"
             ],
             [
              0.4444444444444444,
              "#26828e"
             ],
             [
              0.5555555555555556,
              "#1f9e89"
             ],
             [
              0.6666666666666666,
              "#35b779"
             ],
             [
              0.7777777777777778,
              "#6ece58"
             ],
             [
              0.8888888888888888,
              "#b5de2b"
             ],
             [
              1,
              "#fde725"
             ]
            ],
            "type": "histogram2d"
           }
          ],
          "histogram2dcontour": [
           {
            "colorbar": {
             "outlinewidth": 1,
             "tickcolor": "rgb(36,36,36)",
             "ticks": "outside"
            },
            "colorscale": [
             [
              0,
              "#440154"
             ],
             [
              0.1111111111111111,
              "#482878"
             ],
             [
              0.2222222222222222,
              "#3e4989"
             ],
             [
              0.3333333333333333,
              "#31688e"
             ],
             [
              0.4444444444444444,
              "#26828e"
             ],
             [
              0.5555555555555556,
              "#1f9e89"
             ],
             [
              0.6666666666666666,
              "#35b779"
             ],
             [
              0.7777777777777778,
              "#6ece58"
             ],
             [
              0.8888888888888888,
              "#b5de2b"
             ],
             [
              1,
              "#fde725"
             ]
            ],
            "type": "histogram2dcontour"
           }
          ],
          "mesh3d": [
           {
            "colorbar": {
             "outlinewidth": 1,
             "tickcolor": "rgb(36,36,36)",
             "ticks": "outside"
            },
            "type": "mesh3d"
           }
          ],
          "parcoords": [
           {
            "line": {
             "colorbar": {
              "outlinewidth": 1,
              "tickcolor": "rgb(36,36,36)",
              "ticks": "outside"
             }
            },
            "type": "parcoords"
           }
          ],
          "pie": [
           {
            "automargin": true,
            "type": "pie"
           }
          ],
          "scatter": [
           {
            "marker": {
             "colorbar": {
              "outlinewidth": 1,
              "tickcolor": "rgb(36,36,36)",
              "ticks": "outside"
             }
            },
            "type": "scatter"
           }
          ],
          "scatter3d": [
           {
            "line": {
             "colorbar": {
              "outlinewidth": 1,
              "tickcolor": "rgb(36,36,36)",
              "ticks": "outside"
             }
            },
            "marker": {
             "colorbar": {
              "outlinewidth": 1,
              "tickcolor": "rgb(36,36,36)",
              "ticks": "outside"
             }
            },
            "type": "scatter3d"
           }
          ],
          "scattercarpet": [
           {
            "marker": {
             "colorbar": {
              "outlinewidth": 1,
              "tickcolor": "rgb(36,36,36)",
              "ticks": "outside"
             }
            },
            "type": "scattercarpet"
           }
          ],
          "scattergeo": [
           {
            "marker": {
             "colorbar": {
              "outlinewidth": 1,
              "tickcolor": "rgb(36,36,36)",
              "ticks": "outside"
             }
            },
            "type": "scattergeo"
           }
          ],
          "scattergl": [
           {
            "marker": {
             "colorbar": {
              "outlinewidth": 1,
              "tickcolor": "rgb(36,36,36)",
              "ticks": "outside"
             }
            },
            "type": "scattergl"
           }
          ],
          "scattermapbox": [
           {
            "marker": {
             "colorbar": {
              "outlinewidth": 1,
              "tickcolor": "rgb(36,36,36)",
              "ticks": "outside"
             }
            },
            "type": "scattermapbox"
           }
          ],
          "scatterpolar": [
           {
            "marker": {
             "colorbar": {
              "outlinewidth": 1,
              "tickcolor": "rgb(36,36,36)",
              "ticks": "outside"
             }
            },
            "type": "scatterpolar"
           }
          ],
          "scatterpolargl": [
           {
            "marker": {
             "colorbar": {
              "outlinewidth": 1,
              "tickcolor": "rgb(36,36,36)",
              "ticks": "outside"
             }
            },
            "type": "scatterpolargl"
           }
          ],
          "scatterternary": [
           {
            "marker": {
             "colorbar": {
              "outlinewidth": 1,
              "tickcolor": "rgb(36,36,36)",
              "ticks": "outside"
             }
            },
            "type": "scatterternary"
           }
          ],
          "surface": [
           {
            "colorbar": {
             "outlinewidth": 1,
             "tickcolor": "rgb(36,36,36)",
             "ticks": "outside"
            },
            "colorscale": [
             [
              0,
              "#440154"
             ],
             [
              0.1111111111111111,
              "#482878"
             ],
             [
              0.2222222222222222,
              "#3e4989"
             ],
             [
              0.3333333333333333,
              "#31688e"
             ],
             [
              0.4444444444444444,
              "#26828e"
             ],
             [
              0.5555555555555556,
              "#1f9e89"
             ],
             [
              0.6666666666666666,
              "#35b779"
             ],
             [
              0.7777777777777778,
              "#6ece58"
             ],
             [
              0.8888888888888888,
              "#b5de2b"
             ],
             [
              1,
              "#fde725"
             ]
            ],
            "type": "surface"
           }
          ],
          "table": [
           {
            "cells": {
             "fill": {
              "color": "rgb(237,237,237)"
             },
             "line": {
              "color": "white"
             }
            },
            "header": {
             "fill": {
              "color": "rgb(217,217,217)"
             },
             "line": {
              "color": "white"
             }
            },
            "type": "table"
           }
          ]
         },
         "layout": {
          "annotationdefaults": {
           "arrowhead": 0,
           "arrowwidth": 1
          },
          "autotypenumbers": "strict",
          "coloraxis": {
           "colorbar": {
            "outlinewidth": 1,
            "tickcolor": "rgb(36,36,36)",
            "ticks": "outside"
           }
          },
          "colorscale": {
           "diverging": [
            [
             0,
             "rgb(103,0,31)"
            ],
            [
             0.1,
             "rgb(178,24,43)"
            ],
            [
             0.2,
             "rgb(214,96,77)"
            ],
            [
             0.3,
             "rgb(244,165,130)"
            ],
            [
             0.4,
             "rgb(253,219,199)"
            ],
            [
             0.5,
             "rgb(247,247,247)"
            ],
            [
             0.6,
             "rgb(209,229,240)"
            ],
            [
             0.7,
             "rgb(146,197,222)"
            ],
            [
             0.8,
             "rgb(67,147,195)"
            ],
            [
             0.9,
             "rgb(33,102,172)"
            ],
            [
             1,
             "rgb(5,48,97)"
            ]
           ],
           "sequential": [
            [
             0,
             "#440154"
            ],
            [
             0.1111111111111111,
             "#482878"
            ],
            [
             0.2222222222222222,
             "#3e4989"
            ],
            [
             0.3333333333333333,
             "#31688e"
            ],
            [
             0.4444444444444444,
             "#26828e"
            ],
            [
             0.5555555555555556,
             "#1f9e89"
            ],
            [
             0.6666666666666666,
             "#35b779"
            ],
            [
             0.7777777777777778,
             "#6ece58"
            ],
            [
             0.8888888888888888,
             "#b5de2b"
            ],
            [
             1,
             "#fde725"
            ]
           ],
           "sequentialminus": [
            [
             0,
             "#440154"
            ],
            [
             0.1111111111111111,
             "#482878"
            ],
            [
             0.2222222222222222,
             "#3e4989"
            ],
            [
             0.3333333333333333,
             "#31688e"
            ],
            [
             0.4444444444444444,
             "#26828e"
            ],
            [
             0.5555555555555556,
             "#1f9e89"
            ],
            [
             0.6666666666666666,
             "#35b779"
            ],
            [
             0.7777777777777778,
             "#6ece58"
            ],
            [
             0.8888888888888888,
             "#b5de2b"
            ],
            [
             1,
             "#fde725"
            ]
           ]
          },
          "colorway": [
           "#1F77B4",
           "#FF7F0E",
           "#2CA02C",
           "#D62728",
           "#9467BD",
           "#8C564B",
           "#E377C2",
           "#7F7F7F",
           "#BCBD22",
           "#17BECF"
          ],
          "font": {
           "color": "rgb(36,36,36)"
          },
          "geo": {
           "bgcolor": "white",
           "lakecolor": "white",
           "landcolor": "white",
           "showlakes": true,
           "showland": true,
           "subunitcolor": "white"
          },
          "hoverlabel": {
           "align": "left"
          },
          "hovermode": "closest",
          "mapbox": {
           "style": "light"
          },
          "paper_bgcolor": "white",
          "plot_bgcolor": "white",
          "polar": {
           "angularaxis": {
            "gridcolor": "rgb(232,232,232)",
            "linecolor": "rgb(36,36,36)",
            "showgrid": false,
            "showline": true,
            "ticks": "outside"
           },
           "bgcolor": "white",
           "radialaxis": {
            "gridcolor": "rgb(232,232,232)",
            "linecolor": "rgb(36,36,36)",
            "showgrid": false,
            "showline": true,
            "ticks": "outside"
           }
          },
          "scene": {
           "xaxis": {
            "backgroundcolor": "white",
            "gridcolor": "rgb(232,232,232)",
            "gridwidth": 2,
            "linecolor": "rgb(36,36,36)",
            "showbackground": true,
            "showgrid": false,
            "showline": true,
            "ticks": "outside",
            "zeroline": false,
            "zerolinecolor": "rgb(36,36,36)"
           },
           "yaxis": {
            "backgroundcolor": "white",
            "gridcolor": "rgb(232,232,232)",
            "gridwidth": 2,
            "linecolor": "rgb(36,36,36)",
            "showbackground": true,
            "showgrid": false,
            "showline": true,
            "ticks": "outside",
            "zeroline": false,
            "zerolinecolor": "rgb(36,36,36)"
           },
           "zaxis": {
            "backgroundcolor": "white",
            "gridcolor": "rgb(232,232,232)",
            "gridwidth": 2,
            "linecolor": "rgb(36,36,36)",
            "showbackground": true,
            "showgrid": false,
            "showline": true,
            "ticks": "outside",
            "zeroline": false,
            "zerolinecolor": "rgb(36,36,36)"
           }
          },
          "shapedefaults": {
           "fillcolor": "black",
           "line": {
            "width": 0
           },
           "opacity": 0.3
          },
          "ternary": {
           "aaxis": {
            "gridcolor": "rgb(232,232,232)",
            "linecolor": "rgb(36,36,36)",
            "showgrid": false,
            "showline": true,
            "ticks": "outside"
           },
           "baxis": {
            "gridcolor": "rgb(232,232,232)",
            "linecolor": "rgb(36,36,36)",
            "showgrid": false,
            "showline": true,
            "ticks": "outside"
           },
           "bgcolor": "white",
           "caxis": {
            "gridcolor": "rgb(232,232,232)",
            "linecolor": "rgb(36,36,36)",
            "showgrid": false,
            "showline": true,
            "ticks": "outside"
           }
          },
          "title": {
           "x": 0.05
          },
          "xaxis": {
           "automargin": true,
           "gridcolor": "rgb(232,232,232)",
           "linecolor": "rgb(36,36,36)",
           "showgrid": false,
           "showline": true,
           "ticks": "outside",
           "title": {
            "standoff": 15
           },
           "zeroline": false,
           "zerolinecolor": "rgb(36,36,36)"
          },
          "yaxis": {
           "automargin": true,
           "gridcolor": "rgb(232,232,232)",
           "linecolor": "rgb(36,36,36)",
           "showgrid": false,
           "showline": true,
           "ticks": "outside",
           "title": {
            "standoff": 15
           },
           "zeroline": false,
           "zerolinecolor": "rgb(36,36,36)"
          }
         }
        },
        "xaxis": {
         "anchor": "y",
         "domain": [
          0,
          1
         ],
         "title": {
          "text": "cpu_series"
         }
        },
        "yaxis": {
         "anchor": "x",
         "domain": [
          0,
          1
         ],
         "title": {
          "text": "prices"
         }
        }
       }
      },
      "text/html": [
       "<div>                            <div id=\"f6dd79eb-836c-4eb4-b51d-3dfc904084a5\" class=\"plotly-graph-div\" style=\"height:525px; width:100%;\"></div>            <script type=\"text/javascript\">                require([\"plotly\"], function(Plotly) {                    window.PLOTLYENV=window.PLOTLYENV || {};                                    if (document.getElementById(\"f6dd79eb-836c-4eb4-b51d-3dfc904084a5\")) {                    Plotly.newPlot(                        \"f6dd79eb-836c-4eb4-b51d-3dfc904084a5\",                        [{\"hovertemplate\":\"<b>%{hovertext}</b><br><br>serie=Apple MacBook Air Series, Apple MacBook Air 2022<br>cpu_series=%{x}<br>prices=%{y}<br>memory_size=%{marker.size}<extra></extra>\",\"hovertext\":[\"Apple\",\"Apple\",\"Apple\",\"Apple\",\"Apple\",\"Apple\"],\"legendgroup\":\"Apple MacBook Air Series, Apple MacBook Air 2022\",\"marker\":{\"color\":\"#1F77B4\",\"size\":[256.0,512.0,256.0,512.0,256.0,256.0],\"sizemode\":\"area\",\"sizeref\":4.444444444444445,\"symbol\":\"circle\"},\"mode\":\"markers\",\"name\":\"Apple MacBook Air Series, Apple MacBook Air 2022\",\"orientation\":\"v\",\"showlegend\":true,\"x\":[\"M2\",\"M2\",\"M2\",\"M2\",\"M2\",\"M2\"],\"xaxis\":\"x\",\"y\":[699990,942990,919990,942990,919990,919990],\"yaxis\":\"y\",\"type\":\"scatter\"},{\"hovertemplate\":\"<b>%{hovertext}</b><br><br>serie=Apple MacBook Pro Series, Apple MacBook Pro 2021<br>cpu_series=%{x}<br>prices=%{y}<br>memory_size=%{marker.size}<extra></extra>\",\"hovertext\":[\"Apple\",\"Apple\",\"Apple\",\"Apple\",\"Apple\"],\"legendgroup\":\"Apple MacBook Pro Series, Apple MacBook Pro 2021\",\"marker\":{\"color\":\"#FF7F0E\",\"size\":[512.0,512.0,1000.0,1000.0,512.0],\"sizemode\":\"area\",\"sizeref\":4.444444444444445,\"symbol\":\"circle\"},\"mode\":\"markers\",\"name\":\"Apple MacBook Pro Series, Apple MacBook Pro 2021\",\"orientation\":\"v\",\"showlegend\":true,\"x\":[\"Apple M1 Pro\",\"Apple M1 Pro\",\"Apple M1 Pro\",\"Apple M1 Pro\",\"Apple M1 Pro\"],\"xaxis\":\"x\",\"y\":[1257990,1572990,1572990,1572990,1783990],\"yaxis\":\"y\",\"type\":\"scatter\"},{\"hovertemplate\":\"<b>%{hovertext}</b><br><br>serie=Apple MacBook Pro Series, Apple MacBook Pro 2022<br>cpu_series=%{x}<br>prices=%{y}<br>memory_size=%{marker.size}<extra></extra>\",\"hovertext\":[\"Apple\",\"Apple\",\"Apple\"],\"legendgroup\":\"Apple MacBook Pro Series, Apple MacBook Pro 2022\",\"marker\":{\"color\":\"#2CA02C\",\"size\":[512.0,256.0,512.0],\"sizemode\":\"area\",\"sizeref\":4.444444444444445,\"symbol\":\"circle\"},\"mode\":\"markers\",\"name\":\"Apple MacBook Pro Series, Apple MacBook Pro 2022\",\"orientation\":\"v\",\"showlegend\":true,\"x\":[\"M2\",\"M2\",\"M2\"],\"xaxis\":\"x\",\"y\":[942990,816990,942990],\"yaxis\":\"y\",\"type\":\"scatter\"},{\"hovertemplate\":\"<b>%{hovertext}</b><br><br>serie=Apple MacBook Air Series, Apple MacBook Air 2020<br>cpu_series=%{x}<br>prices=%{y}<br>memory_size=%{marker.size}<extra></extra>\",\"hovertext\":[\"Apple\"],\"legendgroup\":\"Apple MacBook Air Series, Apple MacBook Air 2020\",\"marker\":{\"color\":\"#D62728\",\"size\":[256.0],\"sizemode\":\"area\",\"sizeref\":4.444444444444445,\"symbol\":\"circle\"},\"mode\":\"markers\",\"name\":\"Apple MacBook Air Series, Apple MacBook Air 2020\",\"orientation\":\"v\",\"showlegend\":true,\"x\":[\"Apple M1\"],\"xaxis\":\"x\",\"y\":[827990],\"yaxis\":\"y\",\"type\":\"scatter\"}],                        {\"template\":{\"data\":{\"barpolar\":[{\"marker\":{\"line\":{\"color\":\"white\",\"width\":0.5},\"pattern\":{\"fillmode\":\"overlay\",\"size\":10,\"solidity\":0.2}},\"type\":\"barpolar\"}],\"bar\":[{\"error_x\":{\"color\":\"rgb(36,36,36)\"},\"error_y\":{\"color\":\"rgb(36,36,36)\"},\"marker\":{\"line\":{\"color\":\"white\",\"width\":0.5},\"pattern\":{\"fillmode\":\"overlay\",\"size\":10,\"solidity\":0.2}},\"type\":\"bar\"}],\"carpet\":[{\"aaxis\":{\"endlinecolor\":\"rgb(36,36,36)\",\"gridcolor\":\"white\",\"linecolor\":\"white\",\"minorgridcolor\":\"white\",\"startlinecolor\":\"rgb(36,36,36)\"},\"baxis\":{\"endlinecolor\":\"rgb(36,36,36)\",\"gridcolor\":\"white\",\"linecolor\":\"white\",\"minorgridcolor\":\"white\",\"startlinecolor\":\"rgb(36,36,36)\"},\"type\":\"carpet\"}],\"choropleth\":[{\"colorbar\":{\"outlinewidth\":1,\"tickcolor\":\"rgb(36,36,36)\",\"ticks\":\"outside\"},\"type\":\"choropleth\"}],\"contourcarpet\":[{\"colorbar\":{\"outlinewidth\":1,\"tickcolor\":\"rgb(36,36,36)\",\"ticks\":\"outside\"},\"type\":\"contourcarpet\"}],\"contour\":[{\"colorbar\":{\"outlinewidth\":1,\"tickcolor\":\"rgb(36,36,36)\",\"ticks\":\"outside\"},\"colorscale\":[[0.0,\"#440154\"],[0.1111111111111111,\"#482878\"],[0.2222222222222222,\"#3e4989\"],[0.3333333333333333,\"#31688e\"],[0.4444444444444444,\"#26828e\"],[0.5555555555555556,\"#1f9e89\"],[0.6666666666666666,\"#35b779\"],[0.7777777777777778,\"#6ece58\"],[0.8888888888888888,\"#b5de2b\"],[1.0,\"#fde725\"]],\"type\":\"contour\"}],\"heatmapgl\":[{\"colorbar\":{\"outlinewidth\":1,\"tickcolor\":\"rgb(36,36,36)\",\"ticks\":\"outside\"},\"colorscale\":[[0.0,\"#440154\"],[0.1111111111111111,\"#482878\"],[0.2222222222222222,\"#3e4989\"],[0.3333333333333333,\"#31688e\"],[0.4444444444444444,\"#26828e\"],[0.5555555555555556,\"#1f9e89\"],[0.6666666666666666,\"#35b779\"],[0.7777777777777778,\"#6ece58\"],[0.8888888888888888,\"#b5de2b\"],[1.0,\"#fde725\"]],\"type\":\"heatmapgl\"}],\"heatmap\":[{\"colorbar\":{\"outlinewidth\":1,\"tickcolor\":\"rgb(36,36,36)\",\"ticks\":\"outside\"},\"colorscale\":[[0.0,\"#440154\"],[0.1111111111111111,\"#482878\"],[0.2222222222222222,\"#3e4989\"],[0.3333333333333333,\"#31688e\"],[0.4444444444444444,\"#26828e\"],[0.5555555555555556,\"#1f9e89\"],[0.6666666666666666,\"#35b779\"],[0.7777777777777778,\"#6ece58\"],[0.8888888888888888,\"#b5de2b\"],[1.0,\"#fde725\"]],\"type\":\"heatmap\"}],\"histogram2dcontour\":[{\"colorbar\":{\"outlinewidth\":1,\"tickcolor\":\"rgb(36,36,36)\",\"ticks\":\"outside\"},\"colorscale\":[[0.0,\"#440154\"],[0.1111111111111111,\"#482878\"],[0.2222222222222222,\"#3e4989\"],[0.3333333333333333,\"#31688e\"],[0.4444444444444444,\"#26828e\"],[0.5555555555555556,\"#1f9e89\"],[0.6666666666666666,\"#35b779\"],[0.7777777777777778,\"#6ece58\"],[0.8888888888888888,\"#b5de2b\"],[1.0,\"#fde725\"]],\"type\":\"histogram2dcontour\"}],\"histogram2d\":[{\"colorbar\":{\"outlinewidth\":1,\"tickcolor\":\"rgb(36,36,36)\",\"ticks\":\"outside\"},\"colorscale\":[[0.0,\"#440154\"],[0.1111111111111111,\"#482878\"],[0.2222222222222222,\"#3e4989\"],[0.3333333333333333,\"#31688e\"],[0.4444444444444444,\"#26828e\"],[0.5555555555555556,\"#1f9e89\"],[0.6666666666666666,\"#35b779\"],[0.7777777777777778,\"#6ece58\"],[0.8888888888888888,\"#b5de2b\"],[1.0,\"#fde725\"]],\"type\":\"histogram2d\"}],\"histogram\":[{\"marker\":{\"line\":{\"color\":\"white\",\"width\":0.6}},\"type\":\"histogram\"}],\"mesh3d\":[{\"colorbar\":{\"outlinewidth\":1,\"tickcolor\":\"rgb(36,36,36)\",\"ticks\":\"outside\"},\"type\":\"mesh3d\"}],\"parcoords\":[{\"line\":{\"colorbar\":{\"outlinewidth\":1,\"tickcolor\":\"rgb(36,36,36)\",\"ticks\":\"outside\"}},\"type\":\"parcoords\"}],\"pie\":[{\"automargin\":true,\"type\":\"pie\"}],\"scatter3d\":[{\"line\":{\"colorbar\":{\"outlinewidth\":1,\"tickcolor\":\"rgb(36,36,36)\",\"ticks\":\"outside\"}},\"marker\":{\"colorbar\":{\"outlinewidth\":1,\"tickcolor\":\"rgb(36,36,36)\",\"ticks\":\"outside\"}},\"type\":\"scatter3d\"}],\"scattercarpet\":[{\"marker\":{\"colorbar\":{\"outlinewidth\":1,\"tickcolor\":\"rgb(36,36,36)\",\"ticks\":\"outside\"}},\"type\":\"scattercarpet\"}],\"scattergeo\":[{\"marker\":{\"colorbar\":{\"outlinewidth\":1,\"tickcolor\":\"rgb(36,36,36)\",\"ticks\":\"outside\"}},\"type\":\"scattergeo\"}],\"scattergl\":[{\"marker\":{\"colorbar\":{\"outlinewidth\":1,\"tickcolor\":\"rgb(36,36,36)\",\"ticks\":\"outside\"}},\"type\":\"scattergl\"}],\"scattermapbox\":[{\"marker\":{\"colorbar\":{\"outlinewidth\":1,\"tickcolor\":\"rgb(36,36,36)\",\"ticks\":\"outside\"}},\"type\":\"scattermapbox\"}],\"scatterpolargl\":[{\"marker\":{\"colorbar\":{\"outlinewidth\":1,\"tickcolor\":\"rgb(36,36,36)\",\"ticks\":\"outside\"}},\"type\":\"scatterpolargl\"}],\"scatterpolar\":[{\"marker\":{\"colorbar\":{\"outlinewidth\":1,\"tickcolor\":\"rgb(36,36,36)\",\"ticks\":\"outside\"}},\"type\":\"scatterpolar\"}],\"scatter\":[{\"marker\":{\"colorbar\":{\"outlinewidth\":1,\"tickcolor\":\"rgb(36,36,36)\",\"ticks\":\"outside\"}},\"type\":\"scatter\"}],\"scatterternary\":[{\"marker\":{\"colorbar\":{\"outlinewidth\":1,\"tickcolor\":\"rgb(36,36,36)\",\"ticks\":\"outside\"}},\"type\":\"scatterternary\"}],\"surface\":[{\"colorbar\":{\"outlinewidth\":1,\"tickcolor\":\"rgb(36,36,36)\",\"ticks\":\"outside\"},\"colorscale\":[[0.0,\"#440154\"],[0.1111111111111111,\"#482878\"],[0.2222222222222222,\"#3e4989\"],[0.3333333333333333,\"#31688e\"],[0.4444444444444444,\"#26828e\"],[0.5555555555555556,\"#1f9e89\"],[0.6666666666666666,\"#35b779\"],[0.7777777777777778,\"#6ece58\"],[0.8888888888888888,\"#b5de2b\"],[1.0,\"#fde725\"]],\"type\":\"surface\"}],\"table\":[{\"cells\":{\"fill\":{\"color\":\"rgb(237,237,237)\"},\"line\":{\"color\":\"white\"}},\"header\":{\"fill\":{\"color\":\"rgb(217,217,217)\"},\"line\":{\"color\":\"white\"}},\"type\":\"table\"}]},\"layout\":{\"annotationdefaults\":{\"arrowhead\":0,\"arrowwidth\":1},\"autotypenumbers\":\"strict\",\"coloraxis\":{\"colorbar\":{\"outlinewidth\":1,\"tickcolor\":\"rgb(36,36,36)\",\"ticks\":\"outside\"}},\"colorscale\":{\"diverging\":[[0.0,\"rgb(103,0,31)\"],[0.1,\"rgb(178,24,43)\"],[0.2,\"rgb(214,96,77)\"],[0.3,\"rgb(244,165,130)\"],[0.4,\"rgb(253,219,199)\"],[0.5,\"rgb(247,247,247)\"],[0.6,\"rgb(209,229,240)\"],[0.7,\"rgb(146,197,222)\"],[0.8,\"rgb(67,147,195)\"],[0.9,\"rgb(33,102,172)\"],[1.0,\"rgb(5,48,97)\"]],\"sequential\":[[0.0,\"#440154\"],[0.1111111111111111,\"#482878\"],[0.2222222222222222,\"#3e4989\"],[0.3333333333333333,\"#31688e\"],[0.4444444444444444,\"#26828e\"],[0.5555555555555556,\"#1f9e89\"],[0.6666666666666666,\"#35b779\"],[0.7777777777777778,\"#6ece58\"],[0.8888888888888888,\"#b5de2b\"],[1.0,\"#fde725\"]],\"sequentialminus\":[[0.0,\"#440154\"],[0.1111111111111111,\"#482878\"],[0.2222222222222222,\"#3e4989\"],[0.3333333333333333,\"#31688e\"],[0.4444444444444444,\"#26828e\"],[0.5555555555555556,\"#1f9e89\"],[0.6666666666666666,\"#35b779\"],[0.7777777777777778,\"#6ece58\"],[0.8888888888888888,\"#b5de2b\"],[1.0,\"#fde725\"]]},\"colorway\":[\"#1F77B4\",\"#FF7F0E\",\"#2CA02C\",\"#D62728\",\"#9467BD\",\"#8C564B\",\"#E377C2\",\"#7F7F7F\",\"#BCBD22\",\"#17BECF\"],\"font\":{\"color\":\"rgb(36,36,36)\"},\"geo\":{\"bgcolor\":\"white\",\"lakecolor\":\"white\",\"landcolor\":\"white\",\"showlakes\":true,\"showland\":true,\"subunitcolor\":\"white\"},\"hoverlabel\":{\"align\":\"left\"},\"hovermode\":\"closest\",\"mapbox\":{\"style\":\"light\"},\"paper_bgcolor\":\"white\",\"plot_bgcolor\":\"white\",\"polar\":{\"angularaxis\":{\"gridcolor\":\"rgb(232,232,232)\",\"linecolor\":\"rgb(36,36,36)\",\"showgrid\":false,\"showline\":true,\"ticks\":\"outside\"},\"bgcolor\":\"white\",\"radialaxis\":{\"gridcolor\":\"rgb(232,232,232)\",\"linecolor\":\"rgb(36,36,36)\",\"showgrid\":false,\"showline\":true,\"ticks\":\"outside\"}},\"scene\":{\"xaxis\":{\"backgroundcolor\":\"white\",\"gridcolor\":\"rgb(232,232,232)\",\"gridwidth\":2,\"linecolor\":\"rgb(36,36,36)\",\"showbackground\":true,\"showgrid\":false,\"showline\":true,\"ticks\":\"outside\",\"zeroline\":false,\"zerolinecolor\":\"rgb(36,36,36)\"},\"yaxis\":{\"backgroundcolor\":\"white\",\"gridcolor\":\"rgb(232,232,232)\",\"gridwidth\":2,\"linecolor\":\"rgb(36,36,36)\",\"showbackground\":true,\"showgrid\":false,\"showline\":true,\"ticks\":\"outside\",\"zeroline\":false,\"zerolinecolor\":\"rgb(36,36,36)\"},\"zaxis\":{\"backgroundcolor\":\"white\",\"gridcolor\":\"rgb(232,232,232)\",\"gridwidth\":2,\"linecolor\":\"rgb(36,36,36)\",\"showbackground\":true,\"showgrid\":false,\"showline\":true,\"ticks\":\"outside\",\"zeroline\":false,\"zerolinecolor\":\"rgb(36,36,36)\"}},\"shapedefaults\":{\"fillcolor\":\"black\",\"line\":{\"width\":0},\"opacity\":0.3},\"ternary\":{\"aaxis\":{\"gridcolor\":\"rgb(232,232,232)\",\"linecolor\":\"rgb(36,36,36)\",\"showgrid\":false,\"showline\":true,\"ticks\":\"outside\"},\"baxis\":{\"gridcolor\":\"rgb(232,232,232)\",\"linecolor\":\"rgb(36,36,36)\",\"showgrid\":false,\"showline\":true,\"ticks\":\"outside\"},\"bgcolor\":\"white\",\"caxis\":{\"gridcolor\":\"rgb(232,232,232)\",\"linecolor\":\"rgb(36,36,36)\",\"showgrid\":false,\"showline\":true,\"ticks\":\"outside\"}},\"title\":{\"x\":0.05},\"xaxis\":{\"automargin\":true,\"gridcolor\":\"rgb(232,232,232)\",\"linecolor\":\"rgb(36,36,36)\",\"showgrid\":false,\"showline\":true,\"ticks\":\"outside\",\"title\":{\"standoff\":15},\"zeroline\":false,\"zerolinecolor\":\"rgb(36,36,36)\"},\"yaxis\":{\"automargin\":true,\"gridcolor\":\"rgb(232,232,232)\",\"linecolor\":\"rgb(36,36,36)\",\"showgrid\":false,\"showline\":true,\"ticks\":\"outside\",\"title\":{\"standoff\":15},\"zeroline\":false,\"zerolinecolor\":\"rgb(36,36,36)\"}}},\"xaxis\":{\"anchor\":\"y\",\"domain\":[0.0,1.0],\"title\":{\"text\":\"cpu_series\"}},\"yaxis\":{\"anchor\":\"x\",\"domain\":[0.0,1.0],\"title\":{\"text\":\"prices\"}},\"legend\":{\"title\":{\"text\":\"serie\"},\"tracegroupgap\":0,\"itemsizing\":\"constant\"},\"margin\":{\"t\":60}},                        {\"responsive\": true}                    ).then(function(){\n",
       "                            \n",
       "var gd = document.getElementById('f6dd79eb-836c-4eb4-b51d-3dfc904084a5');\n",
       "var x = new MutationObserver(function (mutations, observer) {{\n",
       "        var display = window.getComputedStyle(gd).display;\n",
       "        if (!display || display === 'none') {{\n",
       "            console.log([gd, 'removed!']);\n",
       "            Plotly.purge(gd);\n",
       "            observer.disconnect();\n",
       "        }}\n",
       "}});\n",
       "\n",
       "// Listen for the removal of the full notebook cells\n",
       "var notebookContainer = gd.closest('#notebook-container');\n",
       "if (notebookContainer) {{\n",
       "    x.observe(notebookContainer, {childList: true});\n",
       "}}\n",
       "\n",
       "// Listen for the clearing of the current output cell\n",
       "var outputEl = gd.closest('.output');\n",
       "if (outputEl) {{\n",
       "    x.observe(outputEl, {childList: true});\n",
       "}}\n",
       "\n",
       "                        })                };                });            </script>        </div>"
      ]
     },
     "metadata": {},
     "output_type": "display_data"
    }
   ],
   "source": [
    "#2 vizualization\n",
    "import plotly.express as px\n",
    "\n",
    "cpu = df['cpu_manufacturer'].drop_duplicates()\n",
    "cpu_manufacturer = list(cpu)\n",
    "print(cpu_manufacturer)\n",
    "\n",
    "for i in cpu_manufacturer:\n",
    "    cpu = df[df[\"cpu_manufacturer\"] == i]\n",
    "    fig = px.scatter(cpu, y = 'prices', x = 'cpu_series', template= \"simple_white\", \n",
    "           hover_name=\"Company\", color = \"serie\", size = \"memory_size\", size_max = 15)\n",
    "    fig.show()"
   ]
  }
 ],
 "metadata": {
  "kernelspec": {
   "display_name": "Python 3 (ipykernel)",
   "language": "python",
   "name": "python3"
  },
  "language_info": {
   "codemirror_mode": {
    "name": "ipython",
    "version": 3
   },
   "file_extension": ".py",
   "mimetype": "text/x-python",
   "name": "python",
   "nbconvert_exporter": "python",
   "pygments_lexer": "ipython3",
   "version": "3.9.12"
  }
 },
 "nbformat": 4,
 "nbformat_minor": 5
}
