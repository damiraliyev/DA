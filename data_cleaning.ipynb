{
 "cells": [
  {
   "cell_type": "code",
   "execution_count": 32,
   "id": "8da5cbcf",
   "metadata": {},
   "outputs": [],
   "source": [
    "import pandas as pd\n",
    "import numpy as np"
   ]
  },
  {
   "cell_type": "code",
   "execution_count": 33,
   "id": "04663528",
   "metadata": {},
   "outputs": [
    {
     "data": {
      "text/html": [
       "<div>\n",
       "<style scoped>\n",
       "    .dataframe tbody tr th:only-of-type {\n",
       "        vertical-align: middle;\n",
       "    }\n",
       "\n",
       "    .dataframe tbody tr th {\n",
       "        vertical-align: top;\n",
       "    }\n",
       "\n",
       "    .dataframe thead th {\n",
       "        text-align: right;\n",
       "    }\n",
       "</style>\n",
       "<table border=\"1\" class=\"dataframe\">\n",
       "  <thead>\n",
       "    <tr style=\"text-align: right;\">\n",
       "      <th></th>\n",
       "      <th>serie</th>\n",
       "      <th>cpu_manufacturer</th>\n",
       "      <th>core</th>\n",
       "      <th>cpu_frequency</th>\n",
       "      <th>cpu_series</th>\n",
       "      <th>memory_size</th>\n",
       "      <th>memory_type</th>\n",
       "      <th>RAM</th>\n",
       "      <th>resolution</th>\n",
       "      <th>matrix_type</th>\n",
       "      <th>videocard</th>\n",
       "      <th>weight</th>\n",
       "      <th>laptop_class</th>\n",
       "      <th>prices</th>\n",
       "    </tr>\n",
       "  </thead>\n",
       "  <tbody>\n",
       "    <tr>\n",
       "      <th>0</th>\n",
       "      <td>NaN</td>\n",
       "      <td>Intel</td>\n",
       "      <td>2</td>\n",
       "      <td>2.7</td>\n",
       "      <td>Intel Core i5</td>\n",
       "      <td>256.0</td>\n",
       "      <td>SSD</td>\n",
       "      <td>8.0</td>\n",
       "      <td>1920x1080 Full HD</td>\n",
       "      <td>IPS</td>\n",
       "      <td>Встроенная</td>\n",
       "      <td>1.80</td>\n",
       "      <td>Для работы и учебы</td>\n",
       "      <td>179990</td>\n",
       "    </tr>\n",
       "    <tr>\n",
       "      <th>1</th>\n",
       "      <td>Asus TUF Gaming F15</td>\n",
       "      <td>Intel</td>\n",
       "      <td>6</td>\n",
       "      <td>2.6</td>\n",
       "      <td>Intel Core i5</td>\n",
       "      <td>512.0</td>\n",
       "      <td>SSD</td>\n",
       "      <td>16.0</td>\n",
       "      <td>1920x1080 Full HD</td>\n",
       "      <td>IPS</td>\n",
       "      <td>NGF RTX3050</td>\n",
       "      <td>2.30</td>\n",
       "      <td>Для игр и продакшена</td>\n",
       "      <td>579990</td>\n",
       "    </tr>\n",
       "    <tr>\n",
       "      <th>2</th>\n",
       "      <td>HUAWEI MateBook D15</td>\n",
       "      <td>Intel</td>\n",
       "      <td>2</td>\n",
       "      <td>3.0</td>\n",
       "      <td>Intel Core i3</td>\n",
       "      <td>256.0</td>\n",
       "      <td>SSD</td>\n",
       "      <td>8.0</td>\n",
       "      <td>1920x1080 Full HD</td>\n",
       "      <td>IPS</td>\n",
       "      <td>Встроенная</td>\n",
       "      <td>1.62</td>\n",
       "      <td>Премиум</td>\n",
       "      <td>299990</td>\n",
       "    </tr>\n",
       "    <tr>\n",
       "      <th>3</th>\n",
       "      <td>Asus X515JA</td>\n",
       "      <td>Intel</td>\n",
       "      <td>4</td>\n",
       "      <td>1.0</td>\n",
       "      <td>Intel Core i5</td>\n",
       "      <td>512.0</td>\n",
       "      <td>SSD</td>\n",
       "      <td>8.0</td>\n",
       "      <td>1920x1080 Full HD</td>\n",
       "      <td>IPS</td>\n",
       "      <td>Встроенная</td>\n",
       "      <td>1.80</td>\n",
       "      <td>Для работы и учебы</td>\n",
       "      <td>299990</td>\n",
       "    </tr>\n",
       "    <tr>\n",
       "      <th>4</th>\n",
       "      <td>Asus X515JA</td>\n",
       "      <td>Intel</td>\n",
       "      <td>2</td>\n",
       "      <td>1.2</td>\n",
       "      <td>Intel Core i3</td>\n",
       "      <td>256.0</td>\n",
       "      <td>SSD</td>\n",
       "      <td>8.0</td>\n",
       "      <td>1920x1080 Full HD</td>\n",
       "      <td>IPS</td>\n",
       "      <td>Встроенная</td>\n",
       "      <td>1.80</td>\n",
       "      <td>Для работы и учебы</td>\n",
       "      <td>219990</td>\n",
       "    </tr>\n",
       "    <tr>\n",
       "      <th>...</th>\n",
       "      <td>...</td>\n",
       "      <td>...</td>\n",
       "      <td>...</td>\n",
       "      <td>...</td>\n",
       "      <td>...</td>\n",
       "      <td>...</td>\n",
       "      <td>...</td>\n",
       "      <td>...</td>\n",
       "      <td>...</td>\n",
       "      <td>...</td>\n",
       "      <td>...</td>\n",
       "      <td>...</td>\n",
       "      <td>...</td>\n",
       "      <td>...</td>\n",
       "    </tr>\n",
       "    <tr>\n",
       "      <th>98</th>\n",
       "      <td>Gigabyte U4 UD</td>\n",
       "      <td>Intel</td>\n",
       "      <td>4</td>\n",
       "      <td>2.5</td>\n",
       "      <td>Intel Core i7</td>\n",
       "      <td>512.0</td>\n",
       "      <td>SSD</td>\n",
       "      <td>16.0</td>\n",
       "      <td>1920x1080 Full HD</td>\n",
       "      <td>IPS</td>\n",
       "      <td>Встроенная</td>\n",
       "      <td>1.00</td>\n",
       "      <td>Для работы и учебы</td>\n",
       "      <td>476390</td>\n",
       "    </tr>\n",
       "    <tr>\n",
       "      <th>99</th>\n",
       "      <td>Gigabyte AERO 16 KE5</td>\n",
       "      <td>Intel</td>\n",
       "      <td>14</td>\n",
       "      <td>2.3</td>\n",
       "      <td>Intel Core i7</td>\n",
       "      <td>1000.0</td>\n",
       "      <td>SSD</td>\n",
       "      <td>16.0</td>\n",
       "      <td>3840x2400 WQUXGA</td>\n",
       "      <td>IPS</td>\n",
       "      <td>NGF RTX 3060</td>\n",
       "      <td>248.50</td>\n",
       "      <td>Для игр и продакшена</td>\n",
       "      <td>1317890</td>\n",
       "    </tr>\n",
       "    <tr>\n",
       "      <th>100</th>\n",
       "      <td>Gigabyte G7 KE</td>\n",
       "      <td>Intel</td>\n",
       "      <td>6</td>\n",
       "      <td>2.5</td>\n",
       "      <td>Intel Core i5</td>\n",
       "      <td>512.0</td>\n",
       "      <td>SSD</td>\n",
       "      <td>16.0</td>\n",
       "      <td>1920x1080 Full HD</td>\n",
       "      <td>IPS</td>\n",
       "      <td>NGF RTX 3060P</td>\n",
       "      <td>2.40</td>\n",
       "      <td>Для игр и продакшена</td>\n",
       "      <td>649490</td>\n",
       "    </tr>\n",
       "    <tr>\n",
       "      <th>101</th>\n",
       "      <td>Gigabyte G7 KE</td>\n",
       "      <td>Intel</td>\n",
       "      <td>12</td>\n",
       "      <td>2.5</td>\n",
       "      <td>Intel Core i5</td>\n",
       "      <td>512.0</td>\n",
       "      <td>SSD</td>\n",
       "      <td>16.0</td>\n",
       "      <td>1920x1080 Full HD</td>\n",
       "      <td>IPS</td>\n",
       "      <td>NGF RTX 3060P</td>\n",
       "      <td>2.40</td>\n",
       "      <td>Для игр и продакшена</td>\n",
       "      <td>719490</td>\n",
       "    </tr>\n",
       "    <tr>\n",
       "      <th>102</th>\n",
       "      <td>Gigabyte G7 ME</td>\n",
       "      <td>Intel</td>\n",
       "      <td>12</td>\n",
       "      <td>2.5</td>\n",
       "      <td>Intel Core i5</td>\n",
       "      <td>512.0</td>\n",
       "      <td>SSD</td>\n",
       "      <td>16.0</td>\n",
       "      <td>1920x1080 Full HD</td>\n",
       "      <td>144 Hz</td>\n",
       "      <td>NGF RTX 3050 Ti</td>\n",
       "      <td>2.50</td>\n",
       "      <td>Для игр и продакшена</td>\n",
       "      <td>654490</td>\n",
       "    </tr>\n",
       "  </tbody>\n",
       "</table>\n",
       "<p>103 rows × 14 columns</p>\n",
       "</div>"
      ],
      "text/plain": [
       "                    serie cpu_manufacturer core  cpu_frequency     cpu_series  \\\n",
       "0                     NaN            Intel    2            2.7  Intel Core i5   \n",
       "1     Asus TUF Gaming F15            Intel    6            2.6  Intel Core i5   \n",
       "2     HUAWEI MateBook D15            Intel    2            3.0  Intel Core i3   \n",
       "3             Asus X515JA            Intel    4            1.0  Intel Core i5   \n",
       "4             Asus X515JA            Intel    2            1.2  Intel Core i3   \n",
       "..                    ...              ...  ...            ...            ...   \n",
       "98         Gigabyte U4 UD            Intel    4            2.5  Intel Core i7   \n",
       "99   Gigabyte AERO 16 KE5            Intel   14            2.3  Intel Core i7   \n",
       "100        Gigabyte G7 KE            Intel    6            2.5  Intel Core i5   \n",
       "101        Gigabyte G7 KE            Intel   12            2.5  Intel Core i5   \n",
       "102        Gigabyte G7 ME            Intel   12            2.5  Intel Core i5   \n",
       "\n",
       "     memory_size memory_type   RAM         resolution matrix_type  \\\n",
       "0          256.0         SSD   8.0  1920x1080 Full HD         IPS   \n",
       "1          512.0         SSD  16.0  1920x1080 Full HD         IPS   \n",
       "2          256.0         SSD   8.0  1920x1080 Full HD         IPS   \n",
       "3          512.0         SSD   8.0  1920x1080 Full HD         IPS   \n",
       "4          256.0         SSD   8.0  1920x1080 Full HD         IPS   \n",
       "..           ...         ...   ...                ...         ...   \n",
       "98         512.0         SSD  16.0  1920x1080 Full HD         IPS   \n",
       "99        1000.0         SSD  16.0   3840x2400 WQUXGA         IPS   \n",
       "100        512.0         SSD  16.0  1920x1080 Full HD         IPS   \n",
       "101        512.0         SSD  16.0  1920x1080 Full HD         IPS   \n",
       "102        512.0         SSD  16.0  1920x1080 Full HD      144 Hz   \n",
       "\n",
       "           videocard  weight          laptop_class   prices  \n",
       "0         Встроенная    1.80    Для работы и учебы   179990  \n",
       "1        NGF RTX3050    2.30  Для игр и продакшена   579990  \n",
       "2         Встроенная    1.62               Премиум   299990  \n",
       "3         Встроенная    1.80    Для работы и учебы   299990  \n",
       "4         Встроенная    1.80    Для работы и учебы   219990  \n",
       "..               ...     ...                   ...      ...  \n",
       "98        Встроенная    1.00    Для работы и учебы   476390  \n",
       "99      NGF RTX 3060  248.50  Для игр и продакшена  1317890  \n",
       "100    NGF RTX 3060P    2.40  Для игр и продакшена   649490  \n",
       "101    NGF RTX 3060P    2.40  Для игр и продакшена   719490  \n",
       "102  NGF RTX 3050 Ti    2.50  Для игр и продакшена   654490  \n",
       "\n",
       "[103 rows x 14 columns]"
      ]
     },
     "execution_count": 33,
     "metadata": {},
     "output_type": "execute_result"
    }
   ],
   "source": [
    "df = pd.read_csv('laptops_info.csv', index_col=0)\n",
    "df"
   ]
  },
  {
   "cell_type": "code",
   "execution_count": 34,
   "id": "a74ec87d",
   "metadata": {},
   "outputs": [
    {
     "data": {
      "text/plain": [
       "serie                2\n",
       "cpu_manufacturer     1\n",
       "core                 1\n",
       "cpu_frequency       16\n",
       "cpu_series           1\n",
       "memory_size          1\n",
       "memory_type          1\n",
       "RAM                  1\n",
       "resolution           1\n",
       "matrix_type          1\n",
       "videocard            1\n",
       "weight               1\n",
       "laptop_class         1\n",
       "prices               0\n",
       "dtype: int64"
      ]
     },
     "execution_count": 34,
     "metadata": {},
     "output_type": "execute_result"
    }
   ],
   "source": [
    "#We collected our data, but it has a lot of work to be done, particularly we need to clean the data\n",
    "df.isnull().sum()"
   ]
  },
  {
   "cell_type": "code",
   "execution_count": 35,
   "id": "b5975c85",
   "metadata": {},
   "outputs": [
    {
     "data": {
      "text/plain": [
       "(102, 14)"
      ]
     },
     "execution_count": 35,
     "metadata": {},
     "output_type": "execute_result"
    }
   ],
   "source": [
    "#Delete rows where all values are null\n",
    "\n",
    "#But I don't put to subset laptop_class and price because all rows has this value\n",
    "#Some rows are fully null(except last 2 columns), because there was cases, when charasteristics had not load\n",
    "#while scraping\n",
    "df = df.dropna(thresh=12).reset_index(drop=True)\n",
    "df.shape"
   ]
  },
  {
   "cell_type": "code",
   "execution_count": 36,
   "id": "a11872e2",
   "metadata": {},
   "outputs": [
    {
     "data": {
      "text/plain": [
       "serie               1\n",
       "cpu_manufacturer    0\n",
       "core                0\n",
       "cpu_frequency       0\n",
       "cpu_series          0\n",
       "memory_size         0\n",
       "memory_type         0\n",
       "RAM                 0\n",
       "resolution          0\n",
       "matrix_type         0\n",
       "videocard           0\n",
       "weight              0\n",
       "laptop_class        0\n",
       "prices              0\n",
       "dtype: int64"
      ]
     },
     "execution_count": 36,
     "metadata": {},
     "output_type": "execute_result"
    }
   ],
   "source": [
    "#We see a lot of null values in cpu_frequency column, but why?\n",
    "# It's because in Technodom website, they didn't write frequency of cpu on Mac laptops.\n",
    "# I decided to google it and replace the null values of Mac laptops \n",
    "\n",
    "# CPU frequency of macbooks with M1, M1 Pro processors  -> 3.2 GHz \n",
    "# CPU frequency of macbooks with M2 processors  -> 3.5 GHz \n",
    "\n",
    "#Disable SettingsSettingWithCopyWarning:  A value is trying to be set on a copy of a slice from a DataFrame\n",
    "pd.options.mode.chained_assignment = None  # default='warn'\n",
    "\n",
    "\n",
    "for i in range(0, len(df['cpu_series'])):\n",
    "\n",
    "    if 'M1' in df['cpu_series'][i]:\n",
    "        df['cpu_frequency'][i] = 3.2\n",
    "    elif 'M2' in df['cpu_series'][i]:\n",
    "        df['cpu_frequency'][i] = 3.5\n",
    "\n",
    "#Now we have less number of null values\n",
    "df.isnull().sum()"
   ]
  },
  {
   "cell_type": "code",
   "execution_count": 37,
   "id": "b15f6077",
   "metadata": {},
   "outputs": [
    {
     "data": {
      "text/plain": [
       "serie               0\n",
       "cpu_manufacturer    0\n",
       "core                0\n",
       "cpu_frequency       0\n",
       "cpu_series          0\n",
       "memory_size         0\n",
       "memory_type         0\n",
       "RAM                 0\n",
       "resolution          0\n",
       "matrix_type         0\n",
       "videocard           0\n",
       "weight              0\n",
       "laptop_class        0\n",
       "prices              0\n",
       "dtype: int64"
      ]
     },
     "execution_count": 37,
     "metadata": {},
     "output_type": "execute_result"
    }
   ],
   "source": [
    "# We have on row with one null value, let's drop it\n",
    "df = df.dropna().reset_index(drop=True)\n",
    "df.isnull().sum()"
   ]
  },
  {
   "cell_type": "code",
   "execution_count": 38,
   "id": "0fe6eb69",
   "metadata": {},
   "outputs": [],
   "source": [
    "#While observing data, we found some floating point numbers in 'cpu_series' column \n",
    "#It can be because of different order and structure of characteristics in Techndodom's website\n",
    "# Let's remove this rows where 'cpu_series' contains float numbers\n",
    "\n",
    "for i in range(0, len(df['cpu_series'])):\n",
    "    try:\n",
    "        df['cpu_series'][i] = float(df['cpu_series'][i])\n",
    "        df = df.drop(i, axis=0).reset_index(drop=True)\n",
    "    except:\n",
    "        continue\n",
    "\n",
    "#same with matrix_types\n",
    "for i in range(0, len(df['matrix_type'])):\n",
    "    try:\n",
    "        df['matrix_type'][i] = float(df['matrix_type'][i])\n",
    "        df = df.drop(i, axis=0).reset_index(drop=True)\n",
    "    except:\n",
    "        continue"
   ]
  },
  {
   "cell_type": "code",
   "execution_count": 39,
   "id": "6d7f0e83",
   "metadata": {},
   "outputs": [
    {
     "data": {
      "text/plain": [
       "serie                object\n",
       "cpu_manufacturer     object\n",
       "core                 object\n",
       "cpu_frequency       float64\n",
       "cpu_series           object\n",
       "memory_size         float64\n",
       "memory_type          object\n",
       "RAM                 float64\n",
       "resolution           object\n",
       "matrix_type          object\n",
       "videocard            object\n",
       "weight              float64\n",
       "laptop_class         object\n",
       "prices                int64\n",
       "dtype: object"
      ]
     },
     "execution_count": 39,
     "metadata": {},
     "output_type": "execute_result"
    }
   ],
   "source": [
    "# Our data is almost clean\n",
    "\n",
    "#But some of our numeric values are actually strings\n",
    "#We need to convert them\n",
    "df.dtypes"
   ]
  },
  {
   "cell_type": "code",
   "execution_count": 41,
   "id": "6f388163",
   "metadata": {},
   "outputs": [],
   "source": [
    "# Don't know why, but this cell runs correctly after second run\n",
    "for i in range(0, len(df['core'])):\n",
    "    try:\n",
    "        df['core'][i] = float(df['core'][i])\n",
    "    except:\n",
    "        df = df.drop(i, axis=0).reset_index(drop=True)\n",
    "\n"
   ]
  },
  {
   "cell_type": "code",
   "execution_count": 42,
   "id": "7fcfc07f",
   "metadata": {},
   "outputs": [
    {
     "data": {
      "text/plain": [
       "serie                object\n",
       "cpu_manufacturer     object\n",
       "core                 object\n",
       "cpu_frequency       float64\n",
       "cpu_series           object\n",
       "memory_size         float64\n",
       "memory_type          object\n",
       "RAM                 float64\n",
       "resolution           object\n",
       "matrix_type          object\n",
       "videocard            object\n",
       "weight              float64\n",
       "laptop_class         object\n",
       "prices                int64\n",
       "dtype: object"
      ]
     },
     "execution_count": 42,
     "metadata": {},
     "output_type": "execute_result"
    }
   ],
   "source": [
    "df.dtypes"
   ]
  },
  {
   "cell_type": "code",
   "execution_count": 43,
   "id": "81e0742d",
   "metadata": {},
   "outputs": [
    {
     "data": {
      "text/plain": [
       "array(['Для игр и продакшена', 'Премиум', 'Для работы и учебы',\n",
       "       'Повседневный серфинг', 'MacBook', 'Играй на Ultra'], dtype=object)"
      ]
     },
     "execution_count": 43,
     "metadata": {},
     "output_type": "execute_result"
    }
   ],
   "source": [
    "df['laptop_class'].unique()"
   ]
  },
  {
   "cell_type": "code",
   "execution_count": 44,
   "id": "e87a74a7",
   "metadata": {},
   "outputs": [],
   "source": [
    "for i in range(0, len(df['videocard'])):\n",
    "    if df['videocard'][i] == 'Встроенная':\n",
    "        df['videocard'][i] = 'Integrated'\n",
    "        \n",
    "\n",
    "for i in range(0, len(df['laptop_class'])):\n",
    "    if df['laptop_class'][i] == 'Для работы и учебы' or df['laptop_class'][i] == 'Премиум' or df['laptop_class'][i] == 'Повседневный серфинг' or df['laptop_class'][i]== 'MacbBook' or df['laptop_class'][i]=='Non-gaming':\n",
    "        df['laptop_class'][i] = 'Non-gaming'\n",
    "    else:\n",
    "        df['laptop_class'][i] = 'Gaming'"
   ]
  },
  {
   "cell_type": "code",
   "execution_count": 45,
   "id": "d45e85bf",
   "metadata": {},
   "outputs": [],
   "source": [
    "#Almost done\n",
    "\n",
    "#While observing data, we found '144Hz' instead of matrix type\n",
    "# It seems that there wasn't matrix type characteristic for this laptop on website\n",
    "# But we don't have a lot of data, so let's keep this laptop and change matrix type for this laptop with hands\n",
    "# Checked matrix type for this laptop on internet -> it is IPS\n",
    "df['matrix_type'][len(df['matrix_type']) - 1] = 'IPS'\n",
    "\n",
    "\n",
    "#And o laptop doesn't have company name in series of laptop\n",
    "for i in range(0, len(df['serie'])):\n",
    "    if 'MateBook' in df['serie'][i]:\n",
    "        df['serie'][i] = 'Huawei ' +  df['serie'][i]"
   ]
  },
  {
   "cell_type": "code",
   "execution_count": 46,
   "id": "0f926c23",
   "metadata": {},
   "outputs": [
    {
     "name": "stdout",
     "output_type": "stream",
     "text": [
      "Lower bound 0.1999999999999995\n",
      "Upper bound 3.4000000000000004\n",
      "Mode 0    1.6\n",
      "1    1.8\n",
      "Name: weight, dtype: float64\n"
     ]
    }
   ],
   "source": [
    "#Also we can see that the weight of some laptops are very high, maybe it is a wrong data\n",
    "#We need to find outliers and replace it\n",
    "#We will replace it with mode value\n",
    "def find_outliers(my_list):\n",
    "    new_list = sorted(my_list)\n",
    "\n",
    "    q1, q3 = np.percentile(new_list,[25,75])\n",
    "#     print(q1, q3)\n",
    "    iqr = q3 - q1\n",
    "    lower_bound = q1 - (1.5 * iqr) \n",
    "    upper_bound = q3 + (1.5 * iqr)\n",
    "    \n",
    "    return (lower_bound, upper_bound)\n",
    "\n",
    "lower_bound, upper_bound = find_outliers(df['weight'])\n",
    "print('Lower bound', lower_bound)\n",
    "print('Upper bound', upper_bound)\n",
    "\n",
    "mode = df['weight'].mode()\n",
    "print('Mode', mode)\n",
    "\n",
    "for i in range(0, len(df['weight'])):\n",
    "    if df['weight'][i] < lower_bound or df['weight'][i] > upper_bound:\n",
    "        df['weight'][i] = mode[1]\n"
   ]
  },
  {
   "cell_type": "code",
   "execution_count": 47,
   "id": "317e7477",
   "metadata": {},
   "outputs": [],
   "source": [
    "df.to_csv('cleaned_data.csv')"
   ]
  },
  {
   "cell_type": "code",
   "execution_count": null,
   "id": "b7354823",
   "metadata": {},
   "outputs": [],
   "source": []
  }
 ],
 "metadata": {
  "kernelspec": {
   "display_name": "Python 3 (ipykernel)",
   "language": "python",
   "name": "python3"
  },
  "language_info": {
   "codemirror_mode": {
    "name": "ipython",
    "version": 3
   },
   "file_extension": ".py",
   "mimetype": "text/x-python",
   "name": "python",
   "nbconvert_exporter": "python",
   "pygments_lexer": "ipython3",
   "version": "3.9.12"
  }
 },
 "nbformat": 4,
 "nbformat_minor": 5
}
