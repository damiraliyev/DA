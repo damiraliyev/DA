{
 "cells": [
  {
   "cell_type": "code",
   "execution_count": 1,
   "id": "0887f9d6",
   "metadata": {},
   "outputs": [],
   "source": [
    "import pandas as pd\n",
    "import matplotlib.pyplot as plt\n",
    "import seaborn as sns\n",
    "from sklearn.model_selection import train_test_split\n",
    "from sklearn.preprocessing import StandardScaler\n",
    "from sklearn.neighbors import KNeighborsClassifier\n",
    "from sklearn.metrics import accuracy_score\n",
    "import math"
   ]
  },
  {
   "cell_type": "code",
   "execution_count": 2,
   "id": "708499c0",
   "metadata": {},
   "outputs": [
    {
     "data": {
      "text/html": [
       "<div>\n",
       "<style scoped>\n",
       "    .dataframe tbody tr th:only-of-type {\n",
       "        vertical-align: middle;\n",
       "    }\n",
       "\n",
       "    .dataframe tbody tr th {\n",
       "        vertical-align: top;\n",
       "    }\n",
       "\n",
       "    .dataframe thead th {\n",
       "        text-align: right;\n",
       "    }\n",
       "</style>\n",
       "<table border=\"1\" class=\"dataframe\">\n",
       "  <thead>\n",
       "    <tr style=\"text-align: right;\">\n",
       "      <th></th>\n",
       "      <th>serie</th>\n",
       "      <th>cpu_manufacturer</th>\n",
       "      <th>core</th>\n",
       "      <th>cpu_frequency</th>\n",
       "      <th>cpu_series</th>\n",
       "      <th>memory_size</th>\n",
       "      <th>memory_type</th>\n",
       "      <th>RAM</th>\n",
       "      <th>resolution</th>\n",
       "      <th>matrix_type</th>\n",
       "      <th>videocard</th>\n",
       "      <th>weight</th>\n",
       "      <th>laptop_class</th>\n",
       "      <th>prices</th>\n",
       "    </tr>\n",
       "  </thead>\n",
       "  <tbody>\n",
       "    <tr>\n",
       "      <th>0</th>\n",
       "      <td>Asus TUF Gaming F15</td>\n",
       "      <td>Intel</td>\n",
       "      <td>6.0</td>\n",
       "      <td>2.6</td>\n",
       "      <td>Intel Core i5</td>\n",
       "      <td>512.0</td>\n",
       "      <td>SSD</td>\n",
       "      <td>16.0</td>\n",
       "      <td>1920x1080 Full HD</td>\n",
       "      <td>IPS</td>\n",
       "      <td>NGF RTX3050</td>\n",
       "      <td>2.30</td>\n",
       "      <td>Gaming</td>\n",
       "      <td>579990</td>\n",
       "    </tr>\n",
       "    <tr>\n",
       "      <th>1</th>\n",
       "      <td>Huawei HUAWEI MateBook D15</td>\n",
       "      <td>Intel</td>\n",
       "      <td>2.0</td>\n",
       "      <td>3.0</td>\n",
       "      <td>Intel Core i3</td>\n",
       "      <td>256.0</td>\n",
       "      <td>SSD</td>\n",
       "      <td>8.0</td>\n",
       "      <td>1920x1080 Full HD</td>\n",
       "      <td>IPS</td>\n",
       "      <td>Integrated</td>\n",
       "      <td>1.62</td>\n",
       "      <td>Non-gaming</td>\n",
       "      <td>299990</td>\n",
       "    </tr>\n",
       "    <tr>\n",
       "      <th>2</th>\n",
       "      <td>Asus X515JA</td>\n",
       "      <td>Intel</td>\n",
       "      <td>4.0</td>\n",
       "      <td>1.0</td>\n",
       "      <td>Intel Core i5</td>\n",
       "      <td>512.0</td>\n",
       "      <td>SSD</td>\n",
       "      <td>8.0</td>\n",
       "      <td>1920x1080 Full HD</td>\n",
       "      <td>IPS</td>\n",
       "      <td>Integrated</td>\n",
       "      <td>1.80</td>\n",
       "      <td>Non-gaming</td>\n",
       "      <td>299990</td>\n",
       "    </tr>\n",
       "    <tr>\n",
       "      <th>3</th>\n",
       "      <td>Asus X515JA</td>\n",
       "      <td>Intel</td>\n",
       "      <td>2.0</td>\n",
       "      <td>1.2</td>\n",
       "      <td>Intel Core i3</td>\n",
       "      <td>256.0</td>\n",
       "      <td>SSD</td>\n",
       "      <td>8.0</td>\n",
       "      <td>1920x1080 Full HD</td>\n",
       "      <td>IPS</td>\n",
       "      <td>Integrated</td>\n",
       "      <td>1.80</td>\n",
       "      <td>Non-gaming</td>\n",
       "      <td>219990</td>\n",
       "    </tr>\n",
       "    <tr>\n",
       "      <th>4</th>\n",
       "      <td>Asus TUF Gaming F15</td>\n",
       "      <td>Intel</td>\n",
       "      <td>4.0</td>\n",
       "      <td>2.5</td>\n",
       "      <td>Intel Core i5</td>\n",
       "      <td>512.0</td>\n",
       "      <td>SSD</td>\n",
       "      <td>16.0</td>\n",
       "      <td>1920x1080 Full HD</td>\n",
       "      <td>IPS</td>\n",
       "      <td>NGF GTX 1650</td>\n",
       "      <td>2.30</td>\n",
       "      <td>Gaming</td>\n",
       "      <td>489990</td>\n",
       "    </tr>\n",
       "    <tr>\n",
       "      <th>...</th>\n",
       "      <td>...</td>\n",
       "      <td>...</td>\n",
       "      <td>...</td>\n",
       "      <td>...</td>\n",
       "      <td>...</td>\n",
       "      <td>...</td>\n",
       "      <td>...</td>\n",
       "      <td>...</td>\n",
       "      <td>...</td>\n",
       "      <td>...</td>\n",
       "      <td>...</td>\n",
       "      <td>...</td>\n",
       "      <td>...</td>\n",
       "      <td>...</td>\n",
       "    </tr>\n",
       "    <tr>\n",
       "      <th>92</th>\n",
       "      <td>Gigabyte U4 UD</td>\n",
       "      <td>Intel</td>\n",
       "      <td>4.0</td>\n",
       "      <td>2.5</td>\n",
       "      <td>Intel Core i7</td>\n",
       "      <td>512.0</td>\n",
       "      <td>SSD</td>\n",
       "      <td>16.0</td>\n",
       "      <td>1920x1080 Full HD</td>\n",
       "      <td>IPS</td>\n",
       "      <td>Integrated</td>\n",
       "      <td>1.00</td>\n",
       "      <td>Non-gaming</td>\n",
       "      <td>476390</td>\n",
       "    </tr>\n",
       "    <tr>\n",
       "      <th>93</th>\n",
       "      <td>Gigabyte AERO 16 KE5</td>\n",
       "      <td>Intel</td>\n",
       "      <td>14.0</td>\n",
       "      <td>2.3</td>\n",
       "      <td>Intel Core i7</td>\n",
       "      <td>1000.0</td>\n",
       "      <td>SSD</td>\n",
       "      <td>16.0</td>\n",
       "      <td>3840x2400 WQUXGA</td>\n",
       "      <td>IPS</td>\n",
       "      <td>NGF RTX 3060</td>\n",
       "      <td>1.80</td>\n",
       "      <td>Gaming</td>\n",
       "      <td>1317890</td>\n",
       "    </tr>\n",
       "    <tr>\n",
       "      <th>94</th>\n",
       "      <td>Gigabyte G7 KE</td>\n",
       "      <td>Intel</td>\n",
       "      <td>6.0</td>\n",
       "      <td>2.5</td>\n",
       "      <td>Intel Core i5</td>\n",
       "      <td>512.0</td>\n",
       "      <td>SSD</td>\n",
       "      <td>16.0</td>\n",
       "      <td>1920x1080 Full HD</td>\n",
       "      <td>IPS</td>\n",
       "      <td>NGF RTX 3060P</td>\n",
       "      <td>2.40</td>\n",
       "      <td>Gaming</td>\n",
       "      <td>649490</td>\n",
       "    </tr>\n",
       "    <tr>\n",
       "      <th>95</th>\n",
       "      <td>Gigabyte G7 KE</td>\n",
       "      <td>Intel</td>\n",
       "      <td>12.0</td>\n",
       "      <td>2.5</td>\n",
       "      <td>Intel Core i5</td>\n",
       "      <td>512.0</td>\n",
       "      <td>SSD</td>\n",
       "      <td>16.0</td>\n",
       "      <td>1920x1080 Full HD</td>\n",
       "      <td>IPS</td>\n",
       "      <td>NGF RTX 3060P</td>\n",
       "      <td>2.40</td>\n",
       "      <td>Gaming</td>\n",
       "      <td>719490</td>\n",
       "    </tr>\n",
       "    <tr>\n",
       "      <th>96</th>\n",
       "      <td>Gigabyte G7 ME</td>\n",
       "      <td>Intel</td>\n",
       "      <td>12.0</td>\n",
       "      <td>2.5</td>\n",
       "      <td>Intel Core i5</td>\n",
       "      <td>512.0</td>\n",
       "      <td>SSD</td>\n",
       "      <td>16.0</td>\n",
       "      <td>1920x1080 Full HD</td>\n",
       "      <td>IPS</td>\n",
       "      <td>NGF RTX 3050 Ti</td>\n",
       "      <td>2.50</td>\n",
       "      <td>Gaming</td>\n",
       "      <td>654490</td>\n",
       "    </tr>\n",
       "  </tbody>\n",
       "</table>\n",
       "<p>97 rows × 14 columns</p>\n",
       "</div>"
      ],
      "text/plain": [
       "                         serie cpu_manufacturer  core  cpu_frequency  \\\n",
       "0          Asus TUF Gaming F15            Intel   6.0            2.6   \n",
       "1   Huawei HUAWEI MateBook D15            Intel   2.0            3.0   \n",
       "2                  Asus X515JA            Intel   4.0            1.0   \n",
       "3                  Asus X515JA            Intel   2.0            1.2   \n",
       "4          Asus TUF Gaming F15            Intel   4.0            2.5   \n",
       "..                         ...              ...   ...            ...   \n",
       "92              Gigabyte U4 UD            Intel   4.0            2.5   \n",
       "93        Gigabyte AERO 16 KE5            Intel  14.0            2.3   \n",
       "94              Gigabyte G7 KE            Intel   6.0            2.5   \n",
       "95              Gigabyte G7 KE            Intel  12.0            2.5   \n",
       "96              Gigabyte G7 ME            Intel  12.0            2.5   \n",
       "\n",
       "       cpu_series  memory_size memory_type   RAM         resolution  \\\n",
       "0   Intel Core i5        512.0         SSD  16.0  1920x1080 Full HD   \n",
       "1   Intel Core i3        256.0         SSD   8.0  1920x1080 Full HD   \n",
       "2   Intel Core i5        512.0         SSD   8.0  1920x1080 Full HD   \n",
       "3   Intel Core i3        256.0         SSD   8.0  1920x1080 Full HD   \n",
       "4   Intel Core i5        512.0         SSD  16.0  1920x1080 Full HD   \n",
       "..            ...          ...         ...   ...                ...   \n",
       "92  Intel Core i7        512.0         SSD  16.0  1920x1080 Full HD   \n",
       "93  Intel Core i7       1000.0         SSD  16.0   3840x2400 WQUXGA   \n",
       "94  Intel Core i5        512.0         SSD  16.0  1920x1080 Full HD   \n",
       "95  Intel Core i5        512.0         SSD  16.0  1920x1080 Full HD   \n",
       "96  Intel Core i5        512.0         SSD  16.0  1920x1080 Full HD   \n",
       "\n",
       "   matrix_type        videocard  weight laptop_class   prices  \n",
       "0          IPS      NGF RTX3050    2.30       Gaming   579990  \n",
       "1          IPS       Integrated    1.62   Non-gaming   299990  \n",
       "2          IPS       Integrated    1.80   Non-gaming   299990  \n",
       "3          IPS       Integrated    1.80   Non-gaming   219990  \n",
       "4          IPS     NGF GTX 1650    2.30       Gaming   489990  \n",
       "..         ...              ...     ...          ...      ...  \n",
       "92         IPS       Integrated    1.00   Non-gaming   476390  \n",
       "93         IPS     NGF RTX 3060    1.80       Gaming  1317890  \n",
       "94         IPS    NGF RTX 3060P    2.40       Gaming   649490  \n",
       "95         IPS    NGF RTX 3060P    2.40       Gaming   719490  \n",
       "96         IPS  NGF RTX 3050 Ti    2.50       Gaming   654490  \n",
       "\n",
       "[97 rows x 14 columns]"
      ]
     },
     "execution_count": 2,
     "metadata": {},
     "output_type": "execute_result"
    }
   ],
   "source": [
    "#Disable SettingsSettingWithCopyWarning:  A value is trying to be set on a copy of a slice from a DataFrame\n",
    "pd.options.mode.chained_assignment = None  # default='warn'\n",
    "\n",
    "df = pd.read_csv('cleaned_data.csv', index_col=0)\n",
    "df\n"
   ]
  },
  {
   "cell_type": "code",
   "execution_count": 3,
   "id": "6511f778",
   "metadata": {},
   "outputs": [],
   "source": [
    "#We have a lot of categorical variables like in cpu_manufacturer, cpu_series, memory type\n",
    "# Resolution, matrix_type6 videocard\n",
    "\n",
    "#We will use KNN algorithm for classification and we will need 2 features\n",
    "\n",
    "#Let's take features like videocard and core numbers\n",
    "\n",
    "#First we need to change categorical variables to numeric\n",
    "\n",
    "from sklearn.preprocessing import LabelEncoder\n",
    "\n",
    "df_copy = df.copy()\n",
    "le = LabelEncoder()\n",
    "\n",
    "# df['name'] = le.fit_transform(df['name'].values)\n",
    "df_copy['videocard'] = le.fit_transform(df['videocard'].values)\n",
    "df_copy['cpu_manufacturer'] = le.fit_transform(df['cpu_manufacturer'].values)\n",
    "df_copy['cpu_series'] = le.fit_transform(df['cpu_series'].values)\n",
    "df_copy['memory_type'] = le.fit_transform(df['memory_type'].values)\n",
    "df_copy['resolution'] = le.fit_transform(df['resolution'].values)\n",
    "df_copy['matrix_type'] = le.fit_transform(df['matrix_type'].values)"
   ]
  },
  {
   "cell_type": "code",
   "execution_count": 6,
   "id": "efd1f4f7",
   "metadata": {},
   "outputs": [],
   "source": [
    "\n",
    "def make_classification(features_1, features_2, show_plot, df_):\n",
    "    \n",
    "    features_df = df_[[features_1, features_2, 'laptop_class']]\n",
    "    \n",
    "    if show_plot == True:\n",
    "        features_df.plot(kind='scatter', x=features_1, y=features_2, s=30)\n",
    "        plt.show()\n",
    "    \n",
    "        sns.FacetGrid(features_df, hue=\"laptop_class\", height=5).map(plt.scatter, features_1, features_2).add_legend()\n",
    "        plt.show()\n",
    "    \n",
    "    #Splitting our data for testing and training\n",
    "\n",
    "    #For X values we don't need a species, because it is an answer\n",
    "    X = features_df.iloc[:, 0:2]\n",
    "\n",
    "\n",
    "    #For y we need only answers\n",
    "    y = features_df.iloc[:, 2]\n",
    "    \n",
    "\n",
    "    X_train, X_test, y_train, y_test = train_test_split(X, y, test_size=0.3)\n",
    "    \n",
    "    stand_Sc = StandardScaler()\n",
    "    X_train = stand_Sc.fit_transform(X_train)\n",
    "    X_test = stand_Sc.transform(X_test)\n",
    "    \n",
    "    root = round(math.sqrt(len(y_test)))\n",
    "    if root % 2 == 0:\n",
    "        root += 1\n",
    "    \n",
    "    classifier = KNeighborsClassifier(n_neighbors=root, p=2, metric='euclidean')\n",
    "    classifier.fit(X_train, y_train)\n",
    "    \n",
    "    y_pred = classifier.predict(X_test)\n",
    "    \n",
    "    fraction = accuracy_score(y_test, y_pred)\n",
    "    if show_plot == True:\n",
    "        print('Number of test cases:', len(y_test))\n",
    "        print('Number of correct answers:', accuracy_score(y_test, y_pred, normalize=False))\n",
    "\n",
    "        print('Fraction:', fraction)\n",
    "    \n",
    "    return fraction"
   ]
  },
  {
   "cell_type": "code",
   "execution_count": 9,
   "id": "8b7adc23",
   "metadata": {},
   "outputs": [
    {
     "data": {
      "image/png": "[encoded data removed]",
      "text/plain": [
       "<Figure size 432x288 with 1 Axes>"
      ]
     },
     "metadata": {
      "needs_background": "light"
     },
     "output_type": "display_data"
    },
    {
     "data": {
      "image/png": "[encoded data removed]",
      "text/plain": [
       "<Figure size 457.25x360 with 1 Axes>"
      ]
     },
     "metadata": {
      "needs_background": "light"
     },
     "output_type": "display_data"
    },
    {
     "name": "stdout",
     "output_type": "stream",
     "text": [
      "Number of test cases: 30\n",
      "Number of correct answers: 23\n",
      "Fraction: 0.7666666666666667\n"
     ]
    },
    {
     "data": {
      "text/plain": [
       "0.7666666666666667"
      ]
     },
     "execution_count": 9,
     "metadata": {},
     "output_type": "execute_result"
    }
   ],
   "source": [
    "make_classification('videocard', 'RAM', True, df_copy)"
   ]
  },
  {
   "cell_type": "code",
   "execution_count": 10,
   "id": "a6bdd471",
   "metadata": {},
   "outputs": [
    {
     "data": {
      "image/png": "[encoded data removed]",
      "text/plain": [
       "<Figure size 432x288 with 1 Axes>"
      ]
     },
     "metadata": {
      "needs_background": "light"
     },
     "output_type": "display_data"
    },
    {
     "data": {
      "image/png": "[encoded data removed]",
      "text/plain": [
       "<Figure size 457.25x360 with 1 Axes>"
      ]
     },
     "metadata": {
      "needs_background": "light"
     },
     "output_type": "display_data"
    },
    {
     "name": "stdout",
     "output_type": "stream",
     "text": [
      "Number of test cases: 30\n",
      "Number of correct answers: 29\n",
      "Fraction: 0.9666666666666667\n"
     ]
    },
    {
     "data": {
      "text/plain": [
       "0.9666666666666667"
      ]
     },
     "execution_count": 10,
     "metadata": {},
     "output_type": "execute_result"
    }
   ],
   "source": [
    "make_classification('videocard', 'cpu_frequency', True, df_copy)"
   ]
  },
  {
   "cell_type": "code",
   "execution_count": 11,
   "id": "8c57f56a",
   "metadata": {},
   "outputs": [
    {
     "data": {
      "image/png": "[encoded data removed]",
      "text/plain": [
       "<Figure size 432x288 with 1 Axes>"
      ]
     },
     "metadata": {
      "needs_background": "light"
     },
     "output_type": "display_data"
    },
    {
     "data": {
      "image/png": "[encoded data removed]",
      "text/plain": [
       "<Figure size 457.25x360 with 1 Axes>"
      ]
     },
     "metadata": {
      "needs_background": "light"
     },
     "output_type": "display_data"
    },
    {
     "name": "stdout",
     "output_type": "stream",
     "text": [
      "Number of test cases: 30\n",
      "Number of correct answers: 27\n",
      "Fraction: 0.9\n"
     ]
    },
    {
     "data": {
      "text/plain": [
       "0.9"
      ]
     },
     "execution_count": 11,
     "metadata": {},
     "output_type": "execute_result"
    }
   ],
   "source": [
    "make_classification('videocard', 'cpu_series', True, df_copy)"
   ]
  },
  {
   "cell_type": "code",
   "execution_count": 12,
   "id": "96a08462",
   "metadata": {},
   "outputs": [
    {
     "data": {
      "image/png": "[encoded data removed]",
      "text/plain": [
       "<Figure size 432x288 with 1 Axes>"
      ]
     },
     "metadata": {
      "needs_background": "light"
     },
     "output_type": "display_data"
    },
    {
     "data": {
      "image/png": "[encoded data removed]",
      "text/plain": [
       "<Figure size 457.25x360 with 1 Axes>"
      ]
     },
     "metadata": {
      "needs_background": "light"
     },
     "output_type": "display_data"
    },
    {
     "name": "stdout",
     "output_type": "stream",
     "text": [
      "Number of test cases: 30\n",
      "Number of correct answers: 27\n",
      "Fraction: 0.9\n"
     ]
    },
    {
     "data": {
      "text/plain": [
       "0.9"
      ]
     },
     "execution_count": 12,
     "metadata": {},
     "output_type": "execute_result"
    }
   ],
   "source": [
    "make_classification('videocard', 'core', True, df_copy)"
   ]
  },
  {
   "cell_type": "code",
   "execution_count": 13,
   "id": "0fc9e85b",
   "metadata": {},
   "outputs": [
    {
     "data": {
      "image/png": "[encoded data removed]",
      "text/plain": [
       "<Figure size 432x288 with 1 Axes>"
      ]
     },
     "metadata": {
      "needs_background": "light"
     },
     "output_type": "display_data"
    },
    {
     "data": {
      "image/png": "[encoded data removed]",
      "text/plain": [
       "<Figure size 457.25x360 with 1 Axes>"
      ]
     },
     "metadata": {
      "needs_background": "light"
     },
     "output_type": "display_data"
    },
    {
     "name": "stdout",
     "output_type": "stream",
     "text": [
      "Number of test cases: 30\n",
      "Number of correct answers: 21\n",
      "Fraction: 0.7\n"
     ]
    },
    {
     "data": {
      "text/plain": [
       "0.7"
      ]
     },
     "execution_count": 13,
     "metadata": {},
     "output_type": "execute_result"
    }
   ],
   "source": [
    "make_classification('core', 'cpu_series', True, df_copy)"
   ]
  },
  {
   "cell_type": "code",
   "execution_count": 15,
   "id": "5c324ac5",
   "metadata": {},
   "outputs": [
    {
     "data": {
      "image/png": "[encoded data removed]",
      "text/plain": [
       "<Figure size 432x288 with 1 Axes>"
      ]
     },
     "metadata": {
      "needs_background": "light"
     },
     "output_type": "display_data"
    },
    {
     "data": {
      "image/png": "[encoded data removed]",
      "text/plain": [
       "<Figure size 457.25x360 with 1 Axes>"
      ]
     },
     "metadata": {
      "needs_background": "light"
     },
     "output_type": "display_data"
    },
    {
     "name": "stdout",
     "output_type": "stream",
     "text": [
      "Number of test cases: 30\n",
      "Number of correct answers: 21\n",
      "Fraction: 0.7\n"
     ]
    },
    {
     "data": {
      "text/plain": [
       "0.7"
      ]
     },
     "execution_count": 15,
     "metadata": {},
     "output_type": "execute_result"
    }
   ],
   "source": [
    "make_classification('RAM', 'core', True, df_copy)"
   ]
  },
  {
   "cell_type": "code",
   "execution_count": 16,
   "id": "4a361323",
   "metadata": {},
   "outputs": [
    {
     "data": {
      "image/png": "[encoded data removed]",
      "text/plain": [
       "<Figure size 432x288 with 1 Axes>"
      ]
     },
     "metadata": {
      "needs_background": "light"
     },
     "output_type": "display_data"
    },
    {
     "data": {
      "image/png": "[encoded data removed]",
      "text/plain": [
       "<Figure size 457.25x360 with 1 Axes>"
      ]
     },
     "metadata": {
      "needs_background": "light"
     },
     "output_type": "display_data"
    },
    {
     "name": "stdout",
     "output_type": "stream",
     "text": [
      "Number of test cases: 30\n",
      "Number of correct answers: 23\n",
      "Fraction: 0.7666666666666667\n"
     ]
    },
    {
     "data": {
      "text/plain": [
       "0.7666666666666667"
      ]
     },
     "execution_count": 16,
     "metadata": {},
     "output_type": "execute_result"
    }
   ],
   "source": [
    "#Let's now take number of classifications and find average\n",
    "make_classification('cpu_frequency', 'core', True, df_copy)"
   ]
  },
  {
   "cell_type": "code",
   "execution_count": 17,
   "id": "e5cc9d7c",
   "metadata": {},
   "outputs": [
    {
     "data": {
      "image/png": "[encoded data removed]",
      "text/plain": [
       "<Figure size 432x288 with 1 Axes>"
      ]
     },
     "metadata": {
      "needs_background": "light"
     },
     "output_type": "display_data"
    },
    {
     "data": {
      "image/png": "[encoded data removed]",
      "text/plain": [
       "<Figure size 457.25x360 with 1 Axes>"
      ]
     },
     "metadata": {
      "needs_background": "light"
     },
     "output_type": "display_data"
    },
    {
     "name": "stdout",
     "output_type": "stream",
     "text": [
      "Number of test cases: 30\n",
      "Number of correct answers: 23\n",
      "Fraction: 0.7666666666666667\n"
     ]
    },
    {
     "data": {
      "text/plain": [
       "0.7666666666666667"
      ]
     },
     "execution_count": 17,
     "metadata": {},
     "output_type": "execute_result"
    }
   ],
   "source": [
    "make_classification('cpu_frequency', 'RAM', True, df_copy)"
   ]
  },
  {
   "cell_type": "code",
   "execution_count": 18,
   "id": "edfb19e8",
   "metadata": {},
   "outputs": [
    {
     "data": {
      "image/png": "[encoded data removed]",
      "text/plain": [
       "<Figure size 432x288 with 1 Axes>"
      ]
     },
     "metadata": {
      "needs_background": "light"
     },
     "output_type": "display_data"
    },
    {
     "data": {
      "image/png": "[encoded data removed]",
      "text/plain": [
       "<Figure size 457.25x360 with 1 Axes>"
      ]
     },
     "metadata": {
      "needs_background": "light"
     },
     "output_type": "display_data"
    },
    {
     "name": "stdout",
     "output_type": "stream",
     "text": [
      "Number of test cases: 30\n",
      "Number of correct answers: 18\n",
      "Fraction: 0.6\n"
     ]
    },
    {
     "data": {
      "text/plain": [
       "0.6"
      ]
     },
     "execution_count": 18,
     "metadata": {},
     "output_type": "execute_result"
    }
   ],
   "source": [
    "make_classification('cpu_frequency', 'cpu_series', True, df_copy)"
   ]
  },
  {
   "cell_type": "code",
   "execution_count": 19,
   "id": "e19e7d2e",
   "metadata": {},
   "outputs": [
    {
     "name": "stdout",
     "output_type": "stream",
     "text": [
      "Features: Videocard and RAM 0.7503333333333332\n",
      "Features: Videocard and CPU frequency 0.8826666666666668\n",
      "Features: Videocard and CPU series 0.8903333333333336\n",
      "Features: Videocard and Cores 0.863333333333333\n",
      "Features: CPU series and Cores 0.7403333333333335\n",
      "Features: RAM series and Cores 0.7116666666666669\n",
      "Features: CPU frequency series and Cores 0.805333333333333\n",
      "Features: CPU frequency series and RAM 0.7310000000000001\n",
      "Features: CPU frequency series and CPU series 0.7260000000000002\n"
     ]
    }
   ],
   "source": [
    "videocard_ram_class = []\n",
    "videocard_frequency_class = []\n",
    "videocard_series_class = []\n",
    "videocard_core_class = []\n",
    "\n",
    "series_core_class = []\n",
    "ram_core_class = []\n",
    "frequency_core_class = []\n",
    "frequency_ram_class = []\n",
    "frequency_series_class = []\n",
    "\n",
    "def find_average(lst):\n",
    "    sum = 0\n",
    "    \n",
    "    for num in lst:\n",
    "        sum += num\n",
    "    \n",
    "    return sum / len(lst)\n",
    "\n",
    "\n",
    "for i in range(100):\n",
    "    videocard_ram_class.append(make_classification('videocard', 'RAM', False, df_copy))\n",
    "    videocard_frequency_class.append(make_classification('videocard', 'cpu_frequency', False, df_copy))\n",
    "    videocard_series_class.append(make_classification('videocard', 'cpu_series', False, df_copy))\n",
    "    videocard_core_class.append(make_classification('videocard', 'core', False, df_copy))\n",
    "    series_core_class.append(make_classification('cpu_series', 'core', False, df_copy))\n",
    "    ram_core_class.append(make_classification('RAM', 'core', False, df_copy))\n",
    "    frequency_core_class.append(make_classification('cpu_frequency', 'core', False, df_copy))\n",
    "    frequency_ram_class.append(make_classification('cpu_frequency', 'RAM', False, df_copy))\n",
    "    frequency_series_class.append(make_classification('cpu_frequency', 'cpu_series', False, df_copy))\n",
    "    \n",
    "print('Features: Videocard and RAM', find_average(videocard_ram_class))\n",
    "print('Features: Videocard and CPU frequency', find_average(videocard_frequency_class))\n",
    "print('Features: Videocard and CPU series', find_average(videocard_series_class))\n",
    "print('Features: Videocard and Cores', find_average(videocard_core_class))\n",
    "\n",
    "print('Features: CPU series and Cores', find_average(series_core_class))\n",
    "print('Features: RAM series and Cores', find_average(ram_core_class))\n",
    "print('Features: CPU frequency series and Cores', find_average(frequency_core_class))\n",
    "print('Features: CPU frequency series and RAM', find_average(frequency_ram_class))\n",
    "print('Features: CPU frequency series and CPU series', find_average(frequency_series_class))\n"
   ]
  },
  {
   "cell_type": "code",
   "execution_count": 20,
   "id": "c7dd66ab",
   "metadata": {},
   "outputs": [],
   "source": [
    "#We found that CPU characteristic + Videocard gives us the most accurate results"
   ]
  },
  {
   "cell_type": "code",
   "execution_count": 21,
   "id": "79ef6e31",
   "metadata": {},
   "outputs": [],
   "source": [
    "# Let's make another test. We will divide videocards to integrated and discrete\n",
    "# Laptops with NGF RTX3050, NGF GTX 1650 and etc. are laptops with discrete videocards"
   ]
  },
  {
   "cell_type": "code",
   "execution_count": 22,
   "id": "0f5a57cf",
   "metadata": {},
   "outputs": [
    {
     "data": {
      "text/html": [
       "<div>\n",
       "<style scoped>\n",
       "    .dataframe tbody tr th:only-of-type {\n",
       "        vertical-align: middle;\n",
       "    }\n",
       "\n",
       "    .dataframe tbody tr th {\n",
       "        vertical-align: top;\n",
       "    }\n",
       "\n",
       "    .dataframe thead th {\n",
       "        text-align: right;\n",
       "    }\n",
       "</style>\n",
       "<table border=\"1\" class=\"dataframe\">\n",
       "  <thead>\n",
       "    <tr style=\"text-align: right;\">\n",
       "      <th></th>\n",
       "      <th>serie</th>\n",
       "      <th>cpu_manufacturer</th>\n",
       "      <th>core</th>\n",
       "      <th>cpu_frequency</th>\n",
       "      <th>cpu_series</th>\n",
       "      <th>memory_size</th>\n",
       "      <th>memory_type</th>\n",
       "      <th>RAM</th>\n",
       "      <th>resolution</th>\n",
       "      <th>matrix_type</th>\n",
       "      <th>videocard</th>\n",
       "      <th>weight</th>\n",
       "      <th>laptop_class</th>\n",
       "      <th>prices</th>\n",
       "    </tr>\n",
       "  </thead>\n",
       "  <tbody>\n",
       "    <tr>\n",
       "      <th>0</th>\n",
       "      <td>Asus TUF Gaming F15</td>\n",
       "      <td>Intel</td>\n",
       "      <td>6.0</td>\n",
       "      <td>2.6</td>\n",
       "      <td>Intel Core i5</td>\n",
       "      <td>512.0</td>\n",
       "      <td>SSD</td>\n",
       "      <td>16.0</td>\n",
       "      <td>1920x1080 Full HD</td>\n",
       "      <td>IPS</td>\n",
       "      <td>NGF RTX3050</td>\n",
       "      <td>2.30</td>\n",
       "      <td>Gaming</td>\n",
       "      <td>579990</td>\n",
       "    </tr>\n",
       "    <tr>\n",
       "      <th>1</th>\n",
       "      <td>Huawei HUAWEI MateBook D15</td>\n",
       "      <td>Intel</td>\n",
       "      <td>2.0</td>\n",
       "      <td>3.0</td>\n",
       "      <td>Intel Core i3</td>\n",
       "      <td>256.0</td>\n",
       "      <td>SSD</td>\n",
       "      <td>8.0</td>\n",
       "      <td>1920x1080 Full HD</td>\n",
       "      <td>IPS</td>\n",
       "      <td>Integrated</td>\n",
       "      <td>1.62</td>\n",
       "      <td>Non-gaming</td>\n",
       "      <td>299990</td>\n",
       "    </tr>\n",
       "    <tr>\n",
       "      <th>2</th>\n",
       "      <td>Asus X515JA</td>\n",
       "      <td>Intel</td>\n",
       "      <td>4.0</td>\n",
       "      <td>1.0</td>\n",
       "      <td>Intel Core i5</td>\n",
       "      <td>512.0</td>\n",
       "      <td>SSD</td>\n",
       "      <td>8.0</td>\n",
       "      <td>1920x1080 Full HD</td>\n",
       "      <td>IPS</td>\n",
       "      <td>Integrated</td>\n",
       "      <td>1.80</td>\n",
       "      <td>Non-gaming</td>\n",
       "      <td>299990</td>\n",
       "    </tr>\n",
       "    <tr>\n",
       "      <th>3</th>\n",
       "      <td>Asus X515JA</td>\n",
       "      <td>Intel</td>\n",
       "      <td>2.0</td>\n",
       "      <td>1.2</td>\n",
       "      <td>Intel Core i3</td>\n",
       "      <td>256.0</td>\n",
       "      <td>SSD</td>\n",
       "      <td>8.0</td>\n",
       "      <td>1920x1080 Full HD</td>\n",
       "      <td>IPS</td>\n",
       "      <td>Integrated</td>\n",
       "      <td>1.80</td>\n",
       "      <td>Non-gaming</td>\n",
       "      <td>219990</td>\n",
       "    </tr>\n",
       "    <tr>\n",
       "      <th>4</th>\n",
       "      <td>Asus TUF Gaming F15</td>\n",
       "      <td>Intel</td>\n",
       "      <td>4.0</td>\n",
       "      <td>2.5</td>\n",
       "      <td>Intel Core i5</td>\n",
       "      <td>512.0</td>\n",
       "      <td>SSD</td>\n",
       "      <td>16.0</td>\n",
       "      <td>1920x1080 Full HD</td>\n",
       "      <td>IPS</td>\n",
       "      <td>NGF GTX 1650</td>\n",
       "      <td>2.30</td>\n",
       "      <td>Gaming</td>\n",
       "      <td>489990</td>\n",
       "    </tr>\n",
       "    <tr>\n",
       "      <th>...</th>\n",
       "      <td>...</td>\n",
       "      <td>...</td>\n",
       "      <td>...</td>\n",
       "      <td>...</td>\n",
       "      <td>...</td>\n",
       "      <td>...</td>\n",
       "      <td>...</td>\n",
       "      <td>...</td>\n",
       "      <td>...</td>\n",
       "      <td>...</td>\n",
       "      <td>...</td>\n",
       "      <td>...</td>\n",
       "      <td>...</td>\n",
       "      <td>...</td>\n",
       "    </tr>\n",
       "    <tr>\n",
       "      <th>92</th>\n",
       "      <td>Gigabyte U4 UD</td>\n",
       "      <td>Intel</td>\n",
       "      <td>4.0</td>\n",
       "      <td>2.5</td>\n",
       "      <td>Intel Core i7</td>\n",
       "      <td>512.0</td>\n",
       "      <td>SSD</td>\n",
       "      <td>16.0</td>\n",
       "      <td>1920x1080 Full HD</td>\n",
       "      <td>IPS</td>\n",
       "      <td>Integrated</td>\n",
       "      <td>1.00</td>\n",
       "      <td>Non-gaming</td>\n",
       "      <td>476390</td>\n",
       "    </tr>\n",
       "    <tr>\n",
       "      <th>93</th>\n",
       "      <td>Gigabyte AERO 16 KE5</td>\n",
       "      <td>Intel</td>\n",
       "      <td>14.0</td>\n",
       "      <td>2.3</td>\n",
       "      <td>Intel Core i7</td>\n",
       "      <td>1000.0</td>\n",
       "      <td>SSD</td>\n",
       "      <td>16.0</td>\n",
       "      <td>3840x2400 WQUXGA</td>\n",
       "      <td>IPS</td>\n",
       "      <td>NGF RTX 3060</td>\n",
       "      <td>1.80</td>\n",
       "      <td>Gaming</td>\n",
       "      <td>1317890</td>\n",
       "    </tr>\n",
       "    <tr>\n",
       "      <th>94</th>\n",
       "      <td>Gigabyte G7 KE</td>\n",
       "      <td>Intel</td>\n",
       "      <td>6.0</td>\n",
       "      <td>2.5</td>\n",
       "      <td>Intel Core i5</td>\n",
       "      <td>512.0</td>\n",
       "      <td>SSD</td>\n",
       "      <td>16.0</td>\n",
       "      <td>1920x1080 Full HD</td>\n",
       "      <td>IPS</td>\n",
       "      <td>NGF RTX 3060P</td>\n",
       "      <td>2.40</td>\n",
       "      <td>Gaming</td>\n",
       "      <td>649490</td>\n",
       "    </tr>\n",
       "    <tr>\n",
       "      <th>95</th>\n",
       "      <td>Gigabyte G7 KE</td>\n",
       "      <td>Intel</td>\n",
       "      <td>12.0</td>\n",
       "      <td>2.5</td>\n",
       "      <td>Intel Core i5</td>\n",
       "      <td>512.0</td>\n",
       "      <td>SSD</td>\n",
       "      <td>16.0</td>\n",
       "      <td>1920x1080 Full HD</td>\n",
       "      <td>IPS</td>\n",
       "      <td>NGF RTX 3060P</td>\n",
       "      <td>2.40</td>\n",
       "      <td>Gaming</td>\n",
       "      <td>719490</td>\n",
       "    </tr>\n",
       "    <tr>\n",
       "      <th>96</th>\n",
       "      <td>Gigabyte G7 ME</td>\n",
       "      <td>Intel</td>\n",
       "      <td>12.0</td>\n",
       "      <td>2.5</td>\n",
       "      <td>Intel Core i5</td>\n",
       "      <td>512.0</td>\n",
       "      <td>SSD</td>\n",
       "      <td>16.0</td>\n",
       "      <td>1920x1080 Full HD</td>\n",
       "      <td>IPS</td>\n",
       "      <td>NGF RTX 3050 Ti</td>\n",
       "      <td>2.50</td>\n",
       "      <td>Gaming</td>\n",
       "      <td>654490</td>\n",
       "    </tr>\n",
       "  </tbody>\n",
       "</table>\n",
       "<p>97 rows × 14 columns</p>\n",
       "</div>"
      ],
      "text/plain": [
       "                         serie cpu_manufacturer  core  cpu_frequency  \\\n",
       "0          Asus TUF Gaming F15            Intel   6.0            2.6   \n",
       "1   Huawei HUAWEI MateBook D15            Intel   2.0            3.0   \n",
       "2                  Asus X515JA            Intel   4.0            1.0   \n",
       "3                  Asus X515JA            Intel   2.0            1.2   \n",
       "4          Asus TUF Gaming F15            Intel   4.0            2.5   \n",
       "..                         ...              ...   ...            ...   \n",
       "92              Gigabyte U4 UD            Intel   4.0            2.5   \n",
       "93        Gigabyte AERO 16 KE5            Intel  14.0            2.3   \n",
       "94              Gigabyte G7 KE            Intel   6.0            2.5   \n",
       "95              Gigabyte G7 KE            Intel  12.0            2.5   \n",
       "96              Gigabyte G7 ME            Intel  12.0            2.5   \n",
       "\n",
       "       cpu_series  memory_size memory_type   RAM         resolution  \\\n",
       "0   Intel Core i5        512.0         SSD  16.0  1920x1080 Full HD   \n",
       "1   Intel Core i3        256.0         SSD   8.0  1920x1080 Full HD   \n",
       "2   Intel Core i5        512.0         SSD   8.0  1920x1080 Full HD   \n",
       "3   Intel Core i3        256.0         SSD   8.0  1920x1080 Full HD   \n",
       "4   Intel Core i5        512.0         SSD  16.0  1920x1080 Full HD   \n",
       "..            ...          ...         ...   ...                ...   \n",
       "92  Intel Core i7        512.0         SSD  16.0  1920x1080 Full HD   \n",
       "93  Intel Core i7       1000.0         SSD  16.0   3840x2400 WQUXGA   \n",
       "94  Intel Core i5        512.0         SSD  16.0  1920x1080 Full HD   \n",
       "95  Intel Core i5        512.0         SSD  16.0  1920x1080 Full HD   \n",
       "96  Intel Core i5        512.0         SSD  16.0  1920x1080 Full HD   \n",
       "\n",
       "   matrix_type        videocard  weight laptop_class   prices  \n",
       "0          IPS      NGF RTX3050    2.30       Gaming   579990  \n",
       "1          IPS       Integrated    1.62   Non-gaming   299990  \n",
       "2          IPS       Integrated    1.80   Non-gaming   299990  \n",
       "3          IPS       Integrated    1.80   Non-gaming   219990  \n",
       "4          IPS     NGF GTX 1650    2.30       Gaming   489990  \n",
       "..         ...              ...     ...          ...      ...  \n",
       "92         IPS       Integrated    1.00   Non-gaming   476390  \n",
       "93         IPS     NGF RTX 3060    1.80       Gaming  1317890  \n",
       "94         IPS    NGF RTX 3060P    2.40       Gaming   649490  \n",
       "95         IPS    NGF RTX 3060P    2.40       Gaming   719490  \n",
       "96         IPS  NGF RTX 3050 Ti    2.50       Gaming   654490  \n",
       "\n",
       "[97 rows x 14 columns]"
      ]
     },
     "execution_count": 22,
     "metadata": {},
     "output_type": "execute_result"
    }
   ],
   "source": [
    "df"
   ]
  },
  {
   "cell_type": "code",
   "execution_count": 23,
   "id": "ef9575f3",
   "metadata": {},
   "outputs": [
    {
     "data": {
      "text/html": [
       "<div>\n",
       "<style scoped>\n",
       "    .dataframe tbody tr th:only-of-type {\n",
       "        vertical-align: middle;\n",
       "    }\n",
       "\n",
       "    .dataframe tbody tr th {\n",
       "        vertical-align: top;\n",
       "    }\n",
       "\n",
       "    .dataframe thead th {\n",
       "        text-align: right;\n",
       "    }\n",
       "</style>\n",
       "<table border=\"1\" class=\"dataframe\">\n",
       "  <thead>\n",
       "    <tr style=\"text-align: right;\">\n",
       "      <th></th>\n",
       "      <th>serie</th>\n",
       "      <th>cpu_manufacturer</th>\n",
       "      <th>core</th>\n",
       "      <th>cpu_frequency</th>\n",
       "      <th>cpu_series</th>\n",
       "      <th>memory_size</th>\n",
       "      <th>memory_type</th>\n",
       "      <th>RAM</th>\n",
       "      <th>resolution</th>\n",
       "      <th>matrix_type</th>\n",
       "      <th>videocard</th>\n",
       "      <th>weight</th>\n",
       "      <th>laptop_class</th>\n",
       "      <th>prices</th>\n",
       "    </tr>\n",
       "  </thead>\n",
       "  <tbody>\n",
       "    <tr>\n",
       "      <th>0</th>\n",
       "      <td>Asus TUF Gaming F15</td>\n",
       "      <td>Intel</td>\n",
       "      <td>6.0</td>\n",
       "      <td>2.6</td>\n",
       "      <td>Intel Core i5</td>\n",
       "      <td>512.0</td>\n",
       "      <td>SSD</td>\n",
       "      <td>16.0</td>\n",
       "      <td>1920x1080 Full HD</td>\n",
       "      <td>IPS</td>\n",
       "      <td>Discrete</td>\n",
       "      <td>2.30</td>\n",
       "      <td>Gaming</td>\n",
       "      <td>579990</td>\n",
       "    </tr>\n",
       "    <tr>\n",
       "      <th>1</th>\n",
       "      <td>Huawei HUAWEI MateBook D15</td>\n",
       "      <td>Intel</td>\n",
       "      <td>2.0</td>\n",
       "      <td>3.0</td>\n",
       "      <td>Intel Core i3</td>\n",
       "      <td>256.0</td>\n",
       "      <td>SSD</td>\n",
       "      <td>8.0</td>\n",
       "      <td>1920x1080 Full HD</td>\n",
       "      <td>IPS</td>\n",
       "      <td>Integrated</td>\n",
       "      <td>1.62</td>\n",
       "      <td>Non-gaming</td>\n",
       "      <td>299990</td>\n",
       "    </tr>\n",
       "    <tr>\n",
       "      <th>2</th>\n",
       "      <td>Asus X515JA</td>\n",
       "      <td>Intel</td>\n",
       "      <td>4.0</td>\n",
       "      <td>1.0</td>\n",
       "      <td>Intel Core i5</td>\n",
       "      <td>512.0</td>\n",
       "      <td>SSD</td>\n",
       "      <td>8.0</td>\n",
       "      <td>1920x1080 Full HD</td>\n",
       "      <td>IPS</td>\n",
       "      <td>Integrated</td>\n",
       "      <td>1.80</td>\n",
       "      <td>Non-gaming</td>\n",
       "      <td>299990</td>\n",
       "    </tr>\n",
       "    <tr>\n",
       "      <th>3</th>\n",
       "      <td>Asus X515JA</td>\n",
       "      <td>Intel</td>\n",
       "      <td>2.0</td>\n",
       "      <td>1.2</td>\n",
       "      <td>Intel Core i3</td>\n",
       "      <td>256.0</td>\n",
       "      <td>SSD</td>\n",
       "      <td>8.0</td>\n",
       "      <td>1920x1080 Full HD</td>\n",
       "      <td>IPS</td>\n",
       "      <td>Integrated</td>\n",
       "      <td>1.80</td>\n",
       "      <td>Non-gaming</td>\n",
       "      <td>219990</td>\n",
       "    </tr>\n",
       "    <tr>\n",
       "      <th>4</th>\n",
       "      <td>Asus TUF Gaming F15</td>\n",
       "      <td>Intel</td>\n",
       "      <td>4.0</td>\n",
       "      <td>2.5</td>\n",
       "      <td>Intel Core i5</td>\n",
       "      <td>512.0</td>\n",
       "      <td>SSD</td>\n",
       "      <td>16.0</td>\n",
       "      <td>1920x1080 Full HD</td>\n",
       "      <td>IPS</td>\n",
       "      <td>Discrete</td>\n",
       "      <td>2.30</td>\n",
       "      <td>Gaming</td>\n",
       "      <td>489990</td>\n",
       "    </tr>\n",
       "    <tr>\n",
       "      <th>...</th>\n",
       "      <td>...</td>\n",
       "      <td>...</td>\n",
       "      <td>...</td>\n",
       "      <td>...</td>\n",
       "      <td>...</td>\n",
       "      <td>...</td>\n",
       "      <td>...</td>\n",
       "      <td>...</td>\n",
       "      <td>...</td>\n",
       "      <td>...</td>\n",
       "      <td>...</td>\n",
       "      <td>...</td>\n",
       "      <td>...</td>\n",
       "      <td>...</td>\n",
       "    </tr>\n",
       "    <tr>\n",
       "      <th>92</th>\n",
       "      <td>Gigabyte U4 UD</td>\n",
       "      <td>Intel</td>\n",
       "      <td>4.0</td>\n",
       "      <td>2.5</td>\n",
       "      <td>Intel Core i7</td>\n",
       "      <td>512.0</td>\n",
       "      <td>SSD</td>\n",
       "      <td>16.0</td>\n",
       "      <td>1920x1080 Full HD</td>\n",
       "      <td>IPS</td>\n",
       "      <td>Integrated</td>\n",
       "      <td>1.00</td>\n",
       "      <td>Non-gaming</td>\n",
       "      <td>476390</td>\n",
       "    </tr>\n",
       "    <tr>\n",
       "      <th>93</th>\n",
       "      <td>Gigabyte AERO 16 KE5</td>\n",
       "      <td>Intel</td>\n",
       "      <td>14.0</td>\n",
       "      <td>2.3</td>\n",
       "      <td>Intel Core i7</td>\n",
       "      <td>1000.0</td>\n",
       "      <td>SSD</td>\n",
       "      <td>16.0</td>\n",
       "      <td>3840x2400 WQUXGA</td>\n",
       "      <td>IPS</td>\n",
       "      <td>Discrete</td>\n",
       "      <td>1.80</td>\n",
       "      <td>Gaming</td>\n",
       "      <td>1317890</td>\n",
       "    </tr>\n",
       "    <tr>\n",
       "      <th>94</th>\n",
       "      <td>Gigabyte G7 KE</td>\n",
       "      <td>Intel</td>\n",
       "      <td>6.0</td>\n",
       "      <td>2.5</td>\n",
       "      <td>Intel Core i5</td>\n",
       "      <td>512.0</td>\n",
       "      <td>SSD</td>\n",
       "      <td>16.0</td>\n",
       "      <td>1920x1080 Full HD</td>\n",
       "      <td>IPS</td>\n",
       "      <td>Discrete</td>\n",
       "      <td>2.40</td>\n",
       "      <td>Gaming</td>\n",
       "      <td>649490</td>\n",
       "    </tr>\n",
       "    <tr>\n",
       "      <th>95</th>\n",
       "      <td>Gigabyte G7 KE</td>\n",
       "      <td>Intel</td>\n",
       "      <td>12.0</td>\n",
       "      <td>2.5</td>\n",
       "      <td>Intel Core i5</td>\n",
       "      <td>512.0</td>\n",
       "      <td>SSD</td>\n",
       "      <td>16.0</td>\n",
       "      <td>1920x1080 Full HD</td>\n",
       "      <td>IPS</td>\n",
       "      <td>Discrete</td>\n",
       "      <td>2.40</td>\n",
       "      <td>Gaming</td>\n",
       "      <td>719490</td>\n",
       "    </tr>\n",
       "    <tr>\n",
       "      <th>96</th>\n",
       "      <td>Gigabyte G7 ME</td>\n",
       "      <td>Intel</td>\n",
       "      <td>12.0</td>\n",
       "      <td>2.5</td>\n",
       "      <td>Intel Core i5</td>\n",
       "      <td>512.0</td>\n",
       "      <td>SSD</td>\n",
       "      <td>16.0</td>\n",
       "      <td>1920x1080 Full HD</td>\n",
       "      <td>IPS</td>\n",
       "      <td>Discrete</td>\n",
       "      <td>2.50</td>\n",
       "      <td>Gaming</td>\n",
       "      <td>654490</td>\n",
       "    </tr>\n",
       "  </tbody>\n",
       "</table>\n",
       "<p>97 rows × 14 columns</p>\n",
       "</div>"
      ],
      "text/plain": [
       "                         serie cpu_manufacturer  core  cpu_frequency  \\\n",
       "0          Asus TUF Gaming F15            Intel   6.0            2.6   \n",
       "1   Huawei HUAWEI MateBook D15            Intel   2.0            3.0   \n",
       "2                  Asus X515JA            Intel   4.0            1.0   \n",
       "3                  Asus X515JA            Intel   2.0            1.2   \n",
       "4          Asus TUF Gaming F15            Intel   4.0            2.5   \n",
       "..                         ...              ...   ...            ...   \n",
       "92              Gigabyte U4 UD            Intel   4.0            2.5   \n",
       "93        Gigabyte AERO 16 KE5            Intel  14.0            2.3   \n",
       "94              Gigabyte G7 KE            Intel   6.0            2.5   \n",
       "95              Gigabyte G7 KE            Intel  12.0            2.5   \n",
       "96              Gigabyte G7 ME            Intel  12.0            2.5   \n",
       "\n",
       "       cpu_series  memory_size memory_type   RAM         resolution  \\\n",
       "0   Intel Core i5        512.0         SSD  16.0  1920x1080 Full HD   \n",
       "1   Intel Core i3        256.0         SSD   8.0  1920x1080 Full HD   \n",
       "2   Intel Core i5        512.0         SSD   8.0  1920x1080 Full HD   \n",
       "3   Intel Core i3        256.0         SSD   8.0  1920x1080 Full HD   \n",
       "4   Intel Core i5        512.0         SSD  16.0  1920x1080 Full HD   \n",
       "..            ...          ...         ...   ...                ...   \n",
       "92  Intel Core i7        512.0         SSD  16.0  1920x1080 Full HD   \n",
       "93  Intel Core i7       1000.0         SSD  16.0   3840x2400 WQUXGA   \n",
       "94  Intel Core i5        512.0         SSD  16.0  1920x1080 Full HD   \n",
       "95  Intel Core i5        512.0         SSD  16.0  1920x1080 Full HD   \n",
       "96  Intel Core i5        512.0         SSD  16.0  1920x1080 Full HD   \n",
       "\n",
       "   matrix_type   videocard  weight laptop_class   prices  \n",
       "0          IPS    Discrete    2.30       Gaming   579990  \n",
       "1          IPS  Integrated    1.62   Non-gaming   299990  \n",
       "2          IPS  Integrated    1.80   Non-gaming   299990  \n",
       "3          IPS  Integrated    1.80   Non-gaming   219990  \n",
       "4          IPS    Discrete    2.30       Gaming   489990  \n",
       "..         ...         ...     ...          ...      ...  \n",
       "92         IPS  Integrated    1.00   Non-gaming   476390  \n",
       "93         IPS    Discrete    1.80       Gaming  1317890  \n",
       "94         IPS    Discrete    2.40       Gaming   649490  \n",
       "95         IPS    Discrete    2.40       Gaming   719490  \n",
       "96         IPS    Discrete    2.50       Gaming   654490  \n",
       "\n",
       "[97 rows x 14 columns]"
      ]
     },
     "execution_count": 23,
     "metadata": {},
     "output_type": "execute_result"
    }
   ],
   "source": [
    "#Making a copy of original dataframe and divide Videocard values to Intergrated and Discrete\n",
    "df_copy_2 = df.copy()\n",
    "\n",
    "for i in range(0, len(df_copy_2['videocard'])):\n",
    "    if df_copy_2['videocard'][i] != 'Integrated':\n",
    "        df_copy_2['videocard'][i] = 'Discrete'\n",
    "df_copy_2"
   ]
  },
  {
   "cell_type": "code",
   "execution_count": 24,
   "id": "35b9bd53",
   "metadata": {},
   "outputs": [
    {
     "data": {
      "text/html": [
       "<div>\n",
       "<style scoped>\n",
       "    .dataframe tbody tr th:only-of-type {\n",
       "        vertical-align: middle;\n",
       "    }\n",
       "\n",
       "    .dataframe tbody tr th {\n",
       "        vertical-align: top;\n",
       "    }\n",
       "\n",
       "    .dataframe thead th {\n",
       "        text-align: right;\n",
       "    }\n",
       "</style>\n",
       "<table border=\"1\" class=\"dataframe\">\n",
       "  <thead>\n",
       "    <tr style=\"text-align: right;\">\n",
       "      <th></th>\n",
       "      <th>serie</th>\n",
       "      <th>cpu_manufacturer</th>\n",
       "      <th>core</th>\n",
       "      <th>cpu_frequency</th>\n",
       "      <th>cpu_series</th>\n",
       "      <th>memory_size</th>\n",
       "      <th>memory_type</th>\n",
       "      <th>RAM</th>\n",
       "      <th>resolution</th>\n",
       "      <th>matrix_type</th>\n",
       "      <th>videocard</th>\n",
       "      <th>weight</th>\n",
       "      <th>laptop_class</th>\n",
       "      <th>prices</th>\n",
       "    </tr>\n",
       "  </thead>\n",
       "  <tbody>\n",
       "    <tr>\n",
       "      <th>0</th>\n",
       "      <td>Asus TUF Gaming F15</td>\n",
       "      <td>Intel</td>\n",
       "      <td>6.0</td>\n",
       "      <td>2.6</td>\n",
       "      <td>7</td>\n",
       "      <td>512.0</td>\n",
       "      <td>SSD</td>\n",
       "      <td>16.0</td>\n",
       "      <td>1920x1080 Full HD</td>\n",
       "      <td>IPS</td>\n",
       "      <td>0</td>\n",
       "      <td>2.30</td>\n",
       "      <td>Gaming</td>\n",
       "      <td>579990</td>\n",
       "    </tr>\n",
       "    <tr>\n",
       "      <th>1</th>\n",
       "      <td>Huawei HUAWEI MateBook D15</td>\n",
       "      <td>Intel</td>\n",
       "      <td>2.0</td>\n",
       "      <td>3.0</td>\n",
       "      <td>6</td>\n",
       "      <td>256.0</td>\n",
       "      <td>SSD</td>\n",
       "      <td>8.0</td>\n",
       "      <td>1920x1080 Full HD</td>\n",
       "      <td>IPS</td>\n",
       "      <td>1</td>\n",
       "      <td>1.62</td>\n",
       "      <td>Non-gaming</td>\n",
       "      <td>299990</td>\n",
       "    </tr>\n",
       "    <tr>\n",
       "      <th>2</th>\n",
       "      <td>Asus X515JA</td>\n",
       "      <td>Intel</td>\n",
       "      <td>4.0</td>\n",
       "      <td>1.0</td>\n",
       "      <td>7</td>\n",
       "      <td>512.0</td>\n",
       "      <td>SSD</td>\n",
       "      <td>8.0</td>\n",
       "      <td>1920x1080 Full HD</td>\n",
       "      <td>IPS</td>\n",
       "      <td>1</td>\n",
       "      <td>1.80</td>\n",
       "      <td>Non-gaming</td>\n",
       "      <td>299990</td>\n",
       "    </tr>\n",
       "    <tr>\n",
       "      <th>3</th>\n",
       "      <td>Asus X515JA</td>\n",
       "      <td>Intel</td>\n",
       "      <td>2.0</td>\n",
       "      <td>1.2</td>\n",
       "      <td>6</td>\n",
       "      <td>256.0</td>\n",
       "      <td>SSD</td>\n",
       "      <td>8.0</td>\n",
       "      <td>1920x1080 Full HD</td>\n",
       "      <td>IPS</td>\n",
       "      <td>1</td>\n",
       "      <td>1.80</td>\n",
       "      <td>Non-gaming</td>\n",
       "      <td>219990</td>\n",
       "    </tr>\n",
       "    <tr>\n",
       "      <th>4</th>\n",
       "      <td>Asus TUF Gaming F15</td>\n",
       "      <td>Intel</td>\n",
       "      <td>4.0</td>\n",
       "      <td>2.5</td>\n",
       "      <td>7</td>\n",
       "      <td>512.0</td>\n",
       "      <td>SSD</td>\n",
       "      <td>16.0</td>\n",
       "      <td>1920x1080 Full HD</td>\n",
       "      <td>IPS</td>\n",
       "      <td>0</td>\n",
       "      <td>2.30</td>\n",
       "      <td>Gaming</td>\n",
       "      <td>489990</td>\n",
       "    </tr>\n",
       "    <tr>\n",
       "      <th>...</th>\n",
       "      <td>...</td>\n",
       "      <td>...</td>\n",
       "      <td>...</td>\n",
       "      <td>...</td>\n",
       "      <td>...</td>\n",
       "      <td>...</td>\n",
       "      <td>...</td>\n",
       "      <td>...</td>\n",
       "      <td>...</td>\n",
       "      <td>...</td>\n",
       "      <td>...</td>\n",
       "      <td>...</td>\n",
       "      <td>...</td>\n",
       "      <td>...</td>\n",
       "    </tr>\n",
       "    <tr>\n",
       "      <th>92</th>\n",
       "      <td>Gigabyte U4 UD</td>\n",
       "      <td>Intel</td>\n",
       "      <td>4.0</td>\n",
       "      <td>2.5</td>\n",
       "      <td>8</td>\n",
       "      <td>512.0</td>\n",
       "      <td>SSD</td>\n",
       "      <td>16.0</td>\n",
       "      <td>1920x1080 Full HD</td>\n",
       "      <td>IPS</td>\n",
       "      <td>1</td>\n",
       "      <td>1.00</td>\n",
       "      <td>Non-gaming</td>\n",
       "      <td>476390</td>\n",
       "    </tr>\n",
       "    <tr>\n",
       "      <th>93</th>\n",
       "      <td>Gigabyte AERO 16 KE5</td>\n",
       "      <td>Intel</td>\n",
       "      <td>14.0</td>\n",
       "      <td>2.3</td>\n",
       "      <td>8</td>\n",
       "      <td>1000.0</td>\n",
       "      <td>SSD</td>\n",
       "      <td>16.0</td>\n",
       "      <td>3840x2400 WQUXGA</td>\n",
       "      <td>IPS</td>\n",
       "      <td>0</td>\n",
       "      <td>1.80</td>\n",
       "      <td>Gaming</td>\n",
       "      <td>1317890</td>\n",
       "    </tr>\n",
       "    <tr>\n",
       "      <th>94</th>\n",
       "      <td>Gigabyte G7 KE</td>\n",
       "      <td>Intel</td>\n",
       "      <td>6.0</td>\n",
       "      <td>2.5</td>\n",
       "      <td>7</td>\n",
       "      <td>512.0</td>\n",
       "      <td>SSD</td>\n",
       "      <td>16.0</td>\n",
       "      <td>1920x1080 Full HD</td>\n",
       "      <td>IPS</td>\n",
       "      <td>0</td>\n",
       "      <td>2.40</td>\n",
       "      <td>Gaming</td>\n",
       "      <td>649490</td>\n",
       "    </tr>\n",
       "    <tr>\n",
       "      <th>95</th>\n",
       "      <td>Gigabyte G7 KE</td>\n",
       "      <td>Intel</td>\n",
       "      <td>12.0</td>\n",
       "      <td>2.5</td>\n",
       "      <td>7</td>\n",
       "      <td>512.0</td>\n",
       "      <td>SSD</td>\n",
       "      <td>16.0</td>\n",
       "      <td>1920x1080 Full HD</td>\n",
       "      <td>IPS</td>\n",
       "      <td>0</td>\n",
       "      <td>2.40</td>\n",
       "      <td>Gaming</td>\n",
       "      <td>719490</td>\n",
       "    </tr>\n",
       "    <tr>\n",
       "      <th>96</th>\n",
       "      <td>Gigabyte G7 ME</td>\n",
       "      <td>Intel</td>\n",
       "      <td>12.0</td>\n",
       "      <td>2.5</td>\n",
       "      <td>7</td>\n",
       "      <td>512.0</td>\n",
       "      <td>SSD</td>\n",
       "      <td>16.0</td>\n",
       "      <td>1920x1080 Full HD</td>\n",
       "      <td>IPS</td>\n",
       "      <td>0</td>\n",
       "      <td>2.50</td>\n",
       "      <td>Gaming</td>\n",
       "      <td>654490</td>\n",
       "    </tr>\n",
       "  </tbody>\n",
       "</table>\n",
       "<p>97 rows × 14 columns</p>\n",
       "</div>"
      ],
      "text/plain": [
       "                         serie cpu_manufacturer  core  cpu_frequency  \\\n",
       "0          Asus TUF Gaming F15            Intel   6.0            2.6   \n",
       "1   Huawei HUAWEI MateBook D15            Intel   2.0            3.0   \n",
       "2                  Asus X515JA            Intel   4.0            1.0   \n",
       "3                  Asus X515JA            Intel   2.0            1.2   \n",
       "4          Asus TUF Gaming F15            Intel   4.0            2.5   \n",
       "..                         ...              ...   ...            ...   \n",
       "92              Gigabyte U4 UD            Intel   4.0            2.5   \n",
       "93        Gigabyte AERO 16 KE5            Intel  14.0            2.3   \n",
       "94              Gigabyte G7 KE            Intel   6.0            2.5   \n",
       "95              Gigabyte G7 KE            Intel  12.0            2.5   \n",
       "96              Gigabyte G7 ME            Intel  12.0            2.5   \n",
       "\n",
       "    cpu_series  memory_size memory_type   RAM         resolution matrix_type  \\\n",
       "0            7        512.0         SSD  16.0  1920x1080 Full HD         IPS   \n",
       "1            6        256.0         SSD   8.0  1920x1080 Full HD         IPS   \n",
       "2            7        512.0         SSD   8.0  1920x1080 Full HD         IPS   \n",
       "3            6        256.0         SSD   8.0  1920x1080 Full HD         IPS   \n",
       "4            7        512.0         SSD  16.0  1920x1080 Full HD         IPS   \n",
       "..         ...          ...         ...   ...                ...         ...   \n",
       "92           8        512.0         SSD  16.0  1920x1080 Full HD         IPS   \n",
       "93           8       1000.0         SSD  16.0   3840x2400 WQUXGA         IPS   \n",
       "94           7        512.0         SSD  16.0  1920x1080 Full HD         IPS   \n",
       "95           7        512.0         SSD  16.0  1920x1080 Full HD         IPS   \n",
       "96           7        512.0         SSD  16.0  1920x1080 Full HD         IPS   \n",
       "\n",
       "    videocard  weight laptop_class   prices  \n",
       "0           0    2.30       Gaming   579990  \n",
       "1           1    1.62   Non-gaming   299990  \n",
       "2           1    1.80   Non-gaming   299990  \n",
       "3           1    1.80   Non-gaming   219990  \n",
       "4           0    2.30       Gaming   489990  \n",
       "..        ...     ...          ...      ...  \n",
       "92          1    1.00   Non-gaming   476390  \n",
       "93          0    1.80       Gaming  1317890  \n",
       "94          0    2.40       Gaming   649490  \n",
       "95          0    2.40       Gaming   719490  \n",
       "96          0    2.50       Gaming   654490  \n",
       "\n",
       "[97 rows x 14 columns]"
      ]
     },
     "execution_count": 24,
     "metadata": {},
     "output_type": "execute_result"
    }
   ],
   "source": [
    "# We need to do label encoding\n",
    "\n",
    "df_copy_2['videocard'] = le.fit_transform(df_copy_2['videocard'].values)\n",
    "df_copy_2['cpu_series'] = le.fit_transform(df_copy_2['cpu_series'].values)\n",
    "df_copy_2"
   ]
  },
  {
   "cell_type": "code",
   "execution_count": 25,
   "id": "cd900977",
   "metadata": {},
   "outputs": [
    {
     "data": {
      "image/png": "[encoded data removed]",
      "text/plain": [
       "<Figure size 432x288 with 1 Axes>"
      ]
     },
     "metadata": {
      "needs_background": "light"
     },
     "output_type": "display_data"
    },
    {
     "data": {
      "image/png": "[encoded data removed]",
      "text/plain": [
       "<Figure size 457.25x360 with 1 Axes>"
      ]
     },
     "metadata": {
      "needs_background": "light"
     },
     "output_type": "display_data"
    },
    {
     "name": "stdout",
     "output_type": "stream",
     "text": [
      "Number of test cases: 30\n",
      "Number of correct answers: 25\n",
      "Fraction: 0.8333333333333334\n"
     ]
    },
    {
     "data": {
      "text/plain": [
       "0.8333333333333334"
      ]
     },
     "execution_count": 25,
     "metadata": {},
     "output_type": "execute_result"
    }
   ],
   "source": [
    "make_classification('videocard', 'RAM', True, df_copy_2)"
   ]
  },
  {
   "cell_type": "code",
   "execution_count": 26,
   "id": "c2138e23",
   "metadata": {},
   "outputs": [
    {
     "data": {
      "image/png": "[encoded data removed]",
      "text/plain": [
       "<Figure size 432x288 with 1 Axes>"
      ]
     },
     "metadata": {
      "needs_background": "light"
     },
     "output_type": "display_data"
    },
    {
     "data": {
      "image/png": "[encoded data removed]",
      "text/plain": [
       "<Figure size 457.25x360 with 1 Axes>"
      ]
     },
     "metadata": {
      "needs_background": "light"
     },
     "output_type": "display_data"
    },
    {
     "name": "stdout",
     "output_type": "stream",
     "text": [
      "Number of test cases: 30\n",
      "Number of correct answers: 27\n",
      "Fraction: 0.9\n"
     ]
    },
    {
     "data": {
      "text/plain": [
       "0.9"
      ]
     },
     "execution_count": 26,
     "metadata": {},
     "output_type": "execute_result"
    }
   ],
   "source": [
    "make_classification('videocard', 'cpu_frequency', True, df_copy_2)"
   ]
  },
  {
   "cell_type": "code",
   "execution_count": 27,
   "id": "a52a42d1",
   "metadata": {},
   "outputs": [
    {
     "data": {
      "image/png": "[encoded data removed]",
      "text/plain": [
       "<Figure size 432x288 with 1 Axes>"
      ]
     },
     "metadata": {
      "needs_background": "light"
     },
     "output_type": "display_data"
    },
    {
     "data": {
      "image/png": "[encoded data removed]",
      "text/plain": [
       "<Figure size 457.25x360 with 1 Axes>"
      ]
     },
     "metadata": {
      "needs_background": "light"
     },
     "output_type": "display_data"
    },
    {
     "name": "stdout",
     "output_type": "stream",
     "text": [
      "Number of test cases: 30\n",
      "Number of correct answers: 27\n",
      "Fraction: 0.9\n"
     ]
    },
    {
     "data": {
      "text/plain": [
       "0.9"
      ]
     },
     "execution_count": 27,
     "metadata": {},
     "output_type": "execute_result"
    }
   ],
   "source": [
    "make_classification('videocard', 'cpu_series', True, df_copy_2)"
   ]
  },
  {
   "cell_type": "code",
   "execution_count": 30,
   "id": "fe31e28d",
   "metadata": {},
   "outputs": [
    {
     "data": {
      "image/png": "[encoded data removed]",
      "text/plain": [
       "<Figure size 432x288 with 1 Axes>"
      ]
     },
     "metadata": {
      "needs_background": "light"
     },
     "output_type": "display_data"
    },
    {
     "data": {
      "image/png": "[encoded data removed]",
      "text/plain": [
       "<Figure size 457.25x360 with 1 Axes>"
      ]
     },
     "metadata": {
      "needs_background": "light"
     },
     "output_type": "display_data"
    },
    {
     "name": "stdout",
     "output_type": "stream",
     "text": [
      "Number of test cases: 30\n",
      "Number of correct answers: 25\n",
      "Fraction: 0.8333333333333334\n"
     ]
    },
    {
     "data": {
      "text/plain": [
       "0.8333333333333334"
      ]
     },
     "execution_count": 30,
     "metadata": {},
     "output_type": "execute_result"
    }
   ],
   "source": [
    "make_classification('videocard', 'core', True, df_copy_2)"
   ]
  },
  {
   "cell_type": "code",
   "execution_count": 33,
   "id": "6794e9e4",
   "metadata": {},
   "outputs": [
    {
     "name": "stdout",
     "output_type": "stream",
     "text": [
      "Features: Videocard and RAM 0.7456666666666665\n",
      "Features: Videocard and CPU frequency 0.8886666666666665\n",
      "Features: Videocard and CPU series 0.9063333333333332\n",
      "Features: Videocard and Cores 0.8789999999999997\n"
     ]
    }
   ],
   "source": [
    "videocard_ram_class = []\n",
    "videocard_frequency_class = []\n",
    "videocard_series_class = []\n",
    "videocard_core_class = []\n",
    "\n",
    "def find_average(lst):\n",
    "    sum = 0\n",
    "    \n",
    "    for num in lst:\n",
    "        sum += num\n",
    "    \n",
    "    return sum / len(lst)\n",
    "\n",
    "\n",
    "for i in range(100):\n",
    "    videocard_ram_class.append(make_classification('videocard', 'RAM', False, df_copy_2))\n",
    "    videocard_frequency_class.append(make_classification('videocard', 'cpu_frequency', False, df_copy_2))\n",
    "    videocard_series_class.append(make_classification('videocard', 'cpu_series', False, df_copy_2))\n",
    "    videocard_core_class.append(make_classification('videocard', 'core', False, df_copy_2))\n",
    "    \n",
    "print('Features: Videocard and RAM', find_average(videocard_ram_class))\n",
    "print('Features: Videocard and CPU frequency', find_average(videocard_frequency_class))\n",
    "print('Features: Videocard and CPU series', find_average(videocard_series_class))\n",
    "print('Features: Videocard and Cores', find_average(videocard_core_class))"
   ]
  },
  {
   "cell_type": "code",
   "execution_count": null,
   "id": "d89bd47c",
   "metadata": {},
   "outputs": [],
   "source": [
    "# Wen can see that results are slightly better in some cases. The biggest difference was \n",
    "# shown by the processor series and videocard"
   ]
  }
 ],
 "metadata": {
  "kernelspec": {
   "display_name": "Python 3 (ipykernel)",
   "language": "python",
   "name": "python3"
  },
  "language_info": {
   "codemirror_mode": {
    "name": "ipython",
    "version": 3
   },
   "file_extension": ".py",
   "mimetype": "text/x-python",
   "name": "python",
   "nbconvert_exporter": "python",
   "pygments_lexer": "ipython3",
   "version": "3.9.12"
  }
 },
 "nbformat": 4,
 "nbformat_minor": 5
}
